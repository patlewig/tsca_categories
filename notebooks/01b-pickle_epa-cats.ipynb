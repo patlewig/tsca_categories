{
 "cells": [
  {
   "cell_type": "code",
   "execution_count": 1,
   "id": "70143668-03ca-4e55-85c8-57b19dee7231",
   "metadata": {},
   "outputs": [],
   "source": [
    "import dill as pickle"
   ]
  },
  {
   "cell_type": "code",
   "execution_count": 2,
   "id": "5c501366-df91-4e8f-84ab-84f7cb6ac02f",
   "metadata": {},
   "outputs": [],
   "source": [
    "import pymongo\n",
    "from pymongo import MongoClient"
   ]
  },
  {
   "cell_type": "code",
   "execution_count": 3,
   "id": "f9df5a57-e6af-42de-992e-8f8e85514395",
   "metadata": {},
   "outputs": [],
   "source": [
    "client = MongoClient('mongodb://removed:27017/')"
   ]
  },
  {
   "cell_type": "code",
   "execution_count": 4,
   "id": "c4428654-a847-446e-bd31-408f4a19ff71",
   "metadata": {},
   "outputs": [
    {
     "data": {
      "text/plain": [
       "['admin', 'config', 'genra_db', 'genra_dev_v5', 'local']"
      ]
     },
     "execution_count": 4,
     "metadata": {},
     "output_type": "execute_result"
    }
   ],
   "source": [
    "client.list_database_names()"
   ]
  },
  {
   "cell_type": "code",
   "execution_count": 5,
   "id": "109299e8-11df-4419-b4dd-b84ec8f66e5e",
   "metadata": {},
   "outputs": [],
   "source": [
    "DB = client.genra_dev_v5"
   ]
  },
  {
   "cell_type": "code",
   "execution_count": 6,
   "id": "5f46200f-c173-468b-95ac-f74f934d7da4",
   "metadata": {},
   "outputs": [],
   "source": [
    "loael_smiles=DB.compounds.find({},{'_id':0,'dsstox_sid':1,'smiles':1}).limit(10)"
   ]
  },
  {
   "cell_type": "code",
   "execution_count": 7,
   "id": "76c2ec64-c839-4662-8a87-4aac329732e4",
   "metadata": {},
   "outputs": [],
   "source": [
    "smiles_dict={record['dsstox_sid']:record['smiles'] for record in loael_smiles if record['smiles']}"
   ]
  },
  {
   "cell_type": "code",
   "execution_count": 8,
   "id": "ac51cbee-8bd7-4a4c-8825-aff5fb80f654",
   "metadata": {},
   "outputs": [],
   "source": [
    "loael_logp = [e for e in DB.physprop.find({'dsstox_sid': {'$in': list(smiles_dict.keys())}}, {\"dsstox_sid\":1, \"predicted_props.OPERA_LogP\" : 1, \"_id\":0})]"
   ]
  },
  {
   "cell_type": "code",
   "execution_count": 9,
   "id": "cd112ea7-a413-4ac9-9ae4-d6276949b5a1",
   "metadata": {},
   "outputs": [],
   "source": [
    "logp_dict = {record['dsstox_sid']: record.get('predicted_props',{})['OPERA_LogP'][0] for record in loael_logp}"
   ]
  },
  {
   "cell_type": "code",
   "execution_count": 10,
   "id": "3c6efc41-97d2-4765-b88d-7dcffa0a6bc2",
   "metadata": {},
   "outputs": [],
   "source": [
    "loael_ws = [e for e in DB.physprop.find({'dsstox_sid': {'$in': list(smiles_dict.keys())}}, {\"dsstox_sid\":1, \"predicted_props.OPERA_WS\" : 1, \"_id\":0})]"
   ]
  },
  {
   "cell_type": "code",
   "execution_count": 11,
   "id": "7e9ee900-20ad-4213-ac72-abc5d57b56ea",
   "metadata": {},
   "outputs": [],
   "source": [
    "ws_dict = {record['dsstox_sid']: record.get('predicted_props',{})['OPERA_WS'][0] for record in loael_ws}\n"
   ]
  },
  {
   "cell_type": "code",
   "execution_count": 12,
   "id": "8576eaed-2a37-4e55-9b33-ab567bb57da6",
   "metadata": {},
   "outputs": [],
   "source": [
    "loael_weight = [e for e in DB.compounds.find({'dsstox_sid': {'$in': list(smiles_dict.keys())}}, {\"dsstox_sid\":1, \"mol_weight\" : 1, \"_id\":0})]"
   ]
  },
  {
   "cell_type": "code",
   "execution_count": 13,
   "id": "4242c5d9-c616-459c-9298-e705a4b6ddfd",
   "metadata": {},
   "outputs": [],
   "source": [
    "weight_dict={record['dsstox_sid']:record['mol_weight'] for record in loael_weight}"
   ]
  },
  {
   "cell_type": "code",
   "execution_count": 14,
   "id": "ac33cede-ba56-4212-ae55-4781bf3e9336",
   "metadata": {},
   "outputs": [],
   "source": [
    "sids=set(logp_dict.keys())&set(ws_dict.keys())&set(weight_dict.keys())&set(smiles_dict.keys())"
   ]
  },
  {
   "cell_type": "code",
   "execution_count": 16,
   "id": "61dc0b66-0be5-41ce-8dcc-d37f7e7f7833",
   "metadata": {},
   "outputs": [],
   "source": [
    "from rdkit import Chem"
   ]
  },
  {
   "cell_type": "code",
   "execution_count": 17,
   "id": "46ca8ec3-b791-4f7e-91b3-4e42aba687d8",
   "metadata": {},
   "outputs": [],
   "source": [
    "import os"
   ]
  },
  {
   "cell_type": "code",
   "execution_count": 18,
   "id": "3c644068-8522-41de-828d-9567c9c80bd4",
   "metadata": {},
   "outputs": [],
   "source": [
    "TOP = os.getcwd().replace('notebooks', '')\n",
    "raw_dir = TOP + 'data/raw/'\n",
    "interim_dir = TOP + 'data/interim/'\n",
    "external_dir = TOP + 'data/external/'\n",
    "figures_dir = TOP + 'reports/figures/'"
   ]
  },
  {
   "cell_type": "code",
   "execution_count": 19,
   "id": "441f7789-785f-4375-889c-62bc206f958b",
   "metadata": {},
   "outputs": [],
   "source": [
    "\n",
    "records=[]\n",
    "for sid in sids:\n",
    "    records.append({'dsstox_sid':sid,'smiles':smiles_dict[sid],'logp':logp_dict[sid],'ws':ws_dict[sid],'mol_weight':weight_dict[sid],'mol':Chem.MolFromSmiles(smiles_dict[sid])})\n",
    "records=[record for record in records if record['mol']]"
   ]
  },
  {
   "cell_type": "code",
   "execution_count": 21,
   "id": "df0c3197-4cf2-49c9-b2b8-566afb459a3c",
   "metadata": {},
   "outputs": [],
   "source": [
    "with open(external_dir+\"epa_cats.pkl\", \"rb\") as output_file:\n",
    "     new_tests = pickle.load(output_file)"
   ]
  },
  {
   "cell_type": "code",
   "execution_count": 23,
   "id": "5bf988eb-1d47-4316-be17-e85d1e22c8ec",
   "metadata": {},
   "outputs": [],
   "source": [
    "#new_tests"
   ]
  },
  {
   "cell_type": "code",
   "execution_count": 25,
   "id": "e871e15d-cdeb-4eb2-a15f-7c5138681c2a",
   "metadata": {},
   "outputs": [],
   "source": [
    "def convert_ppb(x): #OPERA results stored as mol/L\n",
    "    ws=x['ws']\n",
    "    mol_weight=x['mol_weight']\n",
    "    return ws*mol_weight*10**6"
   ]
  },
  {
   "cell_type": "code",
   "execution_count": 27,
   "id": "35773082-08cf-4b7a-bf79-d32279d32a7d",
   "metadata": {},
   "outputs": [],
   "source": [
    "import operator as op\n",
    "op_dict={\n",
    "    'GreaterThan': op.gt,\n",
    "    'GreaterThanOrEqualTo': op.ge,\n",
    "    'LessThan': op.lt,\n",
    "    'LessThanOrEqualTo': op.le\n",
    "}\n",
    "prop_dict={\n",
    "    'log Kow':'logp',\n",
    "    'Molecular Weight':'mol_weight',\n",
    "    'Molecular weight':'mol_weight',\n",
    "    'Water Solubility': 'ws'\n",
    "}"
   ]
  },
  {
   "cell_type": "code",
   "execution_count": 28,
   "id": "cfcd7e7d-49e1-445d-b0b4-4ce8156e78cf",
   "metadata": {},
   "outputs": [],
   "source": [
    "import math\n",
    "for record in records:\n",
    "    #print(record)\n",
    "    epa_categories=sorted([category for category,test in new_tests.items() if test(record)])\n",
    "    if 'Neutral Organics' in epa_categories and len(epa_categories)>1:\n",
    "        epa_categories.remove('Neutral Organics')\n",
    "    record['categories']=tuple(epa_categories)"
   ]
  },
  {
   "cell_type": "code",
   "execution_count": 30,
   "id": "edc067b1-5f96-44c6-a63d-4de66f73fcd7",
   "metadata": {},
   "outputs": [],
   "source": [
    "import pandas as pd"
   ]
  },
  {
   "cell_type": "code",
   "execution_count": 31,
   "id": "185e0aab-dfa8-48c0-a05d-fa9c600a8638",
   "metadata": {},
   "outputs": [
    {
     "data": {
      "text/html": [
       "<div>\n",
       "<style scoped>\n",
       "    .dataframe tbody tr th:only-of-type {\n",
       "        vertical-align: middle;\n",
       "    }\n",
       "\n",
       "    .dataframe tbody tr th {\n",
       "        vertical-align: top;\n",
       "    }\n",
       "\n",
       "    .dataframe thead th {\n",
       "        text-align: right;\n",
       "    }\n",
       "</style>\n",
       "<table border=\"1\" class=\"dataframe\">\n",
       "  <thead>\n",
       "    <tr style=\"text-align: right;\">\n",
       "      <th></th>\n",
       "      <th>dsstox_sid</th>\n",
       "      <th>smiles</th>\n",
       "      <th>logp</th>\n",
       "      <th>ws</th>\n",
       "      <th>mol_weight</th>\n",
       "      <th>mol</th>\n",
       "      <th>categories</th>\n",
       "    </tr>\n",
       "  </thead>\n",
       "  <tbody>\n",
       "    <tr>\n",
       "      <th>0</th>\n",
       "      <td>DTXSID7020009</td>\n",
       "      <td>CC#N</td>\n",
       "      <td>-0.316894</td>\n",
       "      <td>8.599130</td>\n",
       "      <td>41.053</td>\n",
       "      <td>&lt;rdkit.Chem.rdchem.Mol object at 0x76801ab43610&gt;</td>\n",
       "      <td>()</td>\n",
       "    </tr>\n",
       "    <tr>\n",
       "      <th>1</th>\n",
       "      <td>DTXSID7020007</td>\n",
       "      <td>CC(=O)C1=CC=C(C=C1)S(=O)(=O)NC(=O)NC1CCCCC1</td>\n",
       "      <td>1.651440</td>\n",
       "      <td>0.001395</td>\n",
       "      <td>324.400</td>\n",
       "      <td>&lt;rdkit.Chem.rdchem.Mol object at 0x76801ab43680&gt;</td>\n",
       "      <td>()</td>\n",
       "    </tr>\n",
       "    <tr>\n",
       "      <th>2</th>\n",
       "      <td>DTXSID6020010</td>\n",
       "      <td>CC(C)=NO</td>\n",
       "      <td>0.882667</td>\n",
       "      <td>1.693560</td>\n",
       "      <td>73.095</td>\n",
       "      <td>&lt;rdkit.Chem.rdchem.Mol object at 0x76801ab436f0&gt;</td>\n",
       "      <td>()</td>\n",
       "    </tr>\n",
       "    <tr>\n",
       "      <th>3</th>\n",
       "      <td>DTXSID2020008</td>\n",
       "      <td>CC(C)=NNC1=NC=C(S1)C1=CC=C(O1)[N+]([O-])=O</td>\n",
       "      <td>1.543630</td>\n",
       "      <td>0.000033</td>\n",
       "      <td>266.280</td>\n",
       "      <td>&lt;rdkit.Chem.rdchem.Mol object at 0x76801ab43760&gt;</td>\n",
       "      <td>(Hydrazines and Related Compounds,)</td>\n",
       "    </tr>\n",
       "    <tr>\n",
       "      <th>4</th>\n",
       "      <td>DTXSID7020005</td>\n",
       "      <td>CC(N)=O</td>\n",
       "      <td>-1.205700</td>\n",
       "      <td>19.002900</td>\n",
       "      <td>59.068</td>\n",
       "      <td>&lt;rdkit.Chem.rdchem.Mol object at 0x76801ab437d0&gt;</td>\n",
       "      <td>()</td>\n",
       "    </tr>\n",
       "    <tr>\n",
       "      <th>5</th>\n",
       "      <td>DTXSID1020013</td>\n",
       "      <td>CC(=O)NNC(=O)C1=CC=NC=C1</td>\n",
       "      <td>-0.577089</td>\n",
       "      <td>0.380852</td>\n",
       "      <td>179.179</td>\n",
       "      <td>&lt;rdkit.Chem.rdchem.Mol object at 0x76801ab43840&gt;</td>\n",
       "      <td>(Hydrazines and Related Compounds,)</td>\n",
       "    </tr>\n",
       "    <tr>\n",
       "      <th>6</th>\n",
       "      <td>DTXSID2020006</td>\n",
       "      <td>CC(=O)NC1=CC=C(O)C=C1</td>\n",
       "      <td>0.875449</td>\n",
       "      <td>1.110260</td>\n",
       "      <td>151.165</td>\n",
       "      <td>&lt;rdkit.Chem.rdchem.Mol object at 0x76801ab438b0&gt;</td>\n",
       "      <td>(Phenols (Acute toxicity),)</td>\n",
       "    </tr>\n",
       "    <tr>\n",
       "      <th>7</th>\n",
       "      <td>DTXSID7020001</td>\n",
       "      <td>NC1=NC2=C(C=C1)C1=CC=CC=C1N2</td>\n",
       "      <td>2.639690</td>\n",
       "      <td>0.015397</td>\n",
       "      <td>183.214</td>\n",
       "      <td>&lt;rdkit.Chem.rdchem.Mol object at 0x76801ab43920&gt;</td>\n",
       "      <td>()</td>\n",
       "    </tr>\n",
       "    <tr>\n",
       "      <th>8</th>\n",
       "      <td>DTXSID6020012</td>\n",
       "      <td>CC(=O)NNC1=CC=C(CO)C=C1</td>\n",
       "      <td>0.764281</td>\n",
       "      <td>0.686068</td>\n",
       "      <td>180.207</td>\n",
       "      <td>&lt;rdkit.Chem.rdchem.Mol object at 0x76801ab43990&gt;</td>\n",
       "      <td>(Hydrazines and Related Compounds,)</td>\n",
       "    </tr>\n",
       "    <tr>\n",
       "      <th>9</th>\n",
       "      <td>DTXSID2020004</td>\n",
       "      <td>CC=NO</td>\n",
       "      <td>0.267325</td>\n",
       "      <td>5.883100</td>\n",
       "      <td>59.068</td>\n",
       "      <td>&lt;rdkit.Chem.rdchem.Mol object at 0x76801ab43a00&gt;</td>\n",
       "      <td>()</td>\n",
       "    </tr>\n",
       "  </tbody>\n",
       "</table>\n",
       "</div>"
      ],
      "text/plain": [
       "      dsstox_sid                                       smiles      logp  \\\n",
       "0  DTXSID7020009                                         CC#N -0.316894   \n",
       "1  DTXSID7020007  CC(=O)C1=CC=C(C=C1)S(=O)(=O)NC(=O)NC1CCCCC1  1.651440   \n",
       "2  DTXSID6020010                                     CC(C)=NO  0.882667   \n",
       "3  DTXSID2020008   CC(C)=NNC1=NC=C(S1)C1=CC=C(O1)[N+]([O-])=O  1.543630   \n",
       "4  DTXSID7020005                                      CC(N)=O -1.205700   \n",
       "5  DTXSID1020013                     CC(=O)NNC(=O)C1=CC=NC=C1 -0.577089   \n",
       "6  DTXSID2020006                        CC(=O)NC1=CC=C(O)C=C1  0.875449   \n",
       "7  DTXSID7020001                 NC1=NC2=C(C=C1)C1=CC=CC=C1N2  2.639690   \n",
       "8  DTXSID6020012                      CC(=O)NNC1=CC=C(CO)C=C1  0.764281   \n",
       "9  DTXSID2020004                                        CC=NO  0.267325   \n",
       "\n",
       "          ws  mol_weight                                               mol  \\\n",
       "0   8.599130      41.053  <rdkit.Chem.rdchem.Mol object at 0x76801ab43610>   \n",
       "1   0.001395     324.400  <rdkit.Chem.rdchem.Mol object at 0x76801ab43680>   \n",
       "2   1.693560      73.095  <rdkit.Chem.rdchem.Mol object at 0x76801ab436f0>   \n",
       "3   0.000033     266.280  <rdkit.Chem.rdchem.Mol object at 0x76801ab43760>   \n",
       "4  19.002900      59.068  <rdkit.Chem.rdchem.Mol object at 0x76801ab437d0>   \n",
       "5   0.380852     179.179  <rdkit.Chem.rdchem.Mol object at 0x76801ab43840>   \n",
       "6   1.110260     151.165  <rdkit.Chem.rdchem.Mol object at 0x76801ab438b0>   \n",
       "7   0.015397     183.214  <rdkit.Chem.rdchem.Mol object at 0x76801ab43920>   \n",
       "8   0.686068     180.207  <rdkit.Chem.rdchem.Mol object at 0x76801ab43990>   \n",
       "9   5.883100      59.068  <rdkit.Chem.rdchem.Mol object at 0x76801ab43a00>   \n",
       "\n",
       "                            categories  \n",
       "0                                   ()  \n",
       "1                                   ()  \n",
       "2                                   ()  \n",
       "3  (Hydrazines and Related Compounds,)  \n",
       "4                                   ()  \n",
       "5  (Hydrazines and Related Compounds,)  \n",
       "6          (Phenols (Acute toxicity),)  \n",
       "7                                   ()  \n",
       "8  (Hydrazines and Related Compounds,)  \n",
       "9                                   ()  "
      ]
     },
     "execution_count": 31,
     "metadata": {},
     "output_type": "execute_result"
    }
   ],
   "source": [
    "pd.DataFrame(records)"
   ]
  },
  {
   "cell_type": "code",
   "execution_count": 33,
   "id": "c62063c7-d392-41a7-8644-1fcb1c0b1b8e",
   "metadata": {},
   "outputs": [],
   "source": [
    "tsca_df = pd.read_excel(interim_dir+'TSCA_OPERA_predictions_080722.xlsx')\n",
    "tsca_df2 = tsca_df[tsca_df['errors'].isnull()]\n",
    "tsca_df2 = tsca_df2.reset_index()\n",
    "epa_cats_df = tsca_df2[['dtxsid','qsar_ready_smiles','LogP_pred','WS_pred_mol/L','MolWeight']]"
   ]
  },
  {
   "cell_type": "code",
   "execution_count": 34,
   "id": "04fe6b18-bdf7-4c49-bd81-f24285a77313",
   "metadata": {},
   "outputs": [],
   "source": [
    "epa_cats_df.columns = ['dsstox_sid', 'smiles', 'logp', 'ws', 'mol_weight']"
   ]
  },
  {
   "cell_type": "code",
   "execution_count": 36,
   "id": "904d2fc5-ca06-49aa-9fc3-8dbe9539950f",
   "metadata": {},
   "outputs": [],
   "source": [
    "#epa_cats_df"
   ]
  },
  {
   "cell_type": "code",
   "execution_count": 37,
   "id": "0fc41b2b-5a43-43a4-8b59-3824943e64f6",
   "metadata": {},
   "outputs": [
    {
     "name": "stderr",
     "output_type": "stream",
     "text": [
      "/tmp/ipykernel_1341721/3950929722.py:1: SettingWithCopyWarning: \n",
      "A value is trying to be set on a copy of a slice from a DataFrame.\n",
      "Try using .loc[row_indexer,col_indexer] = value instead\n",
      "\n",
      "See the caveats in the documentation: https://pandas.pydata.org/pandas-docs/stable/user_guide/indexing.html#returning-a-view-versus-a-copy\n",
      "  epa_cats_df['mol'] = [Chem.MolFromSmiles(e) for e in epa_cats_df['smiles']]\n"
     ]
    }
   ],
   "source": [
    "epa_cats_df['mol'] = [Chem.MolFromSmiles(e) for e in epa_cats_df['smiles']]"
   ]
  },
  {
   "cell_type": "code",
   "execution_count": 38,
   "id": "5f99d275-fdff-416c-929b-f05802a1f484",
   "metadata": {},
   "outputs": [],
   "source": [
    "epa_cats_dict = epa_cats_df.to_dict('records')"
   ]
  },
  {
   "cell_type": "code",
   "execution_count": 40,
   "id": "5236a310-f9f5-44cc-81be-9d1832c1781b",
   "metadata": {},
   "outputs": [],
   "source": [
    "import re"
   ]
  },
  {
   "cell_type": "code",
   "execution_count": 41,
   "id": "6da8436f-f0f3-48aa-8b1c-d63784159a2b",
   "metadata": {},
   "outputs": [],
   "source": [
    "for record in epa_cats_dict:\n",
    "    #print(record)\n",
    "    epa_categories=sorted([category for category,test in new_tests.items() if test(record)])\n",
    "    if 'Neutral Organics' in epa_categories and len(epa_categories)>1:\n",
    "        epa_categories.remove('Neutral Organics')\n",
    "    record['categories']=tuple(epa_categories)"
   ]
  },
  {
   "cell_type": "code",
   "execution_count": 42,
   "id": "ac0a3ef0-7b24-4e62-a026-b0d737d6514f",
   "metadata": {},
   "outputs": [],
   "source": [
    "epa_cats_dict_df = pd.DataFrame(epa_cats_dict)"
   ]
  },
  {
   "cell_type": "code",
   "execution_count": 43,
   "id": "40ab734e-ca2b-4322-a2ab-f9c9bc0766c5",
   "metadata": {},
   "outputs": [
    {
     "data": {
      "text/plain": [
       "categories\n",
       "()                                                                        5699\n",
       "(Neutral Organics,)                                                       2667\n",
       "(Esters (Acute toxicity),)                                                1310\n",
       "(Phenols (Acute toxicity),)                                                502\n",
       "(Anilines (Acute toxicity),)                                               407\n",
       "                                                                          ... \n",
       "(Esters (Chronic toxicity), Substituted Triazines (Chronic toxicity))        1\n",
       "(Benzotriazoles (Acute toxicity), Polynitroaromatics (Acute toxicity))       1\n",
       "(Phenols (Acute toxicity), Thiols (Acute toxicity))                          1\n",
       "(Hydrazines and Related Compounds, Imides (Acute toxicity))                  1\n",
       "(Epoxides, Esters (Chronic toxicity))                                        1\n",
       "Name: count, Length: 143, dtype: int64"
      ]
     },
     "execution_count": 43,
     "metadata": {},
     "output_type": "execute_result"
    }
   ],
   "source": [
    "epa_cats_dict_df['categories'].value_counts()"
   ]
  },
  {
   "cell_type": "code",
   "execution_count": 45,
   "id": "5c69f9f1-db0c-4a70-8baa-1ac898e5cf5d",
   "metadata": {},
   "outputs": [],
   "source": [
    "import asyncio\n",
    "import aiohttp"
   ]
  },
  {
   "cell_type": "code",
   "execution_count": null,
   "id": "f78ed825-9958-4afc-9448-7b1d5dc7b204",
   "metadata": {},
   "outputs": [],
   "source": []
  }
 ],
 "metadata": {
  "kernelspec": {
   "display_name": "py310",
   "language": "python",
   "name": "py310"
  },
  "language_info": {
   "codemirror_mode": {
    "name": "ipython",
    "version": 3
   },
   "file_extension": ".py",
   "mimetype": "text/x-python",
   "name": "python",
   "nbconvert_exporter": "python",
   "pygments_lexer": "ipython3",
   "version": "3.10.14"
  },
  "widgets": {
   "application/vnd.jupyter.widget-state+json": {
    "state": {},
    "version_major": 2,
    "version_minor": 0
   }
  }
 },
 "nbformat": 4,
 "nbformat_minor": 5
}
