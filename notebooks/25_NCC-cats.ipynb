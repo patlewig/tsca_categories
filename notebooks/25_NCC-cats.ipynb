{
 "cells": [
  {
   "cell_type": "code",
   "execution_count": 1,
   "id": "8298387c-90fb-4aca-8fb7-592747491c46",
   "metadata": {},
   "outputs": [],
   "source": [
    "import pandas as pd\n",
    "import numpy as np\n",
    "from rdkit import Chem\n",
    "from rdkit.Chem import AllChem\n",
    "import os\n",
    "import pickle\n",
    "import openpyxl\n",
    "import dill as pickle"
   ]
  },
  {
   "cell_type": "code",
   "execution_count": 2,
   "id": "44444a45-5759-4d75-92ac-a5fb892fd0d0",
   "metadata": {},
   "outputs": [],
   "source": [
    "TOP = os.getcwd().replace('notebooks', '')\n",
    "raw_dir = TOP + 'data/raw/'\n",
    "interim_dir = TOP + 'data/interim/'\n",
    "external_dir = TOP + 'data/external/'\n",
    "processed_dir = TOP + 'data/processed/'\n",
    "figures_dir = TOP + 'reports/figures/'"
   ]
  },
  {
   "cell_type": "code",
   "execution_count": 3,
   "id": "cb323a51-608b-467b-af4e-55539aac6f9a",
   "metadata": {},
   "outputs": [],
   "source": [
    "toxval = pd.read_excel(processed_dir+'CCD-Batch-Search_2024-09-03_10_31_46_toxvalids.xlsx', sheet_name = 'Main Data')"
   ]
  },
  {
   "cell_type": "code",
   "execution_count": 4,
   "id": "607c1bc5-75a8-4b3d-92dc-d1f4d6c906b8",
   "metadata": {},
   "outputs": [],
   "source": [
    "smi_dict = (toxval\n",
    " .assign(smiles = lambda x: x['SMILES'].str.replace('  ', '', regex = True).str.replace(r'^$', '', regex=True).replace(' ', np.nan))\n",
    " .dropna(subset = ['smiles'])\n",
    " .set_index('DTXSID')['smiles'].to_dict()\n",
    ")\n"
   ]
  },
  {
   "cell_type": "code",
   "execution_count": 5,
   "id": "67144b7c-ec0c-4e2a-bf37-16a16881562a",
   "metadata": {},
   "outputs": [],
   "source": [
    "toxval =  (toxval\n",
    " .assign(smiles = lambda x: x['SMILES'].str.replace('  ', '', regex = True).str.replace(r'^$', '', regex=True).replace(' ', np.nan))\n",
    " .dropna(subset = ['smiles'])\n",
    " )"
   ]
  },
  {
   "cell_type": "code",
   "execution_count": 6,
   "id": "1f80b8a8-d943-4fb7-b521-64d57f156755",
   "metadata": {},
   "outputs": [
    {
     "name": "stderr",
     "output_type": "stream",
     "text": [
      "[10:28:53] WARNING: not removing hydrogen atom without neighbors\n",
      "[10:28:53] WARNING: not removing hydrogen atom without neighbors\n",
      "[10:28:53] Explicit valence for atom # 2 Cl, 2, is greater than permitted\n",
      "[10:28:53] WARNING: not removing hydrogen atom without neighbors\n",
      "[10:28:53] WARNING: not removing hydrogen atom without neighbors\n",
      "[10:28:53] WARNING: not removing hydrogen atom without neighbors\n",
      "[10:28:53] WARNING: not removing hydrogen atom without neighbors\n",
      "[10:28:53] Explicit valence for atom # 2 Cl, 2, is greater than permitted\n",
      "[10:28:53] WARNING: not removing hydrogen atom without neighbors\n",
      "[10:28:53] Can't kekulize mol.  Unkekulized atoms: 1 2 3 4 5\n"
     ]
    }
   ],
   "source": [
    "smi_dict2 = {k:Chem.MolFromSmiles(v) for k,v in zip(toxval['DTXSID'], toxval['smiles'])}"
   ]
  },
  {
   "cell_type": "code",
   "execution_count": 7,
   "id": "46c41ee2-1f36-4f05-9a52-094d75916bd7",
   "metadata": {},
   "outputs": [],
   "source": [
    "s = list(smi_dict2.keys())"
   ]
  },
  {
   "cell_type": "code",
   "execution_count": 8,
   "id": "9c3e59d6-07d5-41bc-a88d-c4252dfeed7f",
   "metadata": {},
   "outputs": [],
   "source": [
    "toxval2 = (toxval\n",
    ".query('DTXSID in @s')\n",
    ")"
   ]
  },
  {
   "cell_type": "code",
   "execution_count": 9,
   "id": "d27cfac1-bc94-459c-9354-b45d6ee8ec35",
   "metadata": {},
   "outputs": [],
   "source": [
    "df = pd.read_excel(interim_dir+'tsca_categorisation_290624_wmappingdict.xlsx', index_col = [0])"
   ]
  },
  {
   "cell_type": "code",
   "execution_count": 10,
   "id": "5fe65373-6e18-4f8c-9935-e8250b5e2742",
   "metadata": {},
   "outputs": [],
   "source": [
    "toxval2 = (toxval2\n",
    " .merge(df[['dtxsid',  'NCC',  'group']], left_on = 'DTXSID', right_on = 'dtxsid', how = 'left')\n",
    " \n",
    ")"
   ]
  },
  {
   "cell_type": "code",
   "execution_count": 11,
   "id": "53a067b4-a048-4282-89b6-2897ee17d180",
   "metadata": {},
   "outputs": [],
   "source": [
    "tsca_df = df[['dtxsid',  'NCC', 'ClassyFire', 'group']]"
   ]
  },
  {
   "cell_type": "code",
   "execution_count": 12,
   "id": "e063cadf-6778-4b3b-bdc3-5cf5c77dd578",
   "metadata": {},
   "outputs": [],
   "source": [
    "import pickle\n",
    "filename = 'finalized_rf_model_mgrn.sav'\n",
    "rf_model = pickle.load(open(external_dir+filename, 'rb'))"
   ]
  },
  {
   "cell_type": "code",
   "execution_count": 13,
   "id": "6f5b88d6-0def-4c59-987c-84fc088cdbe5",
   "metadata": {},
   "outputs": [],
   "source": [
    "my_dict = pickle.load(open(external_dir+'category_mapping_mgrn.pkl', 'rb'))"
   ]
  },
  {
   "cell_type": "code",
   "execution_count": 14,
   "id": "c2b397ea-ddb2-4f68-a8f0-3ccdacb81220",
   "metadata": {},
   "outputs": [],
   "source": [
    "class MoleculeProcessor:\n",
    "    def __init__(self, smiles, dtx):\n",
    "        self.mol = Chem.MolFromSmiles(smiles)\n",
    "        self.dtx = dtx\n",
    "\n",
    "    def get_morgan_fingerprint(self, radius = 3, nBits=2048):\n",
    "        mgrn_df = pd.DataFrame([np.array(AllChem.GetMorganFingerprintAsBitVect(self.mol,radius,nBits))] )\n",
    "        mgrn_df.columns = ['mrgn_%d'%i for i in mgrn_df.columns]\n",
    "        mgrn_df.index = [self.dtx]\n",
    "        return mgrn_df\n",
    "    "
   ]
  },
  {
   "cell_type": "code",
   "execution_count": 15,
   "id": "3791676a-8ba0-4e2a-b926-1426ab67af73",
   "metadata": {},
   "outputs": [],
   "source": [
    "cm = MoleculeProcessor( 'CCCC',123)"
   ]
  },
  {
   "cell_type": "code",
   "execution_count": 16,
   "id": "515678b8-d1f8-4437-be33-56c7d9bb39f1",
   "metadata": {},
   "outputs": [],
   "source": [
    "test = cm.get_morgan_fingerprint()"
   ]
  },
  {
   "cell_type": "code",
   "execution_count": 17,
   "id": "c3179f68-e44f-4fcb-9622-defcefddf5b2",
   "metadata": {},
   "outputs": [
    {
     "name": "stderr",
     "output_type": "stream",
     "text": [
      "[10:29:39] WARNING: not removing hydrogen atom without neighbors\n",
      "[10:29:39] WARNING: not removing hydrogen atom without neighbors\n",
      "[10:29:39] Explicit valence for atom # 2 Cl, 2, is greater than permitted\n",
      "[10:29:39] WARNING: not removing hydrogen atom without neighbors\n",
      "[10:29:39] WARNING: not removing hydrogen atom without neighbors\n"
     ]
    },
    {
     "name": "stdout",
     "output_type": "stream",
     "text": [
      "Python argument types in\n",
      "    rdkit.Chem.rdMolDescriptors.GetMorganFingerprintAsBitVect(NoneType, int, int)\n",
      "did not match C++ signature:\n",
      "    GetMorganFingerprintAsBitVect(RDKit::ROMol mol, unsigned int radius, unsigned int nBits=2048, boost::python::api::object invariants=[], boost::python::api::object fromAtoms=[], bool useChirality=False, bool useBondTypes=True, bool useFeatures=False, boost::python::api::object bitInfo=None, bool includeRedundantEnvironments=False)\n",
      "Python argument types in\n",
      "    rdkit.Chem.rdMolDescriptors.GetMorganFingerprintAsBitVect(NoneType, int, int)\n",
      "did not match C++ signature:\n",
      "    GetMorganFingerprintAsBitVect(RDKit::ROMol mol, unsigned int radius, unsigned int nBits=2048, boost::python::api::object invariants=[], boost::python::api::object fromAtoms=[], bool useChirality=False, bool useBondTypes=True, bool useFeatures=False, boost::python::api::object bitInfo=None, bool includeRedundantEnvironments=False)\n"
     ]
    },
    {
     "name": "stderr",
     "output_type": "stream",
     "text": [
      "[10:29:50] WARNING: not removing hydrogen atom without neighbors\n",
      "[10:29:50] WARNING: not removing hydrogen atom without neighbors\n",
      "[10:29:57] Explicit valence for atom # 2 Cl, 2, is greater than permitted\n"
     ]
    },
    {
     "name": "stdout",
     "output_type": "stream",
     "text": [
      "Python argument types in\n",
      "    rdkit.Chem.rdMolDescriptors.GetMorganFingerprintAsBitVect(NoneType, int, int)\n",
      "did not match C++ signature:\n",
      "    GetMorganFingerprintAsBitVect(RDKit::ROMol mol, unsigned int radius, unsigned int nBits=2048, boost::python::api::object invariants=[], boost::python::api::object fromAtoms=[], bool useChirality=False, bool useBondTypes=True, bool useFeatures=False, boost::python::api::object bitInfo=None, bool includeRedundantEnvironments=False)\n",
      "Python argument types in\n",
      "    rdkit.Chem.rdMolDescriptors.GetMorganFingerprintAsBitVect(NoneType, int, int)\n",
      "did not match C++ signature:\n",
      "    GetMorganFingerprintAsBitVect(RDKit::ROMol mol, unsigned int radius, unsigned int nBits=2048, boost::python::api::object invariants=[], boost::python::api::object fromAtoms=[], bool useChirality=False, bool useBondTypes=True, bool useFeatures=False, boost::python::api::object bitInfo=None, bool includeRedundantEnvironments=False)\n",
      "Python argument types in\n",
      "    rdkit.Chem.rdMolDescriptors.GetMorganFingerprintAsBitVect(NoneType, int, int)\n",
      "did not match C++ signature:\n",
      "    GetMorganFingerprintAsBitVect(RDKit::ROMol mol, unsigned int radius, unsigned int nBits=2048, boost::python::api::object invariants=[], boost::python::api::object fromAtoms=[], bool useChirality=False, bool useBondTypes=True, bool useFeatures=False, boost::python::api::object bitInfo=None, bool includeRedundantEnvironments=False)\n"
     ]
    },
    {
     "name": "stderr",
     "output_type": "stream",
     "text": [
      "[10:30:24] WARNING: not removing hydrogen atom without neighbors\n"
     ]
    },
    {
     "name": "stdout",
     "output_type": "stream",
     "text": [
      "Python argument types in\n",
      "    rdkit.Chem.rdMolDescriptors.GetMorganFingerprintAsBitVect(NoneType, int, int)\n",
      "did not match C++ signature:\n",
      "    GetMorganFingerprintAsBitVect(RDKit::ROMol mol, unsigned int radius, unsigned int nBits=2048, boost::python::api::object invariants=[], boost::python::api::object fromAtoms=[], bool useChirality=False, bool useBondTypes=True, bool useFeatures=False, boost::python::api::object bitInfo=None, bool includeRedundantEnvironments=False)\n"
     ]
    },
    {
     "name": "stderr",
     "output_type": "stream",
     "text": [
      "[10:30:37] Can't kekulize mol.  Unkekulized atoms: 1 2 3 4 5\n"
     ]
    },
    {
     "name": "stdout",
     "output_type": "stream",
     "text": [
      "Python argument types in\n",
      "    rdkit.Chem.rdMolDescriptors.GetMorganFingerprintAsBitVect(NoneType, int, int)\n",
      "did not match C++ signature:\n",
      "    GetMorganFingerprintAsBitVect(RDKit::ROMol mol, unsigned int radius, unsigned int nBits=2048, boost::python::api::object invariants=[], boost::python::api::object fromAtoms=[], bool useChirality=False, bool useBondTypes=True, bool useFeatures=False, boost::python::api::object bitInfo=None, bool includeRedundantEnvironments=False)\n"
     ]
    }
   ],
   "source": [
    "X=[]\n",
    "for i, row in toxval2.iterrows():\n",
    "    try:\n",
    "        a = MoleculeProcessor(row['smiles'], row['DTXSID']).get_morgan_fingerprint()\n",
    "    except Exception as error:\n",
    "        print(error)\n",
    "    else:\n",
    "        X.append(a)"
   ]
  },
  {
   "cell_type": "code",
   "execution_count": 18,
   "id": "c741dac1-739b-4c71-8bf0-454fff20349c",
   "metadata": {},
   "outputs": [],
   "source": [
    "X_df = pd.concat(X)"
   ]
  },
  {
   "cell_type": "code",
   "execution_count": 19,
   "id": "290fd12a-0426-48f7-9d6c-02ea9a9dc254",
   "metadata": {},
   "outputs": [],
   "source": [
    "class CategoryPrediction:\n",
    "    def __init__(self, rev_dict, rf_model):\n",
    "\n",
    "        self.rev_dict = rev_dict\n",
    "        self.rf_model = rf_model\n",
    "\n",
    "    def make_prediction(self, df):\n",
    "        '''\n",
    "        Make prediction using the RF model and convert back into the original terminal categories\n",
    "        '''\n",
    "        pred = self.rf_model.predict(df)[0]\n",
    "        return self.rev_dict[pred]\n"
   ]
  },
  {
   "cell_type": "code",
   "execution_count": 20,
   "id": "7694bf9d-4587-4194-9b65-8c20a76500ba",
   "metadata": {},
   "outputs": [],
   "source": [
    "rev_dict = {v:k for k, v in my_dict.items()}"
   ]
  },
  {
   "cell_type": "code",
   "execution_count": 21,
   "id": "d5a18681-aea4-4225-8b33-8cc1ee3b369c",
   "metadata": {},
   "outputs": [],
   "source": [
    "catpred = CategoryPrediction(rev_dict, rf_model )"
   ]
  },
  {
   "cell_type": "code",
   "execution_count": 22,
   "id": "4d5c091a-49fe-4ab7-a68d-fc2b7b712fdd",
   "metadata": {},
   "outputs": [],
   "source": [
    "#catpred.make_prediction(test)"
   ]
  },
  {
   "cell_type": "code",
   "execution_count": 23,
   "id": "c54e7e33-66c4-48c2-adab-04e97bae7956",
   "metadata": {},
   "outputs": [],
   "source": [
    "results = {}\n",
    "for e in X_df.index.tolist():\n",
    "     results[e] = catpred.make_prediction(X_df[X_df.index==e])"
   ]
  },
  {
   "cell_type": "code",
   "execution_count": 24,
   "id": "ee2e7ae7-472d-4f7e-ad35-cc7d3ed74b66",
   "metadata": {},
   "outputs": [
    {
     "data": {
      "text/html": [
       "<div>\n",
       "<style scoped>\n",
       "    .dataframe tbody tr th:only-of-type {\n",
       "        vertical-align: middle;\n",
       "    }\n",
       "\n",
       "    .dataframe tbody tr th {\n",
       "        vertical-align: top;\n",
       "    }\n",
       "\n",
       "    .dataframe thead th {\n",
       "        text-align: right;\n",
       "    }\n",
       "</style>\n",
       "<table border=\"1\" class=\"dataframe\">\n",
       "  <thead>\n",
       "    <tr style=\"text-align: right;\">\n",
       "      <th></th>\n",
       "      <th>dtxsid</th>\n",
       "      <th>category</th>\n",
       "    </tr>\n",
       "  </thead>\n",
       "  <tbody>\n",
       "    <tr>\n",
       "      <th>0</th>\n",
       "      <td>DTXSID001004378</td>\n",
       "      <td>('Carboxylic acids and derivatives', 2.0)</td>\n",
       "    </tr>\n",
       "    <tr>\n",
       "      <th>1</th>\n",
       "      <td>DTXSID001005033</td>\n",
       "      <td>('Carboxylic acids and derivatives', 5.0)</td>\n",
       "    </tr>\n",
       "    <tr>\n",
       "      <th>2</th>\n",
       "      <td>DTXSID001009930</td>\n",
       "      <td>('Piperidines', nan)</td>\n",
       "    </tr>\n",
       "    <tr>\n",
       "      <th>3</th>\n",
       "      <td>DTXSID001014486</td>\n",
       "      <td>('Homogeneous metal compounds', nan)</td>\n",
       "    </tr>\n",
       "    <tr>\n",
       "      <th>4</th>\n",
       "      <td>DTXSID001016113</td>\n",
       "      <td>('Indoles and derivatives', nan)</td>\n",
       "    </tr>\n",
       "  </tbody>\n",
       "</table>\n",
       "</div>"
      ],
      "text/plain": [
       "            dtxsid                                   category\n",
       "0  DTXSID001004378  ('Carboxylic acids and derivatives', 2.0)\n",
       "1  DTXSID001005033  ('Carboxylic acids and derivatives', 5.0)\n",
       "2  DTXSID001009930                       ('Piperidines', nan)\n",
       "3  DTXSID001014486       ('Homogeneous metal compounds', nan)\n",
       "4  DTXSID001016113           ('Indoles and derivatives', nan)"
      ]
     },
     "execution_count": 24,
     "metadata": {},
     "output_type": "execute_result"
    }
   ],
   "source": [
    "results_df = pd.DataFrame(list(results.items()), columns = ['dtxsid', 'category'])\n",
    "results_df.head()"
   ]
  },
  {
   "cell_type": "code",
   "execution_count": 25,
   "id": "96f06525-6413-4c81-a04a-9f3cc88e2455",
   "metadata": {},
   "outputs": [],
   "source": [
    "s1 = X_df.index.tolist()"
   ]
  },
  {
   "cell_type": "code",
   "execution_count": 26,
   "id": "e03c1945-dea2-437e-a8e3-09f41dc1d478",
   "metadata": {},
   "outputs": [],
   "source": [
    "toxval3 = (toxval2\n",
    " .query('DTXSID in @s1')\n",
    " .merge(results_df, left_on = 'DTXSID', right_on = 'dtxsid')\n",
    ".drop(['dtxsid_y'], axis = 1)\n",
    ".assign(dtxsid = lambda x: x['dtxsid_x'])\n",
    "           .drop(['dtxsid','dtxsid_x', 'INPUT', 'FOUND_BY'], axis = 1)\n",
    ")"
   ]
  },
  {
   "cell_type": "code",
   "execution_count": 27,
   "id": "8ec10db6-d6d3-4656-a825-080173765399",
   "metadata": {},
   "outputs": [],
   "source": [
    "toxval3 = (toxval3\n",
    " .assign(dtxsid = lambda x: x['DTXSID'])\n",
    " .drop(['DTXSID'], axis = 1)\n",
    " .merge(pd.read_csv(processed_dir+'derived_oral_noncancer_PODs_Aurisano_approach_030924.csv')[['dtxsid', 'pPOD']], on = 'dtxsid', how = 'left')\n",
    ".pipe(lambda df: df[[df.columns[-2]] + df.columns[:-2].tolist() + [df.columns[-1]]])  # Reorder penultimate column\n",
    ")"
   ]
  },
  {
   "cell_type": "code",
   "execution_count": 28,
   "id": "d1db8d8c-c275-479e-8591-fa6613039b34",
   "metadata": {},
   "outputs": [],
   "source": [
    "toxval3.to_csv(processed_dir+'toxval_tsca_cats_pred.csv')"
   ]
  },
  {
   "cell_type": "code",
   "execution_count": 29,
   "id": "b5893585-cd97-409f-a660-1c742023f518",
   "metadata": {},
   "outputs": [],
   "source": [
    "import pymongo\n",
    "from pymongo import MongoClient"
   ]
  },
  {
   "cell_type": "code",
   "execution_count": 30,
   "id": "2fa5a69b-3527-4370-ac09-4f5266ae0e0d",
   "metadata": {},
   "outputs": [],
   "source": [
    "client = MongoClient('mongodb://removed:27017/')"
   ]
  },
  {
   "cell_type": "code",
   "execution_count": 31,
   "id": "03b3ffe0-6181-4eee-bd1c-8a244ebc24e8",
   "metadata": {},
   "outputs": [],
   "source": [
    "DB = client.genra_dev_v5"
   ]
  },
  {
   "cell_type": "code",
   "execution_count": 32,
   "id": "ea5a3957-6e3e-49e3-bbe0-c1c4bd3ab8df",
   "metadata": {},
   "outputs": [],
   "source": [
    "smi_dict = {k:v for k,v in zip(toxval3['dtxsid'], toxval3['SMILES'])}"
   ]
  },
  {
   "cell_type": "code",
   "execution_count": 33,
   "id": "6b35387f-8ada-4951-8633-594f7e487395",
   "metadata": {},
   "outputs": [
    {
     "data": {
      "text/plain": [
       "4159"
      ]
     },
     "execution_count": 33,
     "metadata": {},
     "output_type": "execute_result"
    }
   ],
   "source": [
    "#smi_dict\n",
    "len(smi_dict)"
   ]
  },
  {
   "cell_type": "code",
   "execution_count": 34,
   "id": "743a4f47-f388-45ba-9f12-d8c594668b78",
   "metadata": {},
   "outputs": [],
   "source": [
    "loael_logp = [e for e in DB.physprop.find({'dsstox_sid': {'$in': list(smi_dict.keys())}}, {\"dsstox_sid\":1, \"predicted_props.OPERA_LogP\" : 1, \"_id\":0})]"
   ]
  },
  {
   "cell_type": "code",
   "execution_count": 35,
   "id": "19056217-e1fa-4608-81d7-bcb429612a75",
   "metadata": {},
   "outputs": [
    {
     "data": {
      "text/plain": [
       "{'predicted_props': {}, 'dsstox_sid': 'DTXSID0020234'}"
      ]
     },
     "execution_count": 35,
     "metadata": {},
     "output_type": "execute_result"
    }
   ],
   "source": [
    "loael_logp[101]"
   ]
  },
  {
   "cell_type": "code",
   "execution_count": 36,
   "id": "64f809e2-5127-4b5c-9201-bab3b2838817",
   "metadata": {},
   "outputs": [],
   "source": [
    "logp_dict = {record['dsstox_sid']: record.get('predicted_props',{}).get('OPERA_LogP', [None])[0] for record in loael_logp}"
   ]
  },
  {
   "cell_type": "code",
   "execution_count": 37,
   "id": "394c2ed6-bf3f-409b-9e44-a512dc0c5472",
   "metadata": {},
   "outputs": [],
   "source": [
    "#logp_dict"
   ]
  },
  {
   "cell_type": "code",
   "execution_count": 38,
   "id": "2fd8f749-e301-4c0d-af49-a8a80cbe2643",
   "metadata": {},
   "outputs": [],
   "source": [
    "loael_ws = [e for e in DB.physprop.find({'dsstox_sid': {'$in': list(smi_dict.keys())}}, {\"dsstox_sid\":1, \"predicted_props.OPERA_WS\" : 1, \"_id\":0})]"
   ]
  },
  {
   "cell_type": "code",
   "execution_count": 39,
   "id": "ee2fd63d-abca-436f-be35-c02cb095c91a",
   "metadata": {},
   "outputs": [],
   "source": [
    "ws_dict = {record['dsstox_sid']: record.get('predicted_props',{}).get('OPERA_WS', [None])[0] for record in loael_ws}"
   ]
  },
  {
   "cell_type": "code",
   "execution_count": 40,
   "id": "9dd3682b-bdbb-4510-a56c-4a4080e6c9ee",
   "metadata": {},
   "outputs": [],
   "source": [
    "loael_weight = [e for e in DB.compounds.find({'dsstox_sid': {'$in': list(smi_dict.keys())}}, {\"dsstox_sid\":1, \"mol_weight\" : 1, \"_id\":0})]"
   ]
  },
  {
   "cell_type": "code",
   "execution_count": 41,
   "id": "e552035a-884d-40af-b597-a2794583c0ea",
   "metadata": {},
   "outputs": [],
   "source": [
    "weight_dict={record['dsstox_sid']:record['mol_weight'] for record in loael_weight}"
   ]
  },
  {
   "cell_type": "code",
   "execution_count": 42,
   "id": "0876ecc5-8f7b-4d4f-bdc8-075d085c788a",
   "metadata": {},
   "outputs": [],
   "source": [
    "sids=set(logp_dict.keys())&set(ws_dict.keys())&set(weight_dict.keys())&set(smi_dict.keys())"
   ]
  },
  {
   "cell_type": "code",
   "execution_count": 43,
   "id": "29a24cdf-5a0a-4705-9733-dd3f483dab3f",
   "metadata": {},
   "outputs": [
    {
     "name": "stderr",
     "output_type": "stream",
     "text": [
      "[10:34:24] WARNING: not removing hydrogen atom without neighbors\n",
      "[10:34:24] WARNING: not removing hydrogen atom without neighbors\n",
      "[10:34:24] WARNING: not removing hydrogen atom without neighbors\n",
      "[10:34:24] WARNING: not removing hydrogen atom without neighbors\n"
     ]
    }
   ],
   "source": [
    "records=[]\n",
    "for sid in sids:\n",
    "    records.append({'dsstox_sid':sid,'smiles':smi_dict[sid],'logp':logp_dict[sid],'ws':ws_dict[sid],'mol_weight':weight_dict[sid],'mol':Chem.MolFromSmiles(smi_dict[sid])})\n",
    "records=[record for record in records if record['mol']]"
   ]
  },
  {
   "cell_type": "code",
   "execution_count": 44,
   "id": "cf1a70b2-7a25-4a02-99ec-aa6659aa139b",
   "metadata": {},
   "outputs": [],
   "source": [
    "import dill as pickle\n",
    "with open(external_dir+\"epa_cats.pkl\", \"rb\") as output_file:\n",
    "     new_tests = pickle.load(output_file)"
   ]
  },
  {
   "cell_type": "code",
   "execution_count": 45,
   "id": "19e6afb8-f34b-49f5-bf58-9d881dd07722",
   "metadata": {},
   "outputs": [],
   "source": [
    "def convert_ppb(x): #OPERA results stored as mol/L\n",
    "    ws=x['ws']\n",
    "    mol_weight=x['mol_weight']\n",
    "    return ws*mol_weight*10**6"
   ]
  },
  {
   "cell_type": "code",
   "execution_count": 46,
   "id": "4a4b8dc1-1403-4bce-977e-620ac4108043",
   "metadata": {},
   "outputs": [],
   "source": [
    "import operator as op\n",
    "op_dict={\n",
    "    'GreaterThan': op.gt,\n",
    "    'GreaterThanOrEqualTo': op.ge,\n",
    "    'LessThan': op.lt,\n",
    "    'LessThanOrEqualTo': op.le\n",
    "}\n",
    "prop_dict={\n",
    "    'log Kow':'logp',\n",
    "    'Molecular Weight':'mol_weight',\n",
    "    'Molecular weight':'mol_weight',\n",
    "    'Water Solubility': 'ws'\n",
    "}"
   ]
  },
  {
   "cell_type": "code",
   "execution_count": 47,
   "id": "d5e818d8-6515-448e-8515-0a6250bb90aa",
   "metadata": {},
   "outputs": [
    {
     "data": {
      "text/plain": [
       "{'dsstox_sid': 'DTXSID0022016',\n",
       " 'smiles': 'C1CN2CCN1CC2',\n",
       " 'logp': -0.14817,\n",
       " 'ws': 5.54046,\n",
       " 'mol_weight': 112.176,\n",
       " 'mol': <rdkit.Chem.rdchem.Mol at 0x791faee63370>}"
      ]
     },
     "execution_count": 47,
     "metadata": {},
     "output_type": "execute_result"
    }
   ],
   "source": [
    "records[6]"
   ]
  },
  {
   "cell_type": "code",
   "execution_count": 48,
   "id": "51f914ff-d95c-4b50-bcfb-acfc6780de9d",
   "metadata": {},
   "outputs": [],
   "source": [
    "filtered_records = [record for record in records if all(value is not None for value in record.values())]"
   ]
  },
  {
   "cell_type": "code",
   "execution_count": 66,
   "id": "a1548b01-c204-4eaf-9c50-3607e9a7fa0f",
   "metadata": {},
   "outputs": [],
   "source": [
    "#len(filtered_records)"
   ]
  },
  {
   "cell_type": "code",
   "execution_count": 49,
   "id": "a5fe057e-4304-460a-9d8c-289443b21fa5",
   "metadata": {},
   "outputs": [],
   "source": [
    "#filtered_records[6]"
   ]
  },
  {
   "cell_type": "code",
   "execution_count": 50,
   "id": "2c536b77-f84e-4f42-90f6-f464fc676a35",
   "metadata": {},
   "outputs": [],
   "source": [
    "import math, re\n",
    "for record in filtered_records:\n",
    "    #print(record)\n",
    "    epa_categories=sorted([category for category,test in new_tests.items() if test(record)])\n",
    "   \n",
    "    if 'Neutral Organics' in epa_categories and len(epa_categories)>1:\n",
    "        epa_categories.remove('Neutral Organics')\n",
    "    record['categories']=tuple(epa_categories)"
   ]
  },
  {
   "cell_type": "code",
   "execution_count": 51,
   "id": "a41bbd0c-1983-489c-9d25-6945ce7b2be4",
   "metadata": {},
   "outputs": [
    {
     "data": {
      "text/plain": [
       "Index(['dtxsid', 'PREFERRED_NAME', 'CASRN', 'SMILES', 'smiles', 'NCC', 'group',\n",
       "       'category', 'pPOD'],\n",
       "      dtype='object')"
      ]
     },
     "execution_count": 51,
     "metadata": {},
     "output_type": "execute_result"
    }
   ],
   "source": [
    "toxval3.columns"
   ]
  },
  {
   "cell_type": "code",
   "execution_count": 52,
   "id": "f296734e-5686-4b99-a424-ba929ae31071",
   "metadata": {},
   "outputs": [
    {
     "data": {
      "text/html": [
       "<div>\n",
       "<style scoped>\n",
       "    .dataframe tbody tr th:only-of-type {\n",
       "        vertical-align: middle;\n",
       "    }\n",
       "\n",
       "    .dataframe tbody tr th {\n",
       "        vertical-align: top;\n",
       "    }\n",
       "\n",
       "    .dataframe thead th {\n",
       "        text-align: right;\n",
       "    }\n",
       "</style>\n",
       "<table border=\"1\" class=\"dataframe\">\n",
       "  <thead>\n",
       "    <tr style=\"text-align: right;\">\n",
       "      <th></th>\n",
       "      <th>dtxsid</th>\n",
       "      <th>PREFERRED_NAME</th>\n",
       "      <th>CASRN</th>\n",
       "      <th>SMILES</th>\n",
       "      <th>smiles</th>\n",
       "      <th>NCC</th>\n",
       "      <th>group</th>\n",
       "      <th>category</th>\n",
       "      <th>pPOD</th>\n",
       "      <th>dsstox_sid</th>\n",
       "      <th>categories</th>\n",
       "    </tr>\n",
       "  </thead>\n",
       "  <tbody>\n",
       "    <tr>\n",
       "      <th>0</th>\n",
       "      <td>DTXSID001004378</td>\n",
       "      <td>4-tert-Butylcyclohexyl prop-2-enoate</td>\n",
       "      <td>84100-23-2</td>\n",
       "      <td>CC(C)(C)C1CCC(CC1)OC(=O)C=C</td>\n",
       "      <td>CC(C)(C)C1CCC(CC1)OC(=O)C=C</td>\n",
       "      <td>('Acrylates/Methacrylates (Acute toxicity)', '...</td>\n",
       "      <td>('Carboxylic acids and derivatives', 2.0)</td>\n",
       "      <td>('Carboxylic acids and derivatives', 2.0)</td>\n",
       "      <td>1.279506</td>\n",
       "      <td>NaN</td>\n",
       "      <td>NaN</td>\n",
       "    </tr>\n",
       "    <tr>\n",
       "      <th>1</th>\n",
       "      <td>DTXSID001005033</td>\n",
       "      <td>Bis(2-ethylhexyl) cyclohexane-1,4-dicarboxylate</td>\n",
       "      <td>84731-70-4</td>\n",
       "      <td>CCCCC(CC)COC(=O)C1CCC(CC1)C(=O)OCC(CC)CCCC</td>\n",
       "      <td>CCCCC(CC)COC(=O)C1CCC(CC1)C(=O)OCC(CC)CCCC</td>\n",
       "      <td>NaN</td>\n",
       "      <td>NaN</td>\n",
       "      <td>('Carboxylic acids and derivatives', 5.0)</td>\n",
       "      <td>2.180879</td>\n",
       "      <td>NaN</td>\n",
       "      <td>NaN</td>\n",
       "    </tr>\n",
       "    <tr>\n",
       "      <th>2</th>\n",
       "      <td>DTXSID001009930</td>\n",
       "      <td>Thialdine</td>\n",
       "      <td>638-17-5</td>\n",
       "      <td>C[C@H]1N[C@@H](C)S[C@@H](C)S1</td>\n",
       "      <td>C[C@H]1N[C@@H](C)S[C@@H](C)S1</td>\n",
       "      <td>NaN</td>\n",
       "      <td>NaN</td>\n",
       "      <td>('Piperidines', nan)</td>\n",
       "      <td>0.348332</td>\n",
       "      <td>NaN</td>\n",
       "      <td>NaN</td>\n",
       "    </tr>\n",
       "    <tr>\n",
       "      <th>3</th>\n",
       "      <td>DTXSID001014486</td>\n",
       "      <td>Calcium molybdate(VI)</td>\n",
       "      <td>7789-82-4</td>\n",
       "      <td>[O--].[O--].[O--].[O--].[Ca++].[Mo+6]</td>\n",
       "      <td>[O--].[O--].[O--].[O--].[Ca++].[Mo+6]</td>\n",
       "      <td>NaN</td>\n",
       "      <td>NaN</td>\n",
       "      <td>('Homogeneous metal compounds', nan)</td>\n",
       "      <td>1.039907</td>\n",
       "      <td>NaN</td>\n",
       "      <td>NaN</td>\n",
       "    </tr>\n",
       "    <tr>\n",
       "      <th>4</th>\n",
       "      <td>DTXSID001016113</td>\n",
       "      <td>Eletriptan hydrobromide</td>\n",
       "      <td>177834-92-3</td>\n",
       "      <td>Br.CN1CCC[C@@H]1CC1=CNC2=CC=C(CCS(=O)(=O)C3=CC...</td>\n",
       "      <td>Br.CN1CCC[C@@H]1CC1=CNC2=CC=C(CCS(=O)(=O)C3=CC...</td>\n",
       "      <td>NaN</td>\n",
       "      <td>NaN</td>\n",
       "      <td>('Indoles and derivatives', nan)</td>\n",
       "      <td>0.667420</td>\n",
       "      <td>NaN</td>\n",
       "      <td>NaN</td>\n",
       "    </tr>\n",
       "    <tr>\n",
       "      <th>...</th>\n",
       "      <td>...</td>\n",
       "      <td>...</td>\n",
       "      <td>...</td>\n",
       "      <td>...</td>\n",
       "      <td>...</td>\n",
       "      <td>...</td>\n",
       "      <td>...</td>\n",
       "      <td>...</td>\n",
       "      <td>...</td>\n",
       "      <td>...</td>\n",
       "      <td>...</td>\n",
       "    </tr>\n",
       "    <tr>\n",
       "      <th>4154</th>\n",
       "      <td>DTXSID90968887</td>\n",
       "      <td>Methyl 3-sulfanylbutanoate</td>\n",
       "      <td>54051-19-3</td>\n",
       "      <td>COC(=O)CC(C)S</td>\n",
       "      <td>COC(=O)CC(C)S</td>\n",
       "      <td>NaN</td>\n",
       "      <td>NaN</td>\n",
       "      <td>('Carboxylic acids and derivatives', 1.0)</td>\n",
       "      <td>-1.841999</td>\n",
       "      <td>NaN</td>\n",
       "      <td>NaN</td>\n",
       "    </tr>\n",
       "    <tr>\n",
       "      <th>4155</th>\n",
       "      <td>DTXSID90976780</td>\n",
       "      <td>3-[(2-Methylfuran-3-yl)sulfanyl]butan-2-one</td>\n",
       "      <td>61295-44-1</td>\n",
       "      <td>CC(SC1=C(C)OC=C1)C(C)=O</td>\n",
       "      <td>CC(SC1=C(C)OC=C1)C(C)=O</td>\n",
       "      <td>NaN</td>\n",
       "      <td>NaN</td>\n",
       "      <td>('Heteroaromatic compounds', nan)</td>\n",
       "      <td>-0.044963</td>\n",
       "      <td>NaN</td>\n",
       "      <td>NaN</td>\n",
       "    </tr>\n",
       "    <tr>\n",
       "      <th>4156</th>\n",
       "      <td>DTXSID90978461</td>\n",
       "      <td>Heptane-2-thiol</td>\n",
       "      <td>628-00-2</td>\n",
       "      <td>CCCCCC(C)S</td>\n",
       "      <td>CCCCCC(C)S</td>\n",
       "      <td>NaN</td>\n",
       "      <td>NaN</td>\n",
       "      <td>('Organosulfur compounds', 4.0)</td>\n",
       "      <td>-1.841999</td>\n",
       "      <td>NaN</td>\n",
       "      <td>NaN</td>\n",
       "    </tr>\n",
       "    <tr>\n",
       "      <th>4157</th>\n",
       "      <td>DTXSID90990466</td>\n",
       "      <td>3-Amino-N-(8-hydroxy-4,6-disulfonaphthalen-1-y...</td>\n",
       "      <td>70239-77-9</td>\n",
       "      <td>NC1=CC=CC(=C1)C(O)=NC1=C2C(O)=CC(=CC2=C(C=C1)S...</td>\n",
       "      <td>NC1=CC=CC(=C1)C(O)=NC1=C2C(O)=CC(=CC2=C(C=C1)S...</td>\n",
       "      <td>NaN</td>\n",
       "      <td>NaN</td>\n",
       "      <td>('Naphthalenes', 3.0)</td>\n",
       "      <td>1.606971</td>\n",
       "      <td>NaN</td>\n",
       "      <td>NaN</td>\n",
       "    </tr>\n",
       "    <tr>\n",
       "      <th>4158</th>\n",
       "      <td>DTXSID90998205</td>\n",
       "      <td>3-Hydroxy-N-(2-hydroxy-1H-benzimidazol-6-yl)na...</td>\n",
       "      <td>76918-62-2</td>\n",
       "      <td>[NaH].OC(=NC1=CC2=C(C=C1)N=C(O)N2)C1=CC2=CC=CC...</td>\n",
       "      <td>[NaH].OC(=NC1=CC2=C(C=C1)N=C(O)N2)C1=CC2=CC=CC...</td>\n",
       "      <td>NaN</td>\n",
       "      <td>NaN</td>\n",
       "      <td>('Naphthalenes', 5.0)</td>\n",
       "      <td>1.282939</td>\n",
       "      <td>NaN</td>\n",
       "      <td>NaN</td>\n",
       "    </tr>\n",
       "  </tbody>\n",
       "</table>\n",
       "<p>4159 rows × 11 columns</p>\n",
       "</div>"
      ],
      "text/plain": [
       "               dtxsid                                     PREFERRED_NAME  \\\n",
       "0     DTXSID001004378               4-tert-Butylcyclohexyl prop-2-enoate   \n",
       "1     DTXSID001005033    Bis(2-ethylhexyl) cyclohexane-1,4-dicarboxylate   \n",
       "2     DTXSID001009930                                          Thialdine   \n",
       "3     DTXSID001014486                              Calcium molybdate(VI)   \n",
       "4     DTXSID001016113                            Eletriptan hydrobromide   \n",
       "...               ...                                                ...   \n",
       "4154   DTXSID90968887                         Methyl 3-sulfanylbutanoate   \n",
       "4155   DTXSID90976780        3-[(2-Methylfuran-3-yl)sulfanyl]butan-2-one   \n",
       "4156   DTXSID90978461                                    Heptane-2-thiol   \n",
       "4157   DTXSID90990466  3-Amino-N-(8-hydroxy-4,6-disulfonaphthalen-1-y...   \n",
       "4158   DTXSID90998205  3-Hydroxy-N-(2-hydroxy-1H-benzimidazol-6-yl)na...   \n",
       "\n",
       "            CASRN                                             SMILES  \\\n",
       "0      84100-23-2                        CC(C)(C)C1CCC(CC1)OC(=O)C=C   \n",
       "1      84731-70-4         CCCCC(CC)COC(=O)C1CCC(CC1)C(=O)OCC(CC)CCCC   \n",
       "2        638-17-5                      C[C@H]1N[C@@H](C)S[C@@H](C)S1   \n",
       "3       7789-82-4              [O--].[O--].[O--].[O--].[Ca++].[Mo+6]   \n",
       "4     177834-92-3  Br.CN1CCC[C@@H]1CC1=CNC2=CC=C(CCS(=O)(=O)C3=CC...   \n",
       "...           ...                                                ...   \n",
       "4154   54051-19-3                                      COC(=O)CC(C)S   \n",
       "4155   61295-44-1                            CC(SC1=C(C)OC=C1)C(C)=O   \n",
       "4156     628-00-2                                         CCCCCC(C)S   \n",
       "4157   70239-77-9  NC1=CC=CC(=C1)C(O)=NC1=C2C(O)=CC(=CC2=C(C=C1)S...   \n",
       "4158   76918-62-2  [NaH].OC(=NC1=CC2=C(C=C1)N=C(O)N2)C1=CC2=CC=CC...   \n",
       "\n",
       "                                                 smiles  \\\n",
       "0                           CC(C)(C)C1CCC(CC1)OC(=O)C=C   \n",
       "1            CCCCC(CC)COC(=O)C1CCC(CC1)C(=O)OCC(CC)CCCC   \n",
       "2                         C[C@H]1N[C@@H](C)S[C@@H](C)S1   \n",
       "3                 [O--].[O--].[O--].[O--].[Ca++].[Mo+6]   \n",
       "4     Br.CN1CCC[C@@H]1CC1=CNC2=CC=C(CCS(=O)(=O)C3=CC...   \n",
       "...                                                 ...   \n",
       "4154                                      COC(=O)CC(C)S   \n",
       "4155                            CC(SC1=C(C)OC=C1)C(C)=O   \n",
       "4156                                         CCCCCC(C)S   \n",
       "4157  NC1=CC=CC(=C1)C(O)=NC1=C2C(O)=CC(=CC2=C(C=C1)S...   \n",
       "4158  [NaH].OC(=NC1=CC2=C(C=C1)N=C(O)N2)C1=CC2=CC=CC...   \n",
       "\n",
       "                                                    NCC  \\\n",
       "0     ('Acrylates/Methacrylates (Acute toxicity)', '...   \n",
       "1                                                   NaN   \n",
       "2                                                   NaN   \n",
       "3                                                   NaN   \n",
       "4                                                   NaN   \n",
       "...                                                 ...   \n",
       "4154                                                NaN   \n",
       "4155                                                NaN   \n",
       "4156                                                NaN   \n",
       "4157                                                NaN   \n",
       "4158                                                NaN   \n",
       "\n",
       "                                          group  \\\n",
       "0     ('Carboxylic acids and derivatives', 2.0)   \n",
       "1                                           NaN   \n",
       "2                                           NaN   \n",
       "3                                           NaN   \n",
       "4                                           NaN   \n",
       "...                                         ...   \n",
       "4154                                        NaN   \n",
       "4155                                        NaN   \n",
       "4156                                        NaN   \n",
       "4157                                        NaN   \n",
       "4158                                        NaN   \n",
       "\n",
       "                                       category      pPOD dsstox_sid  \\\n",
       "0     ('Carboxylic acids and derivatives', 2.0)  1.279506        NaN   \n",
       "1     ('Carboxylic acids and derivatives', 5.0)  2.180879        NaN   \n",
       "2                          ('Piperidines', nan)  0.348332        NaN   \n",
       "3          ('Homogeneous metal compounds', nan)  1.039907        NaN   \n",
       "4              ('Indoles and derivatives', nan)  0.667420        NaN   \n",
       "...                                         ...       ...        ...   \n",
       "4154  ('Carboxylic acids and derivatives', 1.0) -1.841999        NaN   \n",
       "4155          ('Heteroaromatic compounds', nan) -0.044963        NaN   \n",
       "4156            ('Organosulfur compounds', 4.0) -1.841999        NaN   \n",
       "4157                      ('Naphthalenes', 3.0)  1.606971        NaN   \n",
       "4158                      ('Naphthalenes', 5.0)  1.282939        NaN   \n",
       "\n",
       "     categories  \n",
       "0           NaN  \n",
       "1           NaN  \n",
       "2           NaN  \n",
       "3           NaN  \n",
       "4           NaN  \n",
       "...         ...  \n",
       "4154        NaN  \n",
       "4155        NaN  \n",
       "4156        NaN  \n",
       "4157        NaN  \n",
       "4158        NaN  \n",
       "\n",
       "[4159 rows x 11 columns]"
      ]
     },
     "execution_count": 52,
     "metadata": {},
     "output_type": "execute_result"
    }
   ],
   "source": [
    "(toxval3\n",
    " .merge(pd.DataFrame(filtered_records)[['dsstox_sid', 'categories']], left_on = 'dtxsid', right_on = 'dsstox_sid', how = 'left')\n",
    ")"
   ]
  },
  {
   "cell_type": "code",
   "execution_count": 53,
   "id": "1c71cd18-d8aa-475f-a59e-9386a6a50aac",
   "metadata": {},
   "outputs": [],
   "source": [
    "toxval3 = (toxval3\n",
    " .merge(\n",
    "pd.DataFrame(filtered_records), left_on = 'dtxsid', right_on = 'dsstox_sid', how = 'left')\n",
    " \n",
    ")\n",
    "        "
   ]
  },
  {
   "cell_type": "code",
   "execution_count": 57,
   "id": "2f3f7f86-cc98-479e-802c-9ab7c115d6e1",
   "metadata": {},
   "outputs": [],
   "source": [
    "toxval4 =(toxval3\n",
    " .drop(['smiles_y', 'dsstox_sid', 'logp', 'ws', 'mol_weight', 'mol', 'NCC'], axis = 1)\n",
    " .rename(columns = {'smiles_x': 'smiles', 'categories': 'NCC'})\n",
    ")"
   ]
  },
  {
   "cell_type": "code",
   "execution_count": 59,
   "id": "574c5f4a-8345-4724-9cd2-9d6e08085fdb",
   "metadata": {},
   "outputs": [
    {
     "data": {
      "text/plain": [
       "NCC\n",
       "()                                                                                                                                                                1615\n",
       "(Neutral Organics,)                                                                                                                                                432\n",
       "(Esters (Acute toxicity),)                                                                                                                                         309\n",
       "(Phenols (Acute toxicity),)                                                                                                                                        170\n",
       "(Anilines (Acute toxicity),)                                                                                                                                        71\n",
       "                                                                                                                                                                  ... \n",
       "(Cationic (quaternary ammonium) surfactants, Epoxides)                                                                                                               1\n",
       "(Anilines (Acute toxicity), Polynitroaromatics (Acute toxicity))                                                                                                     1\n",
       "(Aldehydes (Acute toxicity), Thiols (Acute toxicity))                                                                                                                1\n",
       "(Acrylates/Methacrylates (Acute toxicity), Benzotriazole-hindered phenols, Benzotriazoles (Acute toxicity), Esters (Acute toxicity), Phenols (Acute toxicity))       1\n",
       "(Esters (Chronic toxicity), Hindered Amines)                                                                                                                         1\n",
       "Name: count, Length: 79, dtype: int64"
      ]
     },
     "execution_count": 59,
     "metadata": {},
     "output_type": "execute_result"
    }
   ],
   "source": [
    "toxval4.NCC.value_counts()"
   ]
  },
  {
   "cell_type": "code",
   "execution_count": 60,
   "id": "1ea0f984-3522-452c-9e03-5a377753cb4f",
   "metadata": {},
   "outputs": [],
   "source": [
    "toxval4.to_csv(processed_dir+'toxval4_predcats.csv')"
   ]
  },
  {
   "cell_type": "code",
   "execution_count": 63,
   "id": "c7c8d5c4-f580-47dd-9cdc-19e35352f157",
   "metadata": {},
   "outputs": [],
   "source": [
    "opera_df = pd.read_csv(external_dir+'toxval_31024-sdf_OPERA2.9Pred.csv')"
   ]
  },
  {
   "cell_type": "code",
   "execution_count": 80,
   "id": "39adc7db-33b6-42ef-8e0c-063c256ae6b4",
   "metadata": {},
   "outputs": [],
   "source": [
    "opera_df = (opera_df\n",
    " .rename(columns = {'MoleculeID': 'dsstox_sid', 'LogP_pred': 'logp', 'MolWeight': 'mol_weight', 'LogWS_pred': 'ws'}\n",
    "        )\n",
    " [['dsstox_sid', 'mol_weight', 'logp','ws']]\n",
    " .merge(pd.read_csv(external_dir+'toxval_31024_Summary_file.csv')[['Molecule name', 'Canonical_QSARr']], left_on = 'dsstox_sid', right_on = 'Molecule name', how = 'left')\n",
    " .rename(columns = {'Canonical_QSARr': 'smiles'})\n",
    " .drop(['Molecule name'], axis = 1)\n",
    ")"
   ]
  },
  {
   "cell_type": "code",
   "execution_count": 82,
   "id": "48eea6d4-e815-40b1-a628-d2dd29ac0b25",
   "metadata": {},
   "outputs": [
    {
     "name": "stderr",
     "output_type": "stream",
     "text": [
      "[15:18:29] Can't kekulize mol.  Unkekulized atoms: 1 2 3 4 5 6 7 9 10 11 13 14 15\n"
     ]
    }
   ],
   "source": [
    "\n",
    "opera_df['mol'] = [Chem.MolFromSmiles(e) for e in opera_df['smiles']]"
   ]
  },
  {
   "cell_type": "code",
   "execution_count": 88,
   "id": "6da7e596-8ef8-472c-a7a3-c2ff65d55495",
   "metadata": {},
   "outputs": [],
   "source": [
    "opera_df = opera_df.dropna(subset = ['logp'])"
   ]
  },
  {
   "cell_type": "code",
   "execution_count": 95,
   "id": "cc40ea10-0170-4930-8d5a-b7f75cd072a8",
   "metadata": {},
   "outputs": [],
   "source": [
    "opera_df = opera_df.dropna()"
   ]
  },
  {
   "cell_type": "code",
   "execution_count": 96,
   "id": "0b2fc019-4e3a-4aa7-bf46-9b3f567ce89c",
   "metadata": {},
   "outputs": [],
   "source": [
    "test_dict = opera_df.to_dict('records')"
   ]
  },
  {
   "cell_type": "code",
   "execution_count": 97,
   "id": "b6cfd4e4-25cf-4a5e-99ae-6fecd5bad73d",
   "metadata": {},
   "outputs": [
    {
     "name": "stdout",
     "output_type": "stream",
     "text": [
      "<class 'pandas.core.frame.DataFrame'>\n",
      "Index: 3817 entries, 0 to 3818\n",
      "Data columns (total 6 columns):\n",
      " #   Column      Non-Null Count  Dtype  \n",
      "---  ------      --------------  -----  \n",
      " 0   dsstox_sid  3817 non-null   object \n",
      " 1   mol_weight  3817 non-null   float64\n",
      " 2   logp        3817 non-null   float64\n",
      " 3   ws          3817 non-null   float64\n",
      " 4   smiles      3817 non-null   object \n",
      " 5   mol         3817 non-null   object \n",
      "dtypes: float64(3), object(3)\n",
      "memory usage: 208.7+ KB\n"
     ]
    }
   ],
   "source": [
    "opera_df.info()"
   ]
  },
  {
   "cell_type": "code",
   "execution_count": 98,
   "id": "fab85a3f-44e6-45dc-ba85-4ca0b1a0aa4c",
   "metadata": {},
   "outputs": [],
   "source": [
    "for record in test_dict:\n",
    "    #print(record)\n",
    "    epa_categories=sorted([category for category,test in new_tests.items() if test(record)])\n",
    "    if 'Neutral Organics' in epa_categories and len(epa_categories)>1:\n",
    "        epa_categories.remove('Neutral Organics')\n",
    "    record['categories']=tuple(epa_categories)"
   ]
  },
  {
   "cell_type": "code",
   "execution_count": 103,
   "id": "9081380c-a172-426a-9648-59a1b16c6d03",
   "metadata": {},
   "outputs": [],
   "source": [
    "toxval4 = (toxval4\n",
    " .merge(pd.DataFrame(test_dict)[['dsstox_sid', 'categories']], left_on = 'dtxsid', right_on = 'dsstox_sid', how = 'left')\n",
    " .drop(['dsstox_sid', 'NCC'], axis = 1)\n",
    " .rename(columns = {'categories': 'NCC'})\n",
    ")"
   ]
  },
  {
   "cell_type": "code",
   "execution_count": 104,
   "id": "76b38e2f-e7e1-4c05-a162-e6227ef29d26",
   "metadata": {},
   "outputs": [],
   "source": [
    "toxval4.to_csv(processed_dir+'toxval4_all_predcats.csv')"
   ]
  },
  {
   "cell_type": "code",
   "execution_count": 108,
   "id": "031ff249-6b56-4682-89c3-ed7a547ab070",
   "metadata": {},
   "outputs": [
    {
     "data": {
      "text/plain": [
       "NCC\n",
       "()                                                                         1911\n",
       "(Neutral Organics,)                                                         538\n",
       "NaN                                                                         342\n",
       "(Esters (Acute toxicity),)                                                  334\n",
       "(Phenols (Acute toxicity),)                                                 198\n",
       "                                                                           ... \n",
       "(Aldehydes (Chronic toxicity), Esters (Chronic toxicity))                     1\n",
       "(Acrylates/Methacrylates (Chronic toxicity),)                                 1\n",
       "(Alkoxysilanes, Substituted Triazines (Acute toxicity))                       1\n",
       "(Anilines (Acute toxicity), Polynitroaromatics (Acute toxicity))              1\n",
       "(Anilines (Acute toxicity), Cationic (quaternary ammonium) surfactants)       1\n",
       "Name: count, Length: 95, dtype: int64"
      ]
     },
     "execution_count": 108,
     "metadata": {},
     "output_type": "execute_result"
    }
   ],
   "source": [
    "toxval4.NCC.value_counts(dropna = False)"
   ]
  },
  {
   "cell_type": "code",
   "execution_count": 110,
   "id": "65c06c18-ea0d-430d-88aa-21981f072893",
   "metadata": {},
   "outputs": [
    {
     "name": "stdout",
     "output_type": "stream",
     "text": [
      "<class 'pandas.core.frame.DataFrame'>\n",
      "RangeIndex: 4159 entries, 0 to 4158\n",
      "Data columns (total 9 columns):\n",
      " #   Column          Non-Null Count  Dtype  \n",
      "---  ------          --------------  -----  \n",
      " 0   dtxsid          4159 non-null   object \n",
      " 1   PREFERRED_NAME  4159 non-null   object \n",
      " 2   CASRN           4159 non-null   object \n",
      " 3   SMILES          4159 non-null   object \n",
      " 4   smiles          4159 non-null   object \n",
      " 5   group           1981 non-null   object \n",
      " 6   category        4159 non-null   object \n",
      " 7   pPOD            4159 non-null   float64\n",
      " 8   NCC             3817 non-null   object \n",
      "dtypes: float64(1), object(8)\n",
      "memory usage: 292.6+ KB\n"
     ]
    }
   ],
   "source": [
    "toxval4"
   ]
  },
  {
   "cell_type": "code",
   "execution_count": 111,
   "id": "43e00bc2-b606-4f0e-870f-91adeedc1d3b",
   "metadata": {},
   "outputs": [
    {
     "name": "stderr",
     "output_type": "stream",
     "text": [
      "[18:52:42] WARNING: not removing hydrogen atom without neighbors\n",
      "[18:52:42] WARNING: not removing hydrogen atom without neighbors\n",
      "[18:52:42] WARNING: not removing hydrogen atom without neighbors\n",
      "[18:52:42] WARNING: not removing hydrogen atom without neighbors\n",
      "[18:52:53] WARNING: not removing hydrogen atom without neighbors\n",
      "[18:52:53] WARNING: not removing hydrogen atom without neighbors\n",
      "[18:53:28] WARNING: not removing hydrogen atom without neighbors\n"
     ]
    }
   ],
   "source": [
    "X1=[]\n",
    "for i, row in toxval4.iterrows():\n",
    "    try:\n",
    "        a = MoleculeProcessor(row['smiles'], row['dtxsid']).get_morgan_fingerprint()\n",
    "    except Exception as error:\n",
    "        print(error)\n",
    "    else:\n",
    "        X1.append(a)"
   ]
  },
  {
   "cell_type": "code",
   "execution_count": 113,
   "id": "f8fb5b90-26c1-4d5a-9e27-13b890887766",
   "metadata": {},
   "outputs": [],
   "source": [
    "X1 = pd.concat(X1)"
   ]
  },
  {
   "cell_type": "code",
   "execution_count": 149,
   "id": "257ba429-edd7-4c03-9f25-18b2bdeb8336",
   "metadata": {},
   "outputs": [],
   "source": [
    "test = MoleculeProcessor('CC1(C)COC(C)(OC1)C1C=CC=CC=1', 'test').get_morgan_fingerprint()"
   ]
  },
  {
   "cell_type": "code",
   "execution_count": 150,
   "id": "782af31a-7fda-43bf-94d6-6b69786af7ff",
   "metadata": {},
   "outputs": [
    {
     "data": {
      "text/html": [
       "<div>\n",
       "<style scoped>\n",
       "    .dataframe tbody tr th:only-of-type {\n",
       "        vertical-align: middle;\n",
       "    }\n",
       "\n",
       "    .dataframe tbody tr th {\n",
       "        vertical-align: top;\n",
       "    }\n",
       "\n",
       "    .dataframe thead th {\n",
       "        text-align: right;\n",
       "    }\n",
       "</style>\n",
       "<table border=\"1\" class=\"dataframe\">\n",
       "  <thead>\n",
       "    <tr style=\"text-align: right;\">\n",
       "      <th></th>\n",
       "      <th>mrgn_0</th>\n",
       "      <th>mrgn_1</th>\n",
       "      <th>mrgn_2</th>\n",
       "      <th>mrgn_3</th>\n",
       "      <th>mrgn_4</th>\n",
       "      <th>mrgn_5</th>\n",
       "      <th>mrgn_6</th>\n",
       "      <th>mrgn_7</th>\n",
       "      <th>mrgn_8</th>\n",
       "      <th>mrgn_9</th>\n",
       "      <th>...</th>\n",
       "      <th>mrgn_2038</th>\n",
       "      <th>mrgn_2039</th>\n",
       "      <th>mrgn_2040</th>\n",
       "      <th>mrgn_2041</th>\n",
       "      <th>mrgn_2042</th>\n",
       "      <th>mrgn_2043</th>\n",
       "      <th>mrgn_2044</th>\n",
       "      <th>mrgn_2045</th>\n",
       "      <th>mrgn_2046</th>\n",
       "      <th>mrgn_2047</th>\n",
       "    </tr>\n",
       "  </thead>\n",
       "  <tbody>\n",
       "    <tr>\n",
       "      <th>test</th>\n",
       "      <td>0</td>\n",
       "      <td>0</td>\n",
       "      <td>0</td>\n",
       "      <td>0</td>\n",
       "      <td>0</td>\n",
       "      <td>0</td>\n",
       "      <td>0</td>\n",
       "      <td>0</td>\n",
       "      <td>0</td>\n",
       "      <td>0</td>\n",
       "      <td>...</td>\n",
       "      <td>0</td>\n",
       "      <td>0</td>\n",
       "      <td>0</td>\n",
       "      <td>0</td>\n",
       "      <td>0</td>\n",
       "      <td>0</td>\n",
       "      <td>0</td>\n",
       "      <td>0</td>\n",
       "      <td>0</td>\n",
       "      <td>0</td>\n",
       "    </tr>\n",
       "  </tbody>\n",
       "</table>\n",
       "<p>1 rows × 2048 columns</p>\n",
       "</div>"
      ],
      "text/plain": [
       "      mrgn_0  mrgn_1  mrgn_2  mrgn_3  mrgn_4  mrgn_5  mrgn_6  mrgn_7  mrgn_8  \\\n",
       "test       0       0       0       0       0       0       0       0       0   \n",
       "\n",
       "      mrgn_9  ...  mrgn_2038  mrgn_2039  mrgn_2040  mrgn_2041  mrgn_2042  \\\n",
       "test       0  ...          0          0          0          0          0   \n",
       "\n",
       "      mrgn_2043  mrgn_2044  mrgn_2045  mrgn_2046  mrgn_2047  \n",
       "test          0          0          0          0          0  \n",
       "\n",
       "[1 rows x 2048 columns]"
      ]
     },
     "execution_count": 150,
     "metadata": {},
     "output_type": "execute_result"
    }
   ],
   "source": [
    "test"
   ]
  },
  {
   "cell_type": "code",
   "execution_count": 119,
   "id": "0a6f179b-b75e-46ea-bd45-9f107239a823",
   "metadata": {},
   "outputs": [
    {
     "data": {
      "text/plain": [
       "Index(['dtxsid', 'PREFERRED_NAME', 'CASRN', 'SMILES', 'smiles', 'group',\n",
       "       'category', 'pPOD', 'NCC'],\n",
       "      dtype='object')"
      ]
     },
     "execution_count": 119,
     "metadata": {},
     "output_type": "execute_result"
    }
   ],
   "source": [
    "toxval4.columns"
   ]
  },
  {
   "cell_type": "code",
   "execution_count": 120,
   "id": "ef2ad0a7-760b-4fb5-a09b-469cc3556a7b",
   "metadata": {},
   "outputs": [
    {
     "data": {
      "text/html": [
       "<div>\n",
       "<style scoped>\n",
       "    .dataframe tbody tr th:only-of-type {\n",
       "        vertical-align: middle;\n",
       "    }\n",
       "\n",
       "    .dataframe tbody tr th {\n",
       "        vertical-align: top;\n",
       "    }\n",
       "\n",
       "    .dataframe thead th {\n",
       "        text-align: right;\n",
       "    }\n",
       "</style>\n",
       "<table border=\"1\" class=\"dataframe\">\n",
       "  <thead>\n",
       "    <tr style=\"text-align: right;\">\n",
       "      <th></th>\n",
       "      <th>dtxsid</th>\n",
       "      <th>SMILES</th>\n",
       "      <th>category</th>\n",
       "      <th>pPOD</th>\n",
       "      <th>NCC</th>\n",
       "    </tr>\n",
       "  </thead>\n",
       "  <tbody>\n",
       "    <tr>\n",
       "      <th>0</th>\n",
       "      <td>DTXSID001004378</td>\n",
       "      <td>CC(C)(C)C1CCC(CC1)OC(=O)C=C</td>\n",
       "      <td>('Carboxylic acids and derivatives', 2.0)</td>\n",
       "      <td>1.279506</td>\n",
       "      <td>(Acrylates/Methacrylates (Chronic toxicity), E...</td>\n",
       "    </tr>\n",
       "    <tr>\n",
       "      <th>1</th>\n",
       "      <td>DTXSID001005033</td>\n",
       "      <td>CCCCC(CC)COC(=O)C1CCC(CC1)C(=O)OCC(CC)CCCC</td>\n",
       "      <td>('Carboxylic acids and derivatives', 5.0)</td>\n",
       "      <td>2.180879</td>\n",
       "      <td>(Esters (Chronic toxicity),)</td>\n",
       "    </tr>\n",
       "    <tr>\n",
       "      <th>2</th>\n",
       "      <td>DTXSID001009930</td>\n",
       "      <td>C[C@H]1N[C@@H](C)S[C@@H](C)S1</td>\n",
       "      <td>('Piperidines', nan)</td>\n",
       "      <td>0.348332</td>\n",
       "      <td>()</td>\n",
       "    </tr>\n",
       "    <tr>\n",
       "      <th>3</th>\n",
       "      <td>DTXSID001014486</td>\n",
       "      <td>[O--].[O--].[O--].[O--].[Ca++].[Mo+6]</td>\n",
       "      <td>('Homogeneous metal compounds', nan)</td>\n",
       "      <td>1.039907</td>\n",
       "      <td>NaN</td>\n",
       "    </tr>\n",
       "    <tr>\n",
       "      <th>4</th>\n",
       "      <td>DTXSID001016113</td>\n",
       "      <td>Br.CN1CCC[C@@H]1CC1=CNC2=CC=C(CCS(=O)(=O)C3=CC...</td>\n",
       "      <td>('Indoles and derivatives', nan)</td>\n",
       "      <td>0.667420</td>\n",
       "      <td>()</td>\n",
       "    </tr>\n",
       "    <tr>\n",
       "      <th>...</th>\n",
       "      <td>...</td>\n",
       "      <td>...</td>\n",
       "      <td>...</td>\n",
       "      <td>...</td>\n",
       "      <td>...</td>\n",
       "    </tr>\n",
       "    <tr>\n",
       "      <th>4154</th>\n",
       "      <td>DTXSID90968887</td>\n",
       "      <td>COC(=O)CC(C)S</td>\n",
       "      <td>('Carboxylic acids and derivatives', 1.0)</td>\n",
       "      <td>-1.841999</td>\n",
       "      <td>(Esters (Acute toxicity), Thiols (Acute toxici...</td>\n",
       "    </tr>\n",
       "    <tr>\n",
       "      <th>4155</th>\n",
       "      <td>DTXSID90976780</td>\n",
       "      <td>CC(SC1=C(C)OC=C1)C(C)=O</td>\n",
       "      <td>('Heteroaromatic compounds', nan)</td>\n",
       "      <td>-0.044963</td>\n",
       "      <td>()</td>\n",
       "    </tr>\n",
       "    <tr>\n",
       "      <th>4156</th>\n",
       "      <td>DTXSID90978461</td>\n",
       "      <td>CCCCCC(C)S</td>\n",
       "      <td>('Organosulfur compounds', 4.0)</td>\n",
       "      <td>-1.841999</td>\n",
       "      <td>(Thiols (Acute toxicity),)</td>\n",
       "    </tr>\n",
       "    <tr>\n",
       "      <th>4157</th>\n",
       "      <td>DTXSID90990466</td>\n",
       "      <td>NC1=CC=CC(=C1)C(O)=NC1=C2C(O)=CC(=CC2=C(C=C1)S...</td>\n",
       "      <td>('Naphthalenes', 3.0)</td>\n",
       "      <td>1.606971</td>\n",
       "      <td>(Anilines (Acute toxicity),)</td>\n",
       "    </tr>\n",
       "    <tr>\n",
       "      <th>4158</th>\n",
       "      <td>DTXSID90998205</td>\n",
       "      <td>[NaH].OC(=NC1=CC2=C(C=C1)N=C(O)N2)C1=CC2=CC=CC...</td>\n",
       "      <td>('Naphthalenes', 5.0)</td>\n",
       "      <td>1.282939</td>\n",
       "      <td>()</td>\n",
       "    </tr>\n",
       "  </tbody>\n",
       "</table>\n",
       "<p>4159 rows × 5 columns</p>\n",
       "</div>"
      ],
      "text/plain": [
       "               dtxsid                                             SMILES  \\\n",
       "0     DTXSID001004378                        CC(C)(C)C1CCC(CC1)OC(=O)C=C   \n",
       "1     DTXSID001005033         CCCCC(CC)COC(=O)C1CCC(CC1)C(=O)OCC(CC)CCCC   \n",
       "2     DTXSID001009930                      C[C@H]1N[C@@H](C)S[C@@H](C)S1   \n",
       "3     DTXSID001014486              [O--].[O--].[O--].[O--].[Ca++].[Mo+6]   \n",
       "4     DTXSID001016113  Br.CN1CCC[C@@H]1CC1=CNC2=CC=C(CCS(=O)(=O)C3=CC...   \n",
       "...               ...                                                ...   \n",
       "4154   DTXSID90968887                                      COC(=O)CC(C)S   \n",
       "4155   DTXSID90976780                            CC(SC1=C(C)OC=C1)C(C)=O   \n",
       "4156   DTXSID90978461                                         CCCCCC(C)S   \n",
       "4157   DTXSID90990466  NC1=CC=CC(=C1)C(O)=NC1=C2C(O)=CC(=CC2=C(C=C1)S...   \n",
       "4158   DTXSID90998205  [NaH].OC(=NC1=CC2=C(C=C1)N=C(O)N2)C1=CC2=CC=CC...   \n",
       "\n",
       "                                       category      pPOD  \\\n",
       "0     ('Carboxylic acids and derivatives', 2.0)  1.279506   \n",
       "1     ('Carboxylic acids and derivatives', 5.0)  2.180879   \n",
       "2                          ('Piperidines', nan)  0.348332   \n",
       "3          ('Homogeneous metal compounds', nan)  1.039907   \n",
       "4              ('Indoles and derivatives', nan)  0.667420   \n",
       "...                                         ...       ...   \n",
       "4154  ('Carboxylic acids and derivatives', 1.0) -1.841999   \n",
       "4155          ('Heteroaromatic compounds', nan) -0.044963   \n",
       "4156            ('Organosulfur compounds', 4.0) -1.841999   \n",
       "4157                      ('Naphthalenes', 3.0)  1.606971   \n",
       "4158                      ('Naphthalenes', 5.0)  1.282939   \n",
       "\n",
       "                                                    NCC  \n",
       "0     (Acrylates/Methacrylates (Chronic toxicity), E...  \n",
       "1                          (Esters (Chronic toxicity),)  \n",
       "2                                                    ()  \n",
       "3                                                   NaN  \n",
       "4                                                    ()  \n",
       "...                                                 ...  \n",
       "4154  (Esters (Acute toxicity), Thiols (Acute toxici...  \n",
       "4155                                                 ()  \n",
       "4156                         (Thiols (Acute toxicity),)  \n",
       "4157                       (Anilines (Acute toxicity),)  \n",
       "4158                                                 ()  \n",
       "\n",
       "[4159 rows x 5 columns]"
      ]
     },
     "execution_count": 120,
     "metadata": {},
     "output_type": "execute_result"
    }
   ],
   "source": [
    "toxval4[['dtxsid', 'SMILES', 'category', 'pPOD', 'NCC']]"
   ]
  },
  {
   "cell_type": "code",
   "execution_count": 133,
   "id": "150583f3-032d-415f-b8cc-eecc13cb0146",
   "metadata": {},
   "outputs": [],
   "source": [
    "(pd.concat([X1, toxval4[['dtxsid', 'SMILES', 'category', 'pPOD', 'NCC']].set_index('dtxsid')], axis =1)\n",
    " .to_csv(external_dir+'X1.csv')\n",
    ")"
   ]
  },
  {
   "cell_type": "code",
   "execution_count": 137,
   "id": "c4cc3641-1aec-4746-9c4c-36d398c7e127",
   "metadata": {},
   "outputs": [],
   "source": [
    "X1 = pd.read_csv(external_dir+'X1.csv', index_col = [0])"
   ]
  },
  {
   "cell_type": "code",
   "execution_count": 147,
   "id": "9cebb1cf-761d-49d4-bd3f-69c366022a18",
   "metadata": {},
   "outputs": [
    {
     "data": {
      "text/html": [
       "<div>\n",
       "<style scoped>\n",
       "    .dataframe tbody tr th:only-of-type {\n",
       "        vertical-align: middle;\n",
       "    }\n",
       "\n",
       "    .dataframe tbody tr th {\n",
       "        vertical-align: top;\n",
       "    }\n",
       "\n",
       "    .dataframe thead th {\n",
       "        text-align: right;\n",
       "    }\n",
       "</style>\n",
       "<table border=\"1\" class=\"dataframe\">\n",
       "  <thead>\n",
       "    <tr style=\"text-align: right;\">\n",
       "      <th></th>\n",
       "      <th>mrgn_0</th>\n",
       "      <th>mrgn_1</th>\n",
       "      <th>mrgn_2</th>\n",
       "      <th>mrgn_3</th>\n",
       "      <th>mrgn_4</th>\n",
       "      <th>mrgn_5</th>\n",
       "      <th>mrgn_6</th>\n",
       "      <th>mrgn_7</th>\n",
       "      <th>mrgn_8</th>\n",
       "      <th>mrgn_9</th>\n",
       "      <th>...</th>\n",
       "      <th>mrgn_2038</th>\n",
       "      <th>mrgn_2039</th>\n",
       "      <th>mrgn_2040</th>\n",
       "      <th>mrgn_2041</th>\n",
       "      <th>mrgn_2042</th>\n",
       "      <th>mrgn_2043</th>\n",
       "      <th>mrgn_2044</th>\n",
       "      <th>mrgn_2045</th>\n",
       "      <th>mrgn_2046</th>\n",
       "      <th>mrgn_2047</th>\n",
       "    </tr>\n",
       "  </thead>\n",
       "  <tbody>\n",
       "    <tr>\n",
       "      <th>DTXSID001004378</th>\n",
       "      <td>0</td>\n",
       "      <td>0</td>\n",
       "      <td>0</td>\n",
       "      <td>0</td>\n",
       "      <td>0</td>\n",
       "      <td>0</td>\n",
       "      <td>0</td>\n",
       "      <td>0</td>\n",
       "      <td>0</td>\n",
       "      <td>0</td>\n",
       "      <td>...</td>\n",
       "      <td>0</td>\n",
       "      <td>0</td>\n",
       "      <td>0</td>\n",
       "      <td>0</td>\n",
       "      <td>0</td>\n",
       "      <td>0</td>\n",
       "      <td>0</td>\n",
       "      <td>0</td>\n",
       "      <td>0</td>\n",
       "      <td>0</td>\n",
       "    </tr>\n",
       "    <tr>\n",
       "      <th>DTXSID001005033</th>\n",
       "      <td>0</td>\n",
       "      <td>1</td>\n",
       "      <td>0</td>\n",
       "      <td>0</td>\n",
       "      <td>0</td>\n",
       "      <td>0</td>\n",
       "      <td>0</td>\n",
       "      <td>0</td>\n",
       "      <td>0</td>\n",
       "      <td>0</td>\n",
       "      <td>...</td>\n",
       "      <td>0</td>\n",
       "      <td>0</td>\n",
       "      <td>0</td>\n",
       "      <td>0</td>\n",
       "      <td>0</td>\n",
       "      <td>0</td>\n",
       "      <td>0</td>\n",
       "      <td>0</td>\n",
       "      <td>0</td>\n",
       "      <td>0</td>\n",
       "    </tr>\n",
       "    <tr>\n",
       "      <th>DTXSID001009930</th>\n",
       "      <td>0</td>\n",
       "      <td>0</td>\n",
       "      <td>0</td>\n",
       "      <td>0</td>\n",
       "      <td>0</td>\n",
       "      <td>0</td>\n",
       "      <td>0</td>\n",
       "      <td>0</td>\n",
       "      <td>0</td>\n",
       "      <td>0</td>\n",
       "      <td>...</td>\n",
       "      <td>0</td>\n",
       "      <td>0</td>\n",
       "      <td>0</td>\n",
       "      <td>0</td>\n",
       "      <td>0</td>\n",
       "      <td>0</td>\n",
       "      <td>0</td>\n",
       "      <td>0</td>\n",
       "      <td>0</td>\n",
       "      <td>0</td>\n",
       "    </tr>\n",
       "    <tr>\n",
       "      <th>DTXSID001014486</th>\n",
       "      <td>0</td>\n",
       "      <td>0</td>\n",
       "      <td>0</td>\n",
       "      <td>0</td>\n",
       "      <td>0</td>\n",
       "      <td>0</td>\n",
       "      <td>0</td>\n",
       "      <td>0</td>\n",
       "      <td>0</td>\n",
       "      <td>0</td>\n",
       "      <td>...</td>\n",
       "      <td>0</td>\n",
       "      <td>0</td>\n",
       "      <td>0</td>\n",
       "      <td>0</td>\n",
       "      <td>0</td>\n",
       "      <td>0</td>\n",
       "      <td>0</td>\n",
       "      <td>0</td>\n",
       "      <td>0</td>\n",
       "      <td>0</td>\n",
       "    </tr>\n",
       "    <tr>\n",
       "      <th>DTXSID001016113</th>\n",
       "      <td>0</td>\n",
       "      <td>0</td>\n",
       "      <td>0</td>\n",
       "      <td>0</td>\n",
       "      <td>0</td>\n",
       "      <td>0</td>\n",
       "      <td>0</td>\n",
       "      <td>0</td>\n",
       "      <td>0</td>\n",
       "      <td>0</td>\n",
       "      <td>...</td>\n",
       "      <td>0</td>\n",
       "      <td>0</td>\n",
       "      <td>0</td>\n",
       "      <td>0</td>\n",
       "      <td>0</td>\n",
       "      <td>0</td>\n",
       "      <td>0</td>\n",
       "      <td>0</td>\n",
       "      <td>0</td>\n",
       "      <td>0</td>\n",
       "    </tr>\n",
       "    <tr>\n",
       "      <th>...</th>\n",
       "      <td>...</td>\n",
       "      <td>...</td>\n",
       "      <td>...</td>\n",
       "      <td>...</td>\n",
       "      <td>...</td>\n",
       "      <td>...</td>\n",
       "      <td>...</td>\n",
       "      <td>...</td>\n",
       "      <td>...</td>\n",
       "      <td>...</td>\n",
       "      <td>...</td>\n",
       "      <td>...</td>\n",
       "      <td>...</td>\n",
       "      <td>...</td>\n",
       "      <td>...</td>\n",
       "      <td>...</td>\n",
       "      <td>...</td>\n",
       "      <td>...</td>\n",
       "      <td>...</td>\n",
       "      <td>...</td>\n",
       "      <td>...</td>\n",
       "    </tr>\n",
       "    <tr>\n",
       "      <th>DTXSID90968887</th>\n",
       "      <td>0</td>\n",
       "      <td>1</td>\n",
       "      <td>0</td>\n",
       "      <td>0</td>\n",
       "      <td>0</td>\n",
       "      <td>0</td>\n",
       "      <td>0</td>\n",
       "      <td>0</td>\n",
       "      <td>0</td>\n",
       "      <td>0</td>\n",
       "      <td>...</td>\n",
       "      <td>0</td>\n",
       "      <td>0</td>\n",
       "      <td>0</td>\n",
       "      <td>0</td>\n",
       "      <td>0</td>\n",
       "      <td>0</td>\n",
       "      <td>0</td>\n",
       "      <td>0</td>\n",
       "      <td>0</td>\n",
       "      <td>0</td>\n",
       "    </tr>\n",
       "    <tr>\n",
       "      <th>DTXSID90976780</th>\n",
       "      <td>0</td>\n",
       "      <td>1</td>\n",
       "      <td>0</td>\n",
       "      <td>0</td>\n",
       "      <td>0</td>\n",
       "      <td>0</td>\n",
       "      <td>0</td>\n",
       "      <td>0</td>\n",
       "      <td>0</td>\n",
       "      <td>0</td>\n",
       "      <td>...</td>\n",
       "      <td>0</td>\n",
       "      <td>0</td>\n",
       "      <td>0</td>\n",
       "      <td>0</td>\n",
       "      <td>0</td>\n",
       "      <td>0</td>\n",
       "      <td>0</td>\n",
       "      <td>0</td>\n",
       "      <td>0</td>\n",
       "      <td>0</td>\n",
       "    </tr>\n",
       "    <tr>\n",
       "      <th>DTXSID90978461</th>\n",
       "      <td>0</td>\n",
       "      <td>1</td>\n",
       "      <td>0</td>\n",
       "      <td>0</td>\n",
       "      <td>0</td>\n",
       "      <td>0</td>\n",
       "      <td>0</td>\n",
       "      <td>0</td>\n",
       "      <td>0</td>\n",
       "      <td>0</td>\n",
       "      <td>...</td>\n",
       "      <td>0</td>\n",
       "      <td>0</td>\n",
       "      <td>0</td>\n",
       "      <td>0</td>\n",
       "      <td>0</td>\n",
       "      <td>0</td>\n",
       "      <td>0</td>\n",
       "      <td>0</td>\n",
       "      <td>0</td>\n",
       "      <td>0</td>\n",
       "    </tr>\n",
       "    <tr>\n",
       "      <th>DTXSID90990466</th>\n",
       "      <td>0</td>\n",
       "      <td>0</td>\n",
       "      <td>0</td>\n",
       "      <td>0</td>\n",
       "      <td>0</td>\n",
       "      <td>0</td>\n",
       "      <td>0</td>\n",
       "      <td>0</td>\n",
       "      <td>0</td>\n",
       "      <td>0</td>\n",
       "      <td>...</td>\n",
       "      <td>0</td>\n",
       "      <td>0</td>\n",
       "      <td>0</td>\n",
       "      <td>0</td>\n",
       "      <td>0</td>\n",
       "      <td>0</td>\n",
       "      <td>0</td>\n",
       "      <td>0</td>\n",
       "      <td>0</td>\n",
       "      <td>0</td>\n",
       "    </tr>\n",
       "    <tr>\n",
       "      <th>DTXSID90998205</th>\n",
       "      <td>0</td>\n",
       "      <td>0</td>\n",
       "      <td>0</td>\n",
       "      <td>0</td>\n",
       "      <td>0</td>\n",
       "      <td>0</td>\n",
       "      <td>0</td>\n",
       "      <td>0</td>\n",
       "      <td>0</td>\n",
       "      <td>0</td>\n",
       "      <td>...</td>\n",
       "      <td>0</td>\n",
       "      <td>0</td>\n",
       "      <td>0</td>\n",
       "      <td>0</td>\n",
       "      <td>0</td>\n",
       "      <td>0</td>\n",
       "      <td>0</td>\n",
       "      <td>0</td>\n",
       "      <td>0</td>\n",
       "      <td>0</td>\n",
       "    </tr>\n",
       "  </tbody>\n",
       "</table>\n",
       "<p>4159 rows × 2048 columns</p>\n",
       "</div>"
      ],
      "text/plain": [
       "                 mrgn_0  mrgn_1  mrgn_2  mrgn_3  mrgn_4  mrgn_5  mrgn_6  \\\n",
       "DTXSID001004378       0       0       0       0       0       0       0   \n",
       "DTXSID001005033       0       1       0       0       0       0       0   \n",
       "DTXSID001009930       0       0       0       0       0       0       0   \n",
       "DTXSID001014486       0       0       0       0       0       0       0   \n",
       "DTXSID001016113       0       0       0       0       0       0       0   \n",
       "...                 ...     ...     ...     ...     ...     ...     ...   \n",
       "DTXSID90968887        0       1       0       0       0       0       0   \n",
       "DTXSID90976780        0       1       0       0       0       0       0   \n",
       "DTXSID90978461        0       1       0       0       0       0       0   \n",
       "DTXSID90990466        0       0       0       0       0       0       0   \n",
       "DTXSID90998205        0       0       0       0       0       0       0   \n",
       "\n",
       "                 mrgn_7  mrgn_8  mrgn_9  ...  mrgn_2038  mrgn_2039  mrgn_2040  \\\n",
       "DTXSID001004378       0       0       0  ...          0          0          0   \n",
       "DTXSID001005033       0       0       0  ...          0          0          0   \n",
       "DTXSID001009930       0       0       0  ...          0          0          0   \n",
       "DTXSID001014486       0       0       0  ...          0          0          0   \n",
       "DTXSID001016113       0       0       0  ...          0          0          0   \n",
       "...                 ...     ...     ...  ...        ...        ...        ...   \n",
       "DTXSID90968887        0       0       0  ...          0          0          0   \n",
       "DTXSID90976780        0       0       0  ...          0          0          0   \n",
       "DTXSID90978461        0       0       0  ...          0          0          0   \n",
       "DTXSID90990466        0       0       0  ...          0          0          0   \n",
       "DTXSID90998205        0       0       0  ...          0          0          0   \n",
       "\n",
       "                 mrgn_2041  mrgn_2042  mrgn_2043  mrgn_2044  mrgn_2045  \\\n",
       "DTXSID001004378          0          0          0          0          0   \n",
       "DTXSID001005033          0          0          0          0          0   \n",
       "DTXSID001009930          0          0          0          0          0   \n",
       "DTXSID001014486          0          0          0          0          0   \n",
       "DTXSID001016113          0          0          0          0          0   \n",
       "...                    ...        ...        ...        ...        ...   \n",
       "DTXSID90968887           0          0          0          0          0   \n",
       "DTXSID90976780           0          0          0          0          0   \n",
       "DTXSID90978461           0          0          0          0          0   \n",
       "DTXSID90990466           0          0          0          0          0   \n",
       "DTXSID90998205           0          0          0          0          0   \n",
       "\n",
       "                 mrgn_2046  mrgn_2047  \n",
       "DTXSID001004378          0          0  \n",
       "DTXSID001005033          0          0  \n",
       "DTXSID001009930          0          0  \n",
       "DTXSID001014486          0          0  \n",
       "DTXSID001016113          0          0  \n",
       "...                    ...        ...  \n",
       "DTXSID90968887           0          0  \n",
       "DTXSID90976780           0          0  \n",
       "DTXSID90978461           0          0  \n",
       "DTXSID90990466           0          0  \n",
       "DTXSID90998205           0          0  \n",
       "\n",
       "[4159 rows x 2048 columns]"
      ]
     },
     "execution_count": 147,
     "metadata": {},
     "output_type": "execute_result"
    }
   ],
   "source": [
    "X1.loc[:, :'mrgn_2047']"
   ]
  },
  {
   "cell_type": "code",
   "execution_count": 139,
   "id": "e4dce1e8-0987-44ea-ba22-d54a4a90413d",
   "metadata": {},
   "outputs": [],
   "source": [
    "from sklearn.neighbors import NearestNeighbors"
   ]
  },
  {
   "cell_type": "code",
   "execution_count": 148,
   "id": "ee30cf30-2509-41cd-95bb-36f8987c36a0",
   "metadata": {},
   "outputs": [],
   "source": [
    "nbrs = NearestNeighbors(n_neighbors=10, metric='jaccard').fit(X1.loc[:, :'mrgn_2047'])"
   ]
  },
  {
   "cell_type": "code",
   "execution_count": 151,
   "id": "90985a23-c00d-491e-825c-9197f351e0e1",
   "metadata": {},
   "outputs": [
    {
     "name": "stderr",
     "output_type": "stream",
     "text": [
      "/home/grace/anaconda3/envs/py310/lib/python3.10/site-packages/sklearn/metrics/pairwise.py:2317: DataConversionWarning: Data was converted to boolean for metric jaccard\n",
      "  warnings.warn(msg, DataConversionWarning)\n"
     ]
    }
   ],
   "source": [
    "distances, indices = nbrs.kneighbors(test)"
   ]
  },
  {
   "cell_type": "code",
   "execution_count": 177,
   "id": "41c0333b-e8ad-4977-a186-df33bf4205ce",
   "metadata": {},
   "outputs": [],
   "source": [
    "sims = 1-distances"
   ]
  },
  {
   "cell_type": "code",
   "execution_count": 153,
   "id": "dfaca3d0-1cc0-43e6-b3c9-7a9bdf9ba26c",
   "metadata": {},
   "outputs": [
    {
     "data": {
      "text/plain": [
       "array([[1996,  875, 3031, 3395, 2178, 2992, 3394, 2595, 3179,  953]])"
      ]
     },
     "execution_count": 153,
     "metadata": {},
     "output_type": "execute_result"
    }
   ],
   "source": [
    "indices"
   ]
  },
  {
   "cell_type": "code",
   "execution_count": 163,
   "id": "6091e4e2-6793-426d-be54-64875f7f6180",
   "metadata": {},
   "outputs": [
    {
     "name": "stderr",
     "output_type": "stream",
     "text": [
      "/tmp/ipykernel_304485/141390605.py:5: FutureWarning: DataFrame.applymap has been deprecated. Use DataFrame.map instead.\n",
      "  neighbor_labels_df = neighbor_indices_df.applymap(lambda idx: X1.index[idx])\n"
     ]
    }
   ],
   "source": [
    "neighbor_indices_df = pd.DataFrame(indices)\n",
    "\n",
    "# Map the positional indices to the actual row labels from X1\n",
    "# 'X1.index' contains the actual row labels\n",
    "neighbor_labels_df = neighbor_indices_df.applymap(lambda idx: X1.index[idx])\n"
   ]
  },
  {
   "cell_type": "code",
   "execution_count": 192,
   "id": "c35f5e82-215f-4d2c-b399-8b81408f5567",
   "metadata": {},
   "outputs": [
    {
     "data": {
      "text/html": [
       "<div>\n",
       "<style scoped>\n",
       "    .dataframe tbody tr th:only-of-type {\n",
       "        vertical-align: middle;\n",
       "    }\n",
       "\n",
       "    .dataframe tbody tr th {\n",
       "        vertical-align: top;\n",
       "    }\n",
       "\n",
       "    .dataframe thead th {\n",
       "        text-align: right;\n",
       "    }\n",
       "</style>\n",
       "<table border=\"1\" class=\"dataframe\">\n",
       "  <thead>\n",
       "    <tr style=\"text-align: right;\">\n",
       "      <th></th>\n",
       "      <th>analogue_id</th>\n",
       "      <th>Jaccard</th>\n",
       "    </tr>\n",
       "  </thead>\n",
       "  <tbody>\n",
       "    <tr>\n",
       "      <th>0</th>\n",
       "      <td>DTXSID4051401</td>\n",
       "      <td>0.347826</td>\n",
       "    </tr>\n",
       "    <tr>\n",
       "      <th>1</th>\n",
       "      <td>DTXSID201311373</td>\n",
       "      <td>0.276596</td>\n",
       "    </tr>\n",
       "    <tr>\n",
       "      <th>2</th>\n",
       "      <td>DTXSID7023510</td>\n",
       "      <td>0.254902</td>\n",
       "    </tr>\n",
       "    <tr>\n",
       "      <th>3</th>\n",
       "      <td>DTXSID8020591</td>\n",
       "      <td>0.250000</td>\n",
       "    </tr>\n",
       "    <tr>\n",
       "      <th>4</th>\n",
       "      <td>DTXSID5021122</td>\n",
       "      <td>0.240000</td>\n",
       "    </tr>\n",
       "    <tr>\n",
       "      <th>5</th>\n",
       "      <td>DTXSID7021360</td>\n",
       "      <td>0.235294</td>\n",
       "    </tr>\n",
       "    <tr>\n",
       "      <th>6</th>\n",
       "      <td>DTXSID8020541</td>\n",
       "      <td>0.234043</td>\n",
       "    </tr>\n",
       "    <tr>\n",
       "      <th>7</th>\n",
       "      <td>DTXSID6021828</td>\n",
       "      <td>0.230769</td>\n",
       "    </tr>\n",
       "    <tr>\n",
       "      <th>8</th>\n",
       "      <td>DTXSID7040360</td>\n",
       "      <td>0.225806</td>\n",
       "    </tr>\n",
       "    <tr>\n",
       "      <th>9</th>\n",
       "      <td>DTXSID2021446</td>\n",
       "      <td>0.222222</td>\n",
       "    </tr>\n",
       "  </tbody>\n",
       "</table>\n",
       "</div>"
      ],
      "text/plain": [
       "       analogue_id   Jaccard\n",
       "0    DTXSID4051401  0.347826\n",
       "1  DTXSID201311373  0.276596\n",
       "2    DTXSID7023510  0.254902\n",
       "3    DTXSID8020591  0.250000\n",
       "4    DTXSID5021122  0.240000\n",
       "5    DTXSID7021360  0.235294\n",
       "6    DTXSID8020541  0.234043\n",
       "7    DTXSID6021828  0.230769\n",
       "8    DTXSID7040360  0.225806\n",
       "9    DTXSID2021446  0.222222"
      ]
     },
     "execution_count": 192,
     "metadata": {},
     "output_type": "execute_result"
    }
   ],
   "source": [
    "(pd.concat([neighbor_labels_df.T, pd.DataFrame(sims).T], axis =1)\n",
    " .set_axis( ['analogue_id', 'Jaccard'], axis = 1)\n",
    ")"
   ]
  },
  {
   "cell_type": "code",
   "execution_count": 183,
   "id": "2eceb682-b1ac-4aa3-b11f-47716c99d98d",
   "metadata": {},
   "outputs": [
    {
     "data": {
      "text/html": [
       "<div>\n",
       "<style scoped>\n",
       "    .dataframe tbody tr th:only-of-type {\n",
       "        vertical-align: middle;\n",
       "    }\n",
       "\n",
       "    .dataframe tbody tr th {\n",
       "        vertical-align: top;\n",
       "    }\n",
       "\n",
       "    .dataframe thead th {\n",
       "        text-align: right;\n",
       "    }\n",
       "</style>\n",
       "<table border=\"1\" class=\"dataframe\">\n",
       "  <thead>\n",
       "    <tr style=\"text-align: right;\">\n",
       "      <th></th>\n",
       "      <th>0</th>\n",
       "    </tr>\n",
       "  </thead>\n",
       "  <tbody>\n",
       "    <tr>\n",
       "      <th>0</th>\n",
       "      <td>DTXSID4051401</td>\n",
       "    </tr>\n",
       "    <tr>\n",
       "      <th>1</th>\n",
       "      <td>DTXSID201311373</td>\n",
       "    </tr>\n",
       "    <tr>\n",
       "      <th>2</th>\n",
       "      <td>DTXSID7023510</td>\n",
       "    </tr>\n",
       "    <tr>\n",
       "      <th>3</th>\n",
       "      <td>DTXSID8020591</td>\n",
       "    </tr>\n",
       "    <tr>\n",
       "      <th>4</th>\n",
       "      <td>DTXSID5021122</td>\n",
       "    </tr>\n",
       "    <tr>\n",
       "      <th>5</th>\n",
       "      <td>DTXSID7021360</td>\n",
       "    </tr>\n",
       "    <tr>\n",
       "      <th>6</th>\n",
       "      <td>DTXSID8020541</td>\n",
       "    </tr>\n",
       "    <tr>\n",
       "      <th>7</th>\n",
       "      <td>DTXSID6021828</td>\n",
       "    </tr>\n",
       "    <tr>\n",
       "      <th>8</th>\n",
       "      <td>DTXSID7040360</td>\n",
       "    </tr>\n",
       "    <tr>\n",
       "      <th>9</th>\n",
       "      <td>DTXSID2021446</td>\n",
       "    </tr>\n",
       "  </tbody>\n",
       "</table>\n",
       "</div>"
      ],
      "text/plain": [
       "                 0\n",
       "0    DTXSID4051401\n",
       "1  DTXSID201311373\n",
       "2    DTXSID7023510\n",
       "3    DTXSID8020591\n",
       "4    DTXSID5021122\n",
       "5    DTXSID7021360\n",
       "6    DTXSID8020541\n",
       "7    DTXSID6021828\n",
       "8    DTXSID7040360\n",
       "9    DTXSID2021446"
      ]
     },
     "execution_count": 183,
     "metadata": {},
     "output_type": "execute_result"
    }
   ],
   "source": [
    "neighbor_labels_df.T"
   ]
  },
  {
   "cell_type": "code",
   "execution_count": 165,
   "id": "6ac72702-5e33-4486-bef5-2d586443a2f4",
   "metadata": {},
   "outputs": [],
   "source": [
    "FP2 = pd.concat([X1.loc[:, :'mrgn_2047'], test])"
   ]
  },
  {
   "cell_type": "code",
   "execution_count": 167,
   "id": "2614a363-3daf-49b9-ac23-e39efee8075c",
   "metadata": {},
   "outputs": [],
   "source": [
    "from scipy.spatial.distance import pdist, squareform"
   ]
  },
  {
   "cell_type": "code",
   "execution_count": 168,
   "id": "7a5495b8-8f7b-4463-ad6d-ceb2fa4ebe56",
   "metadata": {},
   "outputs": [],
   "source": [
    "D_mgrn = pd.DataFrame(squareform(pdist(FP2, 'jaccard')), columns = FP2.index, index = FP2.index)"
   ]
  },
  {
   "cell_type": "code",
   "execution_count": 169,
   "id": "c7ead9ef-33ea-4cbd-8a53-73bce221d2ab",
   "metadata": {},
   "outputs": [
    {
     "data": {
      "text/html": [
       "<div>\n",
       "<style scoped>\n",
       "    .dataframe tbody tr th:only-of-type {\n",
       "        vertical-align: middle;\n",
       "    }\n",
       "\n",
       "    .dataframe tbody tr th {\n",
       "        vertical-align: top;\n",
       "    }\n",
       "\n",
       "    .dataframe thead th {\n",
       "        text-align: right;\n",
       "    }\n",
       "</style>\n",
       "<table border=\"1\" class=\"dataframe\">\n",
       "  <thead>\n",
       "    <tr style=\"text-align: right;\">\n",
       "      <th></th>\n",
       "      <th>DTXSID001004378</th>\n",
       "      <th>DTXSID001005033</th>\n",
       "      <th>DTXSID001009930</th>\n",
       "      <th>DTXSID001014486</th>\n",
       "      <th>DTXSID001016113</th>\n",
       "      <th>DTXSID001019355</th>\n",
       "      <th>DTXSID001019793</th>\n",
       "      <th>DTXSID001019836</th>\n",
       "      <th>DTXSID001020128</th>\n",
       "      <th>DTXSID001020930</th>\n",
       "      <th>...</th>\n",
       "      <th>DTXSID90925652</th>\n",
       "      <th>DTXSID90961393</th>\n",
       "      <th>DTXSID90961439</th>\n",
       "      <th>DTXSID90968685</th>\n",
       "      <th>DTXSID90968887</th>\n",
       "      <th>DTXSID90976780</th>\n",
       "      <th>DTXSID90978461</th>\n",
       "      <th>DTXSID90990466</th>\n",
       "      <th>DTXSID90998205</th>\n",
       "      <th>test</th>\n",
       "    </tr>\n",
       "  </thead>\n",
       "  <tbody>\n",
       "    <tr>\n",
       "      <th>DTXSID001004378</th>\n",
       "      <td>1.000000</td>\n",
       "      <td>0.126984</td>\n",
       "      <td>0.042553</td>\n",
       "      <td>0.0</td>\n",
       "      <td>0.059406</td>\n",
       "      <td>0.032787</td>\n",
       "      <td>0.059701</td>\n",
       "      <td>0.088889</td>\n",
       "      <td>0.049180</td>\n",
       "      <td>0.041096</td>\n",
       "      <td>...</td>\n",
       "      <td>0.050000</td>\n",
       "      <td>0.163934</td>\n",
       "      <td>0.054545</td>\n",
       "      <td>0.021277</td>\n",
       "      <td>0.104167</td>\n",
       "      <td>0.064516</td>\n",
       "      <td>0.019608</td>\n",
       "      <td>0.044444</td>\n",
       "      <td>0.022472</td>\n",
       "      <td>0.033333</td>\n",
       "    </tr>\n",
       "    <tr>\n",
       "      <th>DTXSID001005033</th>\n",
       "      <td>0.126984</td>\n",
       "      <td>1.000000</td>\n",
       "      <td>0.058824</td>\n",
       "      <td>0.0</td>\n",
       "      <td>0.056604</td>\n",
       "      <td>0.096774</td>\n",
       "      <td>0.151515</td>\n",
       "      <td>0.072917</td>\n",
       "      <td>0.150000</td>\n",
       "      <td>0.065789</td>\n",
       "      <td>...</td>\n",
       "      <td>0.062500</td>\n",
       "      <td>0.169231</td>\n",
       "      <td>0.050000</td>\n",
       "      <td>0.104167</td>\n",
       "      <td>0.137255</td>\n",
       "      <td>0.075758</td>\n",
       "      <td>0.187500</td>\n",
       "      <td>0.031250</td>\n",
       "      <td>0.021277</td>\n",
       "      <td>0.030769</td>\n",
       "    </tr>\n",
       "    <tr>\n",
       "      <th>DTXSID001009930</th>\n",
       "      <td>0.042553</td>\n",
       "      <td>0.058824</td>\n",
       "      <td>1.000000</td>\n",
       "      <td>0.0</td>\n",
       "      <td>0.034483</td>\n",
       "      <td>0.045455</td>\n",
       "      <td>0.080000</td>\n",
       "      <td>0.012500</td>\n",
       "      <td>0.021739</td>\n",
       "      <td>0.017241</td>\n",
       "      <td>...</td>\n",
       "      <td>0.022222</td>\n",
       "      <td>0.058824</td>\n",
       "      <td>0.051282</td>\n",
       "      <td>0.033333</td>\n",
       "      <td>0.028571</td>\n",
       "      <td>0.020833</td>\n",
       "      <td>0.060606</td>\n",
       "      <td>0.000000</td>\n",
       "      <td>0.027778</td>\n",
       "      <td>0.022727</td>\n",
       "    </tr>\n",
       "    <tr>\n",
       "      <th>DTXSID001014486</th>\n",
       "      <td>0.000000</td>\n",
       "      <td>0.000000</td>\n",
       "      <td>0.000000</td>\n",
       "      <td>1.0</td>\n",
       "      <td>0.000000</td>\n",
       "      <td>0.031250</td>\n",
       "      <td>0.000000</td>\n",
       "      <td>0.014925</td>\n",
       "      <td>0.000000</td>\n",
       "      <td>0.000000</td>\n",
       "      <td>...</td>\n",
       "      <td>0.000000</td>\n",
       "      <td>0.000000</td>\n",
       "      <td>0.037037</td>\n",
       "      <td>0.000000</td>\n",
       "      <td>0.000000</td>\n",
       "      <td>0.000000</td>\n",
       "      <td>0.000000</td>\n",
       "      <td>0.015873</td>\n",
       "      <td>0.000000</td>\n",
       "      <td>0.000000</td>\n",
       "    </tr>\n",
       "    <tr>\n",
       "      <th>DTXSID001016113</th>\n",
       "      <td>0.059406</td>\n",
       "      <td>0.056604</td>\n",
       "      <td>0.034483</td>\n",
       "      <td>0.0</td>\n",
       "      <td>1.000000</td>\n",
       "      <td>0.029703</td>\n",
       "      <td>0.056604</td>\n",
       "      <td>0.069231</td>\n",
       "      <td>0.039604</td>\n",
       "      <td>0.083333</td>\n",
       "      <td>...</td>\n",
       "      <td>0.106383</td>\n",
       "      <td>0.066667</td>\n",
       "      <td>0.031250</td>\n",
       "      <td>0.034884</td>\n",
       "      <td>0.032967</td>\n",
       "      <td>0.059406</td>\n",
       "      <td>0.033333</td>\n",
       "      <td>0.106557</td>\n",
       "      <td>0.073171</td>\n",
       "      <td>0.095745</td>\n",
       "    </tr>\n",
       "  </tbody>\n",
       "</table>\n",
       "<p>5 rows × 4160 columns</p>\n",
       "</div>"
      ],
      "text/plain": [
       "                 DTXSID001004378  DTXSID001005033  DTXSID001009930  \\\n",
       "DTXSID001004378         1.000000         0.126984         0.042553   \n",
       "DTXSID001005033         0.126984         1.000000         0.058824   \n",
       "DTXSID001009930         0.042553         0.058824         1.000000   \n",
       "DTXSID001014486         0.000000         0.000000         0.000000   \n",
       "DTXSID001016113         0.059406         0.056604         0.034483   \n",
       "\n",
       "                 DTXSID001014486  DTXSID001016113  DTXSID001019355  \\\n",
       "DTXSID001004378              0.0         0.059406         0.032787   \n",
       "DTXSID001005033              0.0         0.056604         0.096774   \n",
       "DTXSID001009930              0.0         0.034483         0.045455   \n",
       "DTXSID001014486              1.0         0.000000         0.031250   \n",
       "DTXSID001016113              0.0         1.000000         0.029703   \n",
       "\n",
       "                 DTXSID001019793  DTXSID001019836  DTXSID001020128  \\\n",
       "DTXSID001004378         0.059701         0.088889         0.049180   \n",
       "DTXSID001005033         0.151515         0.072917         0.150000   \n",
       "DTXSID001009930         0.080000         0.012500         0.021739   \n",
       "DTXSID001014486         0.000000         0.014925         0.000000   \n",
       "DTXSID001016113         0.056604         0.069231         0.039604   \n",
       "\n",
       "                 DTXSID001020930  ...  DTXSID90925652  DTXSID90961393  \\\n",
       "DTXSID001004378         0.041096  ...        0.050000        0.163934   \n",
       "DTXSID001005033         0.065789  ...        0.062500        0.169231   \n",
       "DTXSID001009930         0.017241  ...        0.022222        0.058824   \n",
       "DTXSID001014486         0.000000  ...        0.000000        0.000000   \n",
       "DTXSID001016113         0.083333  ...        0.106383        0.066667   \n",
       "\n",
       "                 DTXSID90961439  DTXSID90968685  DTXSID90968887  \\\n",
       "DTXSID001004378        0.054545        0.021277        0.104167   \n",
       "DTXSID001005033        0.050000        0.104167        0.137255   \n",
       "DTXSID001009930        0.051282        0.033333        0.028571   \n",
       "DTXSID001014486        0.037037        0.000000        0.000000   \n",
       "DTXSID001016113        0.031250        0.034884        0.032967   \n",
       "\n",
       "                 DTXSID90976780  DTXSID90978461  DTXSID90990466  \\\n",
       "DTXSID001004378        0.064516        0.019608        0.044444   \n",
       "DTXSID001005033        0.075758        0.187500        0.031250   \n",
       "DTXSID001009930        0.020833        0.060606        0.000000   \n",
       "DTXSID001014486        0.000000        0.000000        0.015873   \n",
       "DTXSID001016113        0.059406        0.033333        0.106557   \n",
       "\n",
       "                 DTXSID90998205      test  \n",
       "DTXSID001004378        0.022472  0.033333  \n",
       "DTXSID001005033        0.021277  0.030769  \n",
       "DTXSID001009930        0.027778  0.022727  \n",
       "DTXSID001014486        0.000000  0.000000  \n",
       "DTXSID001016113        0.073171  0.095745  \n",
       "\n",
       "[5 rows x 4160 columns]"
      ]
     },
     "execution_count": 169,
     "metadata": {},
     "output_type": "execute_result"
    }
   ],
   "source": [
    "S_mgrn = 1-D_mgrn\n",
    "S_mgrn.head()"
   ]
  },
  {
   "cell_type": "code",
   "execution_count": 170,
   "id": "c2cc0fa3-5bf8-46d3-b3b3-5c10fa5c28e0",
   "metadata": {},
   "outputs": [],
   "source": [
    "def nearest_neighbour(S, target, n = 10):\n",
    "    t_m =S[target].values\n",
    "    ids_chem = {i:x for i, x in enumerate(S.index)}\n",
    "    temp_chem = np.argpartition(-t_m, n)\n",
    "    chem_nn = temp_chem[:n]\n",
    "    nn_chem = [ids_chem[x] for x in chem_nn]\n",
    "    mydict = {k:v for k,v in list(zip(nn_chem,t_m[chem_nn]))}\n",
    "    df = pd.DataFrame(mydict.items(), columns = ['dtxsid', 'Jaccard']).sort_values(by = 'Jaccard', ascending = False)\n",
    "    return df"
   ]
  },
  {
   "cell_type": "code",
   "execution_count": 172,
   "id": "9d8ba625-3fa8-4098-b243-42856340aced",
   "metadata": {},
   "outputs": [
    {
     "data": {
      "text/html": [
       "<div>\n",
       "<style scoped>\n",
       "    .dataframe tbody tr th:only-of-type {\n",
       "        vertical-align: middle;\n",
       "    }\n",
       "\n",
       "    .dataframe tbody tr th {\n",
       "        vertical-align: top;\n",
       "    }\n",
       "\n",
       "    .dataframe thead th {\n",
       "        text-align: right;\n",
       "    }\n",
       "</style>\n",
       "<table border=\"1\" class=\"dataframe\">\n",
       "  <thead>\n",
       "    <tr style=\"text-align: right;\">\n",
       "      <th></th>\n",
       "      <th>dtxsid</th>\n",
       "      <th>Jaccard</th>\n",
       "    </tr>\n",
       "  </thead>\n",
       "  <tbody>\n",
       "    <tr>\n",
       "      <th>1</th>\n",
       "      <td>test</td>\n",
       "      <td>1.000000</td>\n",
       "    </tr>\n",
       "    <tr>\n",
       "      <th>0</th>\n",
       "      <td>DTXSID4051401</td>\n",
       "      <td>0.347826</td>\n",
       "    </tr>\n",
       "    <tr>\n",
       "      <th>2</th>\n",
       "      <td>DTXSID201311373</td>\n",
       "      <td>0.276596</td>\n",
       "    </tr>\n",
       "    <tr>\n",
       "      <th>3</th>\n",
       "      <td>DTXSID7023510</td>\n",
       "      <td>0.254902</td>\n",
       "    </tr>\n",
       "    <tr>\n",
       "      <th>4</th>\n",
       "      <td>DTXSID8020591</td>\n",
       "      <td>0.250000</td>\n",
       "    </tr>\n",
       "    <tr>\n",
       "      <th>7</th>\n",
       "      <td>DTXSID5021122</td>\n",
       "      <td>0.240000</td>\n",
       "    </tr>\n",
       "    <tr>\n",
       "      <th>8</th>\n",
       "      <td>DTXSID7021360</td>\n",
       "      <td>0.235294</td>\n",
       "    </tr>\n",
       "    <tr>\n",
       "      <th>6</th>\n",
       "      <td>DTXSID8020541</td>\n",
       "      <td>0.234043</td>\n",
       "    </tr>\n",
       "    <tr>\n",
       "      <th>5</th>\n",
       "      <td>DTXSID6021828</td>\n",
       "      <td>0.230769</td>\n",
       "    </tr>\n",
       "    <tr>\n",
       "      <th>9</th>\n",
       "      <td>DTXSID7040360</td>\n",
       "      <td>0.225806</td>\n",
       "    </tr>\n",
       "  </tbody>\n",
       "</table>\n",
       "</div>"
      ],
      "text/plain": [
       "            dtxsid   Jaccard\n",
       "1             test  1.000000\n",
       "0    DTXSID4051401  0.347826\n",
       "2  DTXSID201311373  0.276596\n",
       "3    DTXSID7023510  0.254902\n",
       "4    DTXSID8020591  0.250000\n",
       "7    DTXSID5021122  0.240000\n",
       "8    DTXSID7021360  0.235294\n",
       "6    DTXSID8020541  0.234043\n",
       "5    DTXSID6021828  0.230769\n",
       "9    DTXSID7040360  0.225806"
      ]
     },
     "execution_count": 172,
     "metadata": {},
     "output_type": "execute_result"
    }
   ],
   "source": [
    "nearest_neighbour(S_mgrn, 'test', n= 10)"
   ]
  },
  {
   "cell_type": "code",
   "execution_count": 196,
   "id": "50e47dbf-49dd-424d-a4cc-769e646d194a",
   "metadata": {},
   "outputs": [
    {
     "data": {
      "text/html": [
       "<div>\n",
       "<style scoped>\n",
       "    .dataframe tbody tr th:only-of-type {\n",
       "        vertical-align: middle;\n",
       "    }\n",
       "\n",
       "    .dataframe tbody tr th {\n",
       "        vertical-align: top;\n",
       "    }\n",
       "\n",
       "    .dataframe thead th {\n",
       "        text-align: right;\n",
       "    }\n",
       "</style>\n",
       "<table border=\"1\" class=\"dataframe\">\n",
       "  <thead>\n",
       "    <tr style=\"text-align: right;\">\n",
       "      <th></th>\n",
       "      <th>dtxsid</th>\n",
       "      <th>group</th>\n",
       "      <th>screenable</th>\n",
       "      <th>final_picks</th>\n",
       "    </tr>\n",
       "  </thead>\n",
       "  <tbody>\n",
       "    <tr>\n",
       "      <th>0</th>\n",
       "      <td>DTXSID4063036</td>\n",
       "      <td>('Acetylides', nan)</td>\n",
       "      <td>1</td>\n",
       "      <td>NaN</td>\n",
       "    </tr>\n",
       "    <tr>\n",
       "      <th>1</th>\n",
       "      <td>DTXSID30870753</td>\n",
       "      <td>('Acetylides', nan)</td>\n",
       "      <td>0</td>\n",
       "      <td>NaN</td>\n",
       "    </tr>\n",
       "    <tr>\n",
       "      <th>2</th>\n",
       "      <td>DTXSID7062374</td>\n",
       "      <td>('Acetylides', nan)</td>\n",
       "      <td>0</td>\n",
       "      <td>NaN</td>\n",
       "    </tr>\n",
       "    <tr>\n",
       "      <th>3</th>\n",
       "      <td>DTXSID9061097</td>\n",
       "      <td>('Acetylides', nan)</td>\n",
       "      <td>1</td>\n",
       "      <td>1.0</td>\n",
       "    </tr>\n",
       "    <tr>\n",
       "      <th>4</th>\n",
       "      <td>DTXSID1061233</td>\n",
       "      <td>('Acetylides', nan)</td>\n",
       "      <td>0</td>\n",
       "      <td>NaN</td>\n",
       "    </tr>\n",
       "    <tr>\n",
       "      <th>...</th>\n",
       "      <td>...</td>\n",
       "      <td>...</td>\n",
       "      <td>...</td>\n",
       "      <td>...</td>\n",
       "    </tr>\n",
       "    <tr>\n",
       "      <th>14242</th>\n",
       "      <td>DTXSID7070391</td>\n",
       "      <td>('Triphenyl compounds', nan)</td>\n",
       "      <td>1</td>\n",
       "      <td>NaN</td>\n",
       "    </tr>\n",
       "    <tr>\n",
       "      <th>14243</th>\n",
       "      <td>DTXSID70889405</td>\n",
       "      <td>('Triphenyl compounds', nan)</td>\n",
       "      <td>1</td>\n",
       "      <td>1.0</td>\n",
       "    </tr>\n",
       "    <tr>\n",
       "      <th>14244</th>\n",
       "      <td>DTXSID90886794</td>\n",
       "      <td>('Triphenyl compounds', nan)</td>\n",
       "      <td>1</td>\n",
       "      <td>NaN</td>\n",
       "    </tr>\n",
       "    <tr>\n",
       "      <th>14245</th>\n",
       "      <td>DTXSID3073052</td>\n",
       "      <td>('Triphenyl compounds', nan)</td>\n",
       "      <td>1</td>\n",
       "      <td>NaN</td>\n",
       "    </tr>\n",
       "    <tr>\n",
       "      <th>14246</th>\n",
       "      <td>DTXSID7031531</td>\n",
       "      <td>('Triphenyl compounds', nan)</td>\n",
       "      <td>0</td>\n",
       "      <td>NaN</td>\n",
       "    </tr>\n",
       "  </tbody>\n",
       "</table>\n",
       "<p>14247 rows × 4 columns</p>\n",
       "</div>"
      ],
      "text/plain": [
       "               dtxsid                         group  screenable  final_picks\n",
       "0       DTXSID4063036           ('Acetylides', nan)           1          NaN\n",
       "1      DTXSID30870753           ('Acetylides', nan)           0          NaN\n",
       "2       DTXSID7062374           ('Acetylides', nan)           0          NaN\n",
       "3       DTXSID9061097           ('Acetylides', nan)           1          1.0\n",
       "4       DTXSID1061233           ('Acetylides', nan)           0          NaN\n",
       "...               ...                           ...         ...          ...\n",
       "14242   DTXSID7070391  ('Triphenyl compounds', nan)           1          NaN\n",
       "14243  DTXSID70889405  ('Triphenyl compounds', nan)           1          1.0\n",
       "14244  DTXSID90886794  ('Triphenyl compounds', nan)           1          NaN\n",
       "14245   DTXSID3073052  ('Triphenyl compounds', nan)           1          NaN\n",
       "14246   DTXSID7031531  ('Triphenyl compounds', nan)           0          NaN\n",
       "\n",
       "[14247 rows x 4 columns]"
      ]
     },
     "execution_count": 196,
     "metadata": {},
     "output_type": "execute_result"
    }
   ],
   "source": [
    "df[['dtxsid', 'group', 'screenable', 'final_picks']]"
   ]
  },
  {
   "cell_type": "code",
   "execution_count": null,
   "id": "1813f5ec-b418-4223-a4b2-8377b0c0a5eb",
   "metadata": {},
   "outputs": [],
   "source": []
  },
  {
   "cell_type": "code",
   "execution_count": null,
   "id": "78ecd2d2-4cc0-4f3e-a42e-4d335825b43d",
   "metadata": {},
   "outputs": [],
   "source": []
  },
  {
   "cell_type": "code",
   "execution_count": null,
   "id": "2f2aadf5-54c8-40b7-9db7-ec903ce4e4ba",
   "metadata": {},
   "outputs": [],
   "source": []
  }
 ],
 "metadata": {
  "kernelspec": {
   "display_name": "py310",
   "language": "python",
   "name": "py310"
  },
  "language_info": {
   "codemirror_mode": {
    "name": "ipython",
    "version": 3
   },
   "file_extension": ".py",
   "mimetype": "text/x-python",
   "name": "python",
   "nbconvert_exporter": "python",
   "pygments_lexer": "ipython3",
   "version": "3.10.14"
  },
  "widgets": {
   "application/vnd.jupyter.widget-state+json": {
    "state": {},
    "version_major": 2,
    "version_minor": 0
   }
  }
 },
 "nbformat": 4,
 "nbformat_minor": 5
}
