{
 "cells": [
  {
   "cell_type": "code",
   "execution_count": 1,
   "metadata": {},
   "outputs": [],
   "source": [
    "import numpy as np\n",
    "import pandas as pd\n",
    "import matplotlib.pyplot as plt\n",
    "import seaborn as sns\n",
    "%matplotlib inline\n",
    "import os\n",
    "import glob\n",
    "import openpyxl"
   ]
  },
  {
   "cell_type": "code",
   "execution_count": 2,
   "metadata": {},
   "outputs": [
    {
     "data": {
      "text/plain": [
       "'/home/grace/Documents/python/tsca_categories/notebooks'"
      ]
     },
     "execution_count": 2,
     "metadata": {},
     "output_type": "execute_result"
    }
   ],
   "source": [
    "os.getcwd()"
   ]
  },
  {
   "cell_type": "code",
   "execution_count": 3,
   "metadata": {},
   "outputs": [
    {
     "data": {
      "text/plain": [
       "'/home/grace/Documents/python/tsca_categories/'"
      ]
     },
     "execution_count": 3,
     "metadata": {},
     "output_type": "execute_result"
    }
   ],
   "source": [
    "\n",
    "TOP = os.getcwd().replace('notebooks', '')\n",
    "TOP"
   ]
  },
  {
   "cell_type": "code",
   "execution_count": 4,
   "metadata": {},
   "outputs": [],
   "source": [
    "\n",
    "raw_dir = TOP + 'data/raw/'\n",
    "processed_dir = TOP +'data/processed/'\n",
    "interim_dir = TOP + 'data/interim/'\n",
    "external_dir = TOP + 'data/external/'\n",
    "figures_dir = TOP + 'reports/figures/'"
   ]
  },
  {
   "cell_type": "code",
   "execution_count": 5,
   "metadata": {},
   "outputs": [],
   "source": [
    "df = pd.read_excel(raw_dir+'TSCA_list_chemicals-2022-07-07-13-54-23.xlsx')"
   ]
  },
  {
   "cell_type": "code",
   "execution_count": 6,
   "metadata": {},
   "outputs": [],
   "source": [
    "from rdkit import Chem\n",
    "from rdkit.Chem import Draw\n",
    "from rdkit.Chem.Draw import IPythonConsole, MolsToGridImage\n",
    "\n",
    "#Show mols in dataframes\n",
    "from rdkit.Chem import PandasTools\n",
    "from rdkit import Chem\n",
    "from rdkit.Chem.Draw import MolsToGridImage\n",
    "from IPython.core.display import HTML\n",
    "from rdkit.Chem import Descriptors\n",
    "from rdkit.ML.Descriptors import MoleculeDescriptors\n",
    "from rdkit.Chem import PandasTools\n",
    "from rdkit.Chem import AllChem\n",
    "from rdkit.Chem import rdDepictor\n",
    "from rdkit.Chem.Fingerprints import FingerprintMols\n",
    "from rdkit import DataStructs"
   ]
  },
  {
   "cell_type": "code",
   "execution_count": 7,
   "metadata": {},
   "outputs": [
    {
     "data": {
      "text/plain": [
       "(14247, 14)"
      ]
     },
     "execution_count": 7,
     "metadata": {},
     "output_type": "execute_result"
    }
   ],
   "source": [
    "df.shape"
   ]
  },
  {
   "cell_type": "code",
   "execution_count": 9,
   "metadata": {},
   "outputs": [
    {
     "data": {
      "text/plain": [
       "14247"
      ]
     },
     "execution_count": 9,
     "metadata": {},
     "output_type": "execute_result"
    }
   ],
   "source": [
    "df.DTXSID.nunique()"
   ]
  },
  {
   "cell_type": "code",
   "execution_count": 8,
   "metadata": {},
   "outputs": [],
   "source": [
    "df = df[df.SMILES  != '-']"
   ]
  },
  {
   "cell_type": "code",
   "execution_count": 9,
   "metadata": {},
   "outputs": [],
   "source": [
    "df2 = df[['DTXSID', 'SMILES']]"
   ]
  },
  {
   "cell_type": "code",
   "execution_count": 10,
   "metadata": {},
   "outputs": [],
   "source": [
    "df2 = df2[['SMILES','DTXSID']]"
   ]
  },
  {
   "cell_type": "code",
   "execution_count": 11,
   "metadata": {},
   "outputs": [],
   "source": [
    "df2.columns = ['Smiles', 'dtxsid']"
   ]
  },
  {
   "cell_type": "code",
   "execution_count": 12,
   "metadata": {},
   "outputs": [
    {
     "data": {
      "text/html": [
       "<div>\n",
       "<style scoped>\n",
       "    .dataframe tbody tr th:only-of-type {\n",
       "        vertical-align: middle;\n",
       "    }\n",
       "\n",
       "    .dataframe tbody tr th {\n",
       "        vertical-align: top;\n",
       "    }\n",
       "\n",
       "    .dataframe thead th {\n",
       "        text-align: right;\n",
       "    }\n",
       "</style>\n",
       "<table border=\"1\" class=\"dataframe\">\n",
       "  <thead>\n",
       "    <tr style=\"text-align: right;\">\n",
       "      <th></th>\n",
       "      <th>Smiles</th>\n",
       "      <th>dtxsid</th>\n",
       "    </tr>\n",
       "  </thead>\n",
       "  <tbody>\n",
       "    <tr>\n",
       "      <th>0</th>\n",
       "      <td>C1=CC=C(C=C1)C(C1=CC=CC=C1)C1=CC=CC=C1</td>\n",
       "      <td>DTXSID3060164</td>\n",
       "    </tr>\n",
       "    <tr>\n",
       "      <th>1</th>\n",
       "      <td>ICCCI</td>\n",
       "      <td>DTXSID7060837</td>\n",
       "    </tr>\n",
       "    <tr>\n",
       "      <th>2</th>\n",
       "      <td>OC(=O)C=CC1=CC=C(C=CC(O)=O)C=C1</td>\n",
       "      <td>DTXSID9025879</td>\n",
       "    </tr>\n",
       "    <tr>\n",
       "      <th>3</th>\n",
       "      <td>O=C(NC1=CC=CC2=C1C(=O)C1=C(C3=C(C=C1)C1=C(N3)C...</td>\n",
       "      <td>DTXSID2026282</td>\n",
       "    </tr>\n",
       "    <tr>\n",
       "      <th>4</th>\n",
       "      <td>CC1(C)COC(C)(OC1)C1=CC=CC=C1</td>\n",
       "      <td>DTXSID4052188</td>\n",
       "    </tr>\n",
       "    <tr>\n",
       "      <th>...</th>\n",
       "      <td>...</td>\n",
       "      <td>...</td>\n",
       "    </tr>\n",
       "    <tr>\n",
       "      <th>14242</th>\n",
       "      <td>OC(=O)CSC1=NC2=CC=CC=C2S1</td>\n",
       "      <td>DTXSID5064209</td>\n",
       "    </tr>\n",
       "    <tr>\n",
       "      <th>14243</th>\n",
       "      <td>COC(=O)CCCCl</td>\n",
       "      <td>DTXSID7062873</td>\n",
       "    </tr>\n",
       "    <tr>\n",
       "      <th>14244</th>\n",
       "      <td>CCC1COC(=O)O1</td>\n",
       "      <td>DTXSID9040342</td>\n",
       "    </tr>\n",
       "    <tr>\n",
       "      <th>14245</th>\n",
       "      <td>CC(C)(C)C1=CC(=O)C(=CC1=O)C(C)(C)C</td>\n",
       "      <td>DTXSID3044889</td>\n",
       "    </tr>\n",
       "    <tr>\n",
       "      <th>14246</th>\n",
       "      <td>CC1=CC(=CC(=C1O)C(C)(C)C)C(C)(C)C</td>\n",
       "      <td>DTXSID3060667</td>\n",
       "    </tr>\n",
       "  </tbody>\n",
       "</table>\n",
       "<p>14245 rows × 2 columns</p>\n",
       "</div>"
      ],
      "text/plain": [
       "                                                  Smiles         dtxsid\n",
       "0                 C1=CC=C(C=C1)C(C1=CC=CC=C1)C1=CC=CC=C1  DTXSID3060164\n",
       "1                                                  ICCCI  DTXSID7060837\n",
       "2                        OC(=O)C=CC1=CC=C(C=CC(O)=O)C=C1  DTXSID9025879\n",
       "3      O=C(NC1=CC=CC2=C1C(=O)C1=C(C3=C(C=C1)C1=C(N3)C...  DTXSID2026282\n",
       "4                           CC1(C)COC(C)(OC1)C1=CC=CC=C1  DTXSID4052188\n",
       "...                                                  ...            ...\n",
       "14242                          OC(=O)CSC1=NC2=CC=CC=C2S1  DTXSID5064209\n",
       "14243                                       COC(=O)CCCCl  DTXSID7062873\n",
       "14244                                      CCC1COC(=O)O1  DTXSID9040342\n",
       "14245                 CC(C)(C)C1=CC(=O)C(=CC1=O)C(C)(C)C  DTXSID3044889\n",
       "14246                  CC1=CC(=CC(=C1O)C(C)(C)C)C(C)(C)C  DTXSID3060667\n",
       "\n",
       "[14245 rows x 2 columns]"
      ]
     },
     "execution_count": 12,
     "metadata": {},
     "output_type": "execute_result"
    }
   ],
   "source": [
    "df2"
   ]
  },
  {
   "cell_type": "code",
   "execution_count": 13,
   "metadata": {},
   "outputs": [
    {
     "name": "stderr",
     "output_type": "stream",
     "text": [
      "RDKit ERROR: [11:40:50] Explicit valence for atom # 8 O, 3, is greater than permitted\n",
      "RDKit ERROR: [11:40:50] Explicit valence for atom # 2 O, 3, is greater than permitted\n",
      "RDKit ERROR: [11:40:50] Explicit valence for atom # 1 Ca, 18, is greater than permitted\n",
      "RDKit ERROR: [11:40:50] Explicit valence for atom # 14 Cl, 2, is greater than permitted\n",
      "RDKit ERROR: [11:40:50] Explicit valence for atom # 1 Ba, 18, is greater than permitted\n",
      "RDKit ERROR: [11:40:50] Explicit valence for atom # 3 C, 5, is greater than permitted\n",
      "RDKit ERROR: [11:40:50] Explicit valence for atom # 4 N, 4, is greater than permitted\n",
      "RDKit ERROR: [11:40:50] Explicit valence for atom # 1 C, 6, is greater than permitted\n",
      "RDKit ERROR: [11:40:50] Explicit valence for atom # 3 O, 3, is greater than permitted\n",
      "RDKit ERROR: [11:40:50] Explicit valence for atom # 1 O, 3, is greater than permitted\n",
      "RDKit ERROR: [11:40:50] Explicit valence for atom # 1 Br, 3, is greater than permitted\n",
      "RDKit ERROR: [11:40:50] Explicit valence for atom # 0 O, 3, is greater than permitted\n",
      "RDKit ERROR: [11:40:50] Explicit valence for atom # 8 N, 4, is greater than permitted\n",
      "RDKit ERROR: [11:40:50] Explicit valence for atom # 1 Si, 12, is greater than permitted\n",
      "RDKit ERROR: [11:40:51] Explicit valence for atom # 2 B, 7, is greater than permitted\n",
      "RDKit ERROR: [11:40:51] Explicit valence for atom # 0 O, 3, is greater than permitted\n",
      "RDKit ERROR: [11:40:51] Explicit valence for atom # 2 O, 3, is greater than permitted\n",
      "RDKit ERROR: [11:40:51] Explicit valence for atom # 0 O, 3, is greater than permitted\n",
      "RDKit ERROR: [11:40:51] Explicit valence for atom # 0 O, 3, is greater than permitted\n",
      "RDKit ERROR: [11:40:51] Explicit valence for atom # 8 O, 3, is greater than permitted\n",
      "RDKit ERROR: [11:40:51] Explicit valence for atom # 1 Cl, 3, is greater than permitted\n",
      "RDKit ERROR: [11:40:51] Explicit valence for atom # 0 B, 4, is greater than permitted\n",
      "RDKit ERROR: [11:40:51] Explicit valence for atom # 0 O, 3, is greater than permitted\n",
      "RDKit ERROR: [11:40:51] Explicit valence for atom # 31 N, 4, is greater than permitted\n",
      "RDKit ERROR: [11:40:51] Explicit valence for atom # 8 O, 3, is greater than permitted\n",
      "RDKit ERROR: [11:40:51] Explicit valence for atom # 2 O, 3, is greater than permitted\n",
      "RDKit ERROR: [11:40:51] Explicit valence for atom # 0 O, 3, is greater than permitted\n",
      "RDKit ERROR: [11:40:51] Explicit valence for atom # 4 O, 3, is greater than permitted\n",
      "RDKit ERROR: [11:40:51] Explicit valence for atom # 0 O, 3, is greater than permitted\n",
      "RDKit ERROR: [11:40:51] Explicit valence for atom # 4 O, 3, is greater than permitted\n",
      "RDKit ERROR: [11:40:51] Explicit valence for atom # 1 Si, 18, is greater than permitted\n",
      "RDKit ERROR: [11:40:51] Explicit valence for atom # 0 B, 6, is greater than permitted\n",
      "RDKit ERROR: [11:40:51] Explicit valence for atom # 1 Mg, 6, is greater than permitted\n",
      "RDKit ERROR: [11:40:51] Explicit valence for atom # 3 O, 3, is greater than permitted\n",
      "RDKit ERROR: [11:40:51] Explicit valence for atom # 4 C, 5, is greater than permitted\n",
      "RDKit ERROR: [11:40:51] Explicit valence for atom # 2 O, 3, is greater than permitted\n",
      "RDKit ERROR: [11:40:51] Explicit valence for atom # 1 N, 4, is greater than permitted\n",
      "RDKit ERROR: [11:40:51] Explicit valence for atom # 5 O, 3, is greater than permitted\n",
      "RDKit ERROR: [11:40:51] Explicit valence for atom # 3 O, 3, is greater than permitted\n",
      "RDKit ERROR: [11:40:51] Explicit valence for atom # 0 C, 5, is greater than permitted\n",
      "RDKit ERROR: [11:40:51] Explicit valence for atom # 0 O, 3, is greater than permitted\n",
      "RDKit ERROR: [11:40:51] Explicit valence for atom # 4 Sn, 6, is greater than permitted\n",
      "RDKit ERROR: [11:40:51] Explicit valence for atom # 2 O, 3, is greater than permitted\n",
      "RDKit ERROR: [11:40:51] Explicit valence for atom # 2 O, 3, is greater than permitted\n",
      "RDKit ERROR: [11:40:51] Explicit valence for atom # 0 B, 6, is greater than permitted\n",
      "RDKit ERROR: [11:40:51] Explicit valence for atom # 1 Cl, 7, is greater than permitted\n",
      "RDKit ERROR: [11:40:51] Explicit valence for atom # 0 O, 4, is greater than permitted\n",
      "RDKit ERROR: [11:40:51] Explicit valence for atom # 0 B, 5, is greater than permitted\n",
      "RDKit ERROR: [11:40:51] Explicit valence for atom # 4 C, 5, is greater than permitted\n",
      "RDKit ERROR: [11:40:51] Explicit valence for atom # 2 O, 3, is greater than permitted\n",
      "RDKit ERROR: [11:40:51] Explicit valence for atom # 10 N, 4, is greater than permitted\n"
     ]
    }
   ],
   "source": [
    "PandasTools.AddMoleculeColumnToFrame(df2,'Smiles','Molecule') # pp = doesn't work for me"
   ]
  },
  {
   "cell_type": "code",
   "execution_count": 19,
   "metadata": {},
   "outputs": [],
   "source": [
    "df2[df2['Molecule'].isnull()].to_csv(processed_dir+'rdkit_errors.csv')"
   ]
  },
  {
   "cell_type": "code",
   "execution_count": 15,
   "metadata": {},
   "outputs": [],
   "source": [
    "#df2\n",
    "from rdkit import RDConfig\n",
    "from rdkit.Chem import PandasTools"
   ]
  },
  {
   "cell_type": "code",
   "execution_count": 17,
   "metadata": {},
   "outputs": [],
   "source": [
    "#df3_dict = {k:Chem.MolFromSmiles(v) for k, v in zip(df3['dtxsid'], df3['Smiles'])}"
   ]
  },
  {
   "cell_type": "code",
   "execution_count": 18,
   "metadata": {},
   "outputs": [],
   "source": [
    "#df3_dict = {k:v for k,v in df3_dict.items() if v is not None}"
   ]
  },
  {
   "cell_type": "code",
   "execution_count": 107,
   "metadata": {},
   "outputs": [],
   "source": [
    "#df3_dict"
   ]
  },
  {
   "cell_type": "code",
   "execution_count": 108,
   "metadata": {},
   "outputs": [],
   "source": [
    "w = Chem.SDWriter('bz.out.sdf')\n",
    "for k,v in df3_dict.items():\n",
    "    # skip molecules the rdkit doesn't read:\n",
    "    # add coordinates so we get a correct mol block:\n",
    "    AllChem.Compute2DCoords(v)\n",
    "    w.write(v)\n",
    "\n",
    "w.flush()"
   ]
  },
  {
   "cell_type": "code",
   "execution_count": 120,
   "metadata": {},
   "outputs": [],
   "source": [
    "#PandasTools.WriteSDF(df2, 'pp_out.sdf', molColName='Molecule', properties=list(df2.columns))"
   ]
  },
  {
   "cell_type": "code",
   "execution_count": null,
   "metadata": {},
   "outputs": [],
   "source": []
  }
 ],
 "metadata": {
  "kernelspec": {
   "display_name": "pfas_dap",
   "language": "python",
   "name": "pfas_dap"
  },
  "language_info": {
   "codemirror_mode": {
    "name": "ipython",
    "version": 3
   },
   "file_extension": ".py",
   "mimetype": "text/x-python",
   "name": "python",
   "nbconvert_exporter": "python",
   "pygments_lexer": "ipython3",
   "version": "3.8.6"
  }
 },
 "nbformat": 4,
 "nbformat_minor": 4
}
