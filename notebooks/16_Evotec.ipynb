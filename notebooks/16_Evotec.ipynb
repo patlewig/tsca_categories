{
 "cells": [
  {
   "cell_type": "code",
   "execution_count": 2,
   "id": "b10ae270-3aa3-431e-9802-5b4864615849",
   "metadata": {},
   "outputs": [],
   "source": [
    "import numpy as np\n",
    "import pandas as pd\n",
    "import matplotlib.pyplot as plt\n",
    "import seaborn as sns\n",
    "%matplotlib inline\n",
    "import openpyxl\n",
    "from rdkit.Chem.Draw import IPythonConsole, MolsToGridImage\n",
    "\n",
    "#Show mols in dataframes\n",
    "from rdkit.Chem import PandasTools\n",
    "from rdkit import Chem\n",
    "from rdkit.Chem.Draw import MolsToGridImage\n",
    "from IPython.core.display import HTML\n",
    "from rdkit.Chem import Descriptors\n",
    "from rdkit.ML.Descriptors import MoleculeDescriptors\n",
    "from rdkit.Chem import PandasTools\n",
    "from rdkit.Chem import AllChem\n",
    "from rdkit.Chem import rdDepictor\n",
    "from rdkit.Chem.Fingerprints import FingerprintMols\n",
    "from rdkit import DataStructs\n",
    "import os\n",
    "import sys\n",
    "from scipy.spatial.distance import pdist, squareform\n"
   ]
  },
  {
   "cell_type": "code",
   "execution_count": 3,
   "id": "de9e51b4-2cb9-41e4-a239-6418142a6f6c",
   "metadata": {},
   "outputs": [],
   "source": [
    "TOP = os.getcwd().replace('notebooks', '')\n",
    "raw_dir = TOP + 'data/raw/'\n",
    "processed_dir = TOP +'data/processed/'\n",
    "interim_dir = TOP + 'data/interim/'\n",
    "external_dir = TOP + 'data/external/'\n",
    "figures_dir = TOP + 'reports/figures/'"
   ]
  },
  {
   "cell_type": "markdown",
   "id": "f3b1c878-8f61-4665-8a9f-2177992b425d",
   "metadata": {},
   "source": [
    "#### Read in the last file where we did an extra round of picks based on Evotec availability of the 'final picks' first identified in the Dec 2022 spreadsheet"
   ]
  },
  {
   "cell_type": "code",
   "execution_count": 4,
   "id": "acffeb08-dbfb-4934-bdc5-ffdfef3b1dce",
   "metadata": {},
   "outputs": [],
   "source": [
    "df = pd.read_csv(external_dir+'gp_round2.csv', index_col = [0])"
   ]
  },
  {
   "cell_type": "code",
   "execution_count": 5,
   "id": "e26c7f79-3d17-4069-990a-9009ce7443ee",
   "metadata": {},
   "outputs": [],
   "source": [
    "def tweak_df(df):\n",
    "    return (df.rename(columns = {'round2_pk_gp': 'round2_picks'})\n",
    "            )\n",
    "            "
   ]
  },
  {
   "cell_type": "code",
   "execution_count": 6,
   "id": "6718db90-f680-46ba-87f3-9615786df63f",
   "metadata": {},
   "outputs": [],
   "source": [
    "df = tweak_df(df)"
   ]
  },
  {
   "cell_type": "code",
   "execution_count": 7,
   "id": "4d1fb1dd-6272-4203-9230-bd2badc614f9",
   "metadata": {},
   "outputs": [],
   "source": [
    "def tweak_df2(df):\n",
    "    cols = ['available_round1']\n",
    "    return (df.assign(available_round1=df.available_round1.replace({0: np.nan})))"
   ]
  },
  {
   "cell_type": "code",
   "execution_count": 8,
   "id": "882f1c9e-3871-448b-83cb-d3970860a14c",
   "metadata": {},
   "outputs": [],
   "source": [
    "df2 = tweak_df2(df)"
   ]
  },
  {
   "cell_type": "code",
   "execution_count": 9,
   "id": "0e53b8e0-7b58-47ec-bb1e-9e788a197e57",
   "metadata": {},
   "outputs": [],
   "source": [
    "df.loc[:,'all_picks'] = df.loc[:,['available_round1','round2_picks']].sum(axis=1, min_count=1)"
   ]
  },
  {
   "cell_type": "code",
   "execution_count": 38,
   "id": "afe572e0-1d9c-45a3-820a-eeaffea8b0a9",
   "metadata": {},
   "outputs": [],
   "source": [
    "df['all_picks'] = df['all_picks'].replace({0:np.nan})"
   ]
  },
  {
   "cell_type": "code",
   "execution_count": 39,
   "id": "8c92150d-5198-4cec-87f4-7b3ec0311632",
   "metadata": {},
   "outputs": [
    {
     "data": {
      "text/plain": [
       "1.0    174\n",
       "Name: round2_picks, dtype: int64"
      ]
     },
     "execution_count": 39,
     "metadata": {},
     "output_type": "execute_result"
    }
   ],
   "source": [
    "df['round2_picks'].value_counts() "
   ]
  },
  {
   "cell_type": "code",
   "execution_count": 40,
   "id": "e4fc2f35-5d35-4e0d-8398-d6f28d23f072",
   "metadata": {},
   "outputs": [
    {
     "data": {
      "text/plain": [
       "1.0    204\n",
       "0.0    116\n",
       "Name: available_round1, dtype: int64"
      ]
     },
     "execution_count": 40,
     "metadata": {},
     "output_type": "execute_result"
    }
   ],
   "source": [
    "df['available_round1'].value_counts() "
   ]
  },
  {
   "cell_type": "markdown",
   "id": "1cf5afde-f2d8-4f0e-8272-e3abbc6c4d1d",
   "metadata": {},
   "source": [
    "#### Based on this - we identified a total of 378 substances (excluding the reference substances)\n"
   ]
  },
  {
   "cell_type": "code",
   "execution_count": 41,
   "id": "4377aeba-8b46-42ac-99d6-f1d699525580",
   "metadata": {},
   "outputs": [
    {
     "data": {
      "text/plain": [
       "1.0    378\n",
       "Name: all_picks, dtype: int64"
      ]
     },
     "execution_count": 41,
     "metadata": {},
     "output_type": "execute_result"
    }
   ],
   "source": [
    "df['all_picks'].value_counts()"
   ]
  },
  {
   "cell_type": "code",
   "execution_count": 42,
   "id": "1d3d0aa1-c995-4663-b3c3-ed38a17b8c2d",
   "metadata": {},
   "outputs": [],
   "source": [
    "#chk 174+204"
   ]
  },
  {
   "cell_type": "markdown",
   "id": "9d0643d1-0ff9-4384-894b-78e76b0cc451",
   "metadata": {},
   "source": [
    "#### What could we procure from Evotec"
   ]
  },
  {
   "cell_type": "code",
   "execution_count": 43,
   "id": "c2419bc9-8bc6-4824-9377-874c482aea82",
   "metadata": {},
   "outputs": [],
   "source": [
    "evotec = pd.read_excel(external_dir+'evotec_phase1.xlsx')"
   ]
  },
  {
   "cell_type": "code",
   "execution_count": 44,
   "id": "3ec2e63b-e325-4f5e-89d7-4e036e4f76bc",
   "metadata": {},
   "outputs": [
    {
     "data": {
      "text/plain": [
       "EXACT    203\n",
       "NEAR      15\n",
       "Name: CUST_ID3, dtype: int64"
      ]
     },
     "execution_count": 44,
     "metadata": {},
     "output_type": "execute_result"
    }
   ],
   "source": [
    "evotec['CUST_ID3'].value_counts()"
   ]
  },
  {
   "cell_type": "code",
   "execution_count": 45,
   "id": "43972a8b-c276-4347-bada-3655dc8fbaf6",
   "metadata": {},
   "outputs": [],
   "source": [
    "evotec_ids = evotec['CUST_ID1'].tolist()"
   ]
  },
  {
   "cell_type": "code",
   "execution_count": 46,
   "id": "a9a585c5-507c-4f27-bdd8-3bfe107d144d",
   "metadata": {},
   "outputs": [
    {
     "data": {
      "text/plain": [
       "218"
      ]
     },
     "execution_count": 46,
     "metadata": {},
     "output_type": "execute_result"
    }
   ],
   "source": [
    "len(evotec_ids)"
   ]
  },
  {
   "cell_type": "code",
   "execution_count": 47,
   "id": "68859c4e-9cbf-4bc2-bbe3-55bdf95909dd",
   "metadata": {},
   "outputs": [],
   "source": [
    "df['evotec'] = df['dtxsid'].apply(lambda x: 1 if x in evotec_ids else np.nan)"
   ]
  },
  {
   "cell_type": "markdown",
   "id": "870ee822-a560-4c57-a53e-ed4673d96e20",
   "metadata": {},
   "source": [
    "#### But only 197 substances are identified by Evotec of the 218 listed. Presumably some of these are reference substances or not overlapping due to an exact match based on DTXSID not being forthcoming?"
   ]
  },
  {
   "cell_type": "code",
   "execution_count": 48,
   "id": "3c06d5b3-0326-4e29-912b-e91d2295baf3",
   "metadata": {},
   "outputs": [
    {
     "data": {
      "text/plain": [
       "1.0    197\n",
       "Name: evotec, dtype: int64"
      ]
     },
     "execution_count": 48,
     "metadata": {},
     "output_type": "execute_result"
    }
   ],
   "source": [
    "df['evotec'].value_counts()"
   ]
  },
  {
   "cell_type": "code",
   "execution_count": 52,
   "id": "936a0f46-9224-4090-87d1-c460f7695e3f",
   "metadata": {},
   "outputs": [
    {
     "data": {
      "text/plain": [
       "group_str\n",
       "('Acetylides', nan)                          2\n",
       "('Anthracenes', 6.0)                         1\n",
       "('Anthracenes', 8.0)                         3\n",
       "('Anthracenes', 9.0)                         3\n",
       "('Azobenzenes', 3.0)                         1\n",
       "                                            ..\n",
       "('Pyridines and derivatives', 4.0)           2\n",
       "('Quinolines and derivatives', 3.0)          1\n",
       "('Quinolines and derivatives', 4.0)          1\n",
       "('Steroids and steroid derivatives', nan)    2\n",
       "('Triazines', nan)                           2\n",
       "Length: 98, dtype: int64"
      ]
     },
     "execution_count": 52,
     "metadata": {},
     "output_type": "execute_result"
    }
   ],
   "source": [
    "df[df['evotec'] == 1].groupby('group_str').size()"
   ]
  },
  {
   "cell_type": "code",
   "execution_count": 53,
   "id": "6a1d4d51-44ca-4128-801c-26b0dedd6a4e",
   "metadata": {},
   "outputs": [
    {
     "data": {
      "text/plain": [
       "group_str\n",
       "('Acetylides', nan)                          4\n",
       "('Alkaloids and derivatives', nan)           3\n",
       "('Anthracenes', 1.0)                         3\n",
       "('Anthracenes', 2.0)                         3\n",
       "('Anthracenes', 4.0)                         3\n",
       "                                            ..\n",
       "('Quinolines and derivatives', 4.0)          1\n",
       "('Quinolines and derivatives', 5.0)          3\n",
       "('Steroids and steroid derivatives', nan)    2\n",
       "('Triazines', nan)                           3\n",
       "('Triphenyl compounds', nan)                 2\n",
       "Length: 141, dtype: int64"
      ]
     },
     "execution_count": 53,
     "metadata": {},
     "output_type": "execute_result"
    }
   ],
   "source": [
    "df[df['all_picks']==1].groupby('group_str').size()"
   ]
  },
  {
   "cell_type": "code",
   "execution_count": 54,
   "id": "cc8fcc73-eca8-4f4e-a545-46f212e31117",
   "metadata": {},
   "outputs": [],
   "source": [
    "df2 = df.melt(id_vars = ['dtxsid', 'group_str'] ,value_vars = ['all_picks', 'evotec'])"
   ]
  },
  {
   "cell_type": "code",
   "execution_count": 61,
   "id": "7e9450f6-f1ad-41c0-acd6-b91772af23ef",
   "metadata": {},
   "outputs": [],
   "source": [
    "df2 = df2.dropna()"
   ]
  },
  {
   "cell_type": "code",
   "execution_count": 70,
   "id": "5e9334e5-bce5-41e2-ba81-768c816d8f4a",
   "metadata": {},
   "outputs": [],
   "source": [
    "df3 = df2.groupby(['group_str', 'variable']).size().reset_index()"
   ]
  },
  {
   "cell_type": "code",
   "execution_count": 74,
   "id": "15dd4c9b-6e56-4d88-bdd7-fbe689da5472",
   "metadata": {},
   "outputs": [],
   "source": [
    "df4 = df3.pivot_table(index = 'group_str', columns = 'variable', values = 0)"
   ]
  },
  {
   "cell_type": "markdown",
   "id": "f393d0ae-acf3-4385-8c08-066d73b24f94",
   "metadata": {},
   "source": [
    "#### Just checking to see how many different categories are represented"
   ]
  },
  {
   "cell_type": "code",
   "execution_count": 76,
   "id": "4ba970f3-77b0-4ad6-bfb8-b9f8a61e03fb",
   "metadata": {},
   "outputs": [
    {
     "data": {
      "text/html": [
       "<div>\n",
       "<style scoped>\n",
       "    .dataframe tbody tr th:only-of-type {\n",
       "        vertical-align: middle;\n",
       "    }\n",
       "\n",
       "    .dataframe tbody tr th {\n",
       "        vertical-align: top;\n",
       "    }\n",
       "\n",
       "    .dataframe thead th {\n",
       "        text-align: right;\n",
       "    }\n",
       "</style>\n",
       "<table border=\"1\" class=\"dataframe\">\n",
       "  <thead>\n",
       "    <tr style=\"text-align: right;\">\n",
       "      <th>variable</th>\n",
       "      <th>all_picks</th>\n",
       "      <th>evotec</th>\n",
       "    </tr>\n",
       "  </thead>\n",
       "  <tbody>\n",
       "    <tr>\n",
       "      <th>count</th>\n",
       "      <td>98.000000</td>\n",
       "      <td>98.000000</td>\n",
       "    </tr>\n",
       "    <tr>\n",
       "      <th>mean</th>\n",
       "      <td>2.571429</td>\n",
       "      <td>2.010204</td>\n",
       "    </tr>\n",
       "    <tr>\n",
       "      <th>std</th>\n",
       "      <td>1.184087</td>\n",
       "      <td>0.913754</td>\n",
       "    </tr>\n",
       "    <tr>\n",
       "      <th>min</th>\n",
       "      <td>1.000000</td>\n",
       "      <td>1.000000</td>\n",
       "    </tr>\n",
       "    <tr>\n",
       "      <th>25%</th>\n",
       "      <td>2.000000</td>\n",
       "      <td>1.000000</td>\n",
       "    </tr>\n",
       "    <tr>\n",
       "      <th>50%</th>\n",
       "      <td>2.000000</td>\n",
       "      <td>2.000000</td>\n",
       "    </tr>\n",
       "    <tr>\n",
       "      <th>75%</th>\n",
       "      <td>3.000000</td>\n",
       "      <td>3.000000</td>\n",
       "    </tr>\n",
       "    <tr>\n",
       "      <th>max</th>\n",
       "      <td>6.000000</td>\n",
       "      <td>5.000000</td>\n",
       "    </tr>\n",
       "  </tbody>\n",
       "</table>\n",
       "</div>"
      ],
      "text/plain": [
       "variable  all_picks     evotec\n",
       "count     98.000000  98.000000\n",
       "mean       2.571429   2.010204\n",
       "std        1.184087   0.913754\n",
       "min        1.000000   1.000000\n",
       "25%        2.000000   1.000000\n",
       "50%        2.000000   2.000000\n",
       "75%        3.000000   3.000000\n",
       "max        6.000000   5.000000"
      ]
     },
     "execution_count": 76,
     "metadata": {},
     "output_type": "execute_result"
    }
   ],
   "source": [
    "df4.dropna().describe()"
   ]
  },
  {
   "cell_type": "code",
   "execution_count": 126,
   "id": "6cda5f5d-4ed5-49b1-8a62-37683a9158a1",
   "metadata": {},
   "outputs": [],
   "source": [
    "#df.columns.tolist()"
   ]
  },
  {
   "cell_type": "markdown",
   "id": "961b9a2f-80a1-42e6-978f-3a3902d03c18",
   "metadata": {},
   "source": [
    "#### What about if we identify the smallest categories and deprioritise those from the first plate of 75 we need to test. The 'small category' threshold here is determined by the median of the category sizes bins that have already been defined in the main spreadsheet"
   ]
  },
  {
   "cell_type": "code",
   "execution_count": 184,
   "id": "bf70e7ae-a8b8-4104-a88a-4ae8b8073d6f",
   "metadata": {},
   "outputs": [],
   "source": [
    "small_cats = df.groupby('group_str').size()[df.groupby('group_str').size() < 40].index.tolist()"
   ]
  },
  {
   "cell_type": "code",
   "execution_count": 185,
   "id": "4bf538a2-b7bf-4c8d-bb97-5667973cb688",
   "metadata": {},
   "outputs": [
    {
     "data": {
      "text/plain": [
       "95"
      ]
     },
     "execution_count": 185,
     "metadata": {},
     "output_type": "execute_result"
    }
   ],
   "source": [
    "len(small_cats)"
   ]
  },
  {
   "cell_type": "code",
   "execution_count": 186,
   "id": "a38ed3f6-4001-45e2-9be7-43de91d1ab44",
   "metadata": {},
   "outputs": [],
   "source": [
    "df5 = df4.dropna()"
   ]
  },
  {
   "cell_type": "code",
   "execution_count": 187,
   "id": "aaf63ced-fb25-4d43-878c-2a0b7932340c",
   "metadata": {},
   "outputs": [],
   "source": [
    "df5 = df5.reset_index()"
   ]
  },
  {
   "cell_type": "code",
   "execution_count": 192,
   "id": "af912856-7791-41bb-a667-808dffe778cd",
   "metadata": {},
   "outputs": [],
   "source": [
    "evotec_cats = df5[~df5['group_str'].isin(small_cats)]['group_str'].tolist()"
   ]
  },
  {
   "cell_type": "markdown",
   "id": "b278bc78-ae94-4e72-9167-6008843aa220",
   "metadata": {},
   "source": [
    "#### Let's deprioritise those categories from the set of chemicals which are on the Evotec list. We will end up with more than one substance per category but we could arbitarily take the first chemical from each category. That's nets us 70 chemicals that we could plate to start with."
   ]
  },
  {
   "cell_type": "code",
   "execution_count": 196,
   "id": "76600cff-1765-4434-970d-645f522061fd",
   "metadata": {},
   "outputs": [],
   "source": [
    "df6 = df[(df['evotec'] == 1) & (df['group_str'].isin(evotec_cats))].sort_values(by = 'group_str', ascending = True)"
   ]
  },
  {
   "cell_type": "code",
   "execution_count": 200,
   "id": "f16823b7-858b-45f0-8ef2-a22081446609",
   "metadata": {},
   "outputs": [],
   "source": [
    "df6[['dtxsid', 'group_str', 'evotec']].drop_duplicates(subset = 'group_str', keep = 'first').to_csv(external_dir+'to_plate_first.csv')"
   ]
  },
  {
   "cell_type": "code",
   "execution_count": 201,
   "id": "6eed6f34-5413-4cac-a452-ac792c936169",
   "metadata": {},
   "outputs": [
    {
     "data": {
      "text/html": [
       "<div>\n",
       "<style scoped>\n",
       "    .dataframe tbody tr th:only-of-type {\n",
       "        vertical-align: middle;\n",
       "    }\n",
       "\n",
       "    .dataframe tbody tr th {\n",
       "        vertical-align: top;\n",
       "    }\n",
       "\n",
       "    .dataframe thead th {\n",
       "        text-align: right;\n",
       "    }\n",
       "</style>\n",
       "<table border=\"1\" class=\"dataframe\">\n",
       "  <thead>\n",
       "    <tr style=\"text-align: right;\">\n",
       "      <th></th>\n",
       "      <th>dtxsid</th>\n",
       "      <th>group_str</th>\n",
       "      <th>evotec</th>\n",
       "    </tr>\n",
       "  </thead>\n",
       "  <tbody>\n",
       "    <tr>\n",
       "      <th>191</th>\n",
       "      <td>DTXSID4058865</td>\n",
       "      <td>('Anthracenes', 9.0)</td>\n",
       "      <td>1.0</td>\n",
       "    </tr>\n",
       "    <tr>\n",
       "      <th>409</th>\n",
       "      <td>DTXSID5061457</td>\n",
       "      <td>('Azoles', 2.0)</td>\n",
       "      <td>1.0</td>\n",
       "    </tr>\n",
       "    <tr>\n",
       "      <th>735</th>\n",
       "      <td>DTXSID6022054</td>\n",
       "      <td>('Benzene and substituted derivatives', 1.0)</td>\n",
       "      <td>1.0</td>\n",
       "    </tr>\n",
       "    <tr>\n",
       "      <th>887</th>\n",
       "      <td>DTXSID2042436</td>\n",
       "      <td>('Benzene and substituted derivatives', 2.0)</td>\n",
       "      <td>1.0</td>\n",
       "    </tr>\n",
       "    <tr>\n",
       "      <th>1432</th>\n",
       "      <td>DTXSID2021236</td>\n",
       "      <td>('Benzene and substituted derivatives', 3.0)</td>\n",
       "      <td>1.0</td>\n",
       "    </tr>\n",
       "  </tbody>\n",
       "</table>\n",
       "</div>"
      ],
      "text/plain": [
       "             dtxsid                                     group_str  evotec\n",
       "191   DTXSID4058865                          ('Anthracenes', 9.0)     1.0\n",
       "409   DTXSID5061457                               ('Azoles', 2.0)     1.0\n",
       "735   DTXSID6022054  ('Benzene and substituted derivatives', 1.0)     1.0\n",
       "887   DTXSID2042436  ('Benzene and substituted derivatives', 2.0)     1.0\n",
       "1432  DTXSID2021236  ('Benzene and substituted derivatives', 3.0)     1.0"
      ]
     },
     "execution_count": 201,
     "metadata": {},
     "output_type": "execute_result"
    }
   ],
   "source": [
    "df6[['dtxsid', 'group_str', 'evotec']].drop_duplicates(subset = 'group_str', keep = 'first').head()"
   ]
  },
  {
   "cell_type": "code",
   "execution_count": null,
   "id": "e70db7e5-0d87-4498-9d42-efc55a65f2a7",
   "metadata": {},
   "outputs": [],
   "source": []
  },
  {
   "cell_type": "code",
   "execution_count": null,
   "id": "81086169-73d4-4494-a99b-de17eb16dc13",
   "metadata": {},
   "outputs": [],
   "source": []
  }
 ],
 "metadata": {
  "kernelspec": {
   "display_name": "py39",
   "language": "python",
   "name": "py39"
  },
  "language_info": {
   "codemirror_mode": {
    "name": "ipython",
    "version": 3
   },
   "file_extension": ".py",
   "mimetype": "text/x-python",
   "name": "python",
   "nbconvert_exporter": "python",
   "pygments_lexer": "ipython3",
   "version": "3.9.16"
  },
  "widgets": {
   "application/vnd.jupyter.widget-state+json": {
    "state": {},
    "version_major": 2,
    "version_minor": 0
   }
  }
 },
 "nbformat": 4,
 "nbformat_minor": 5
}
