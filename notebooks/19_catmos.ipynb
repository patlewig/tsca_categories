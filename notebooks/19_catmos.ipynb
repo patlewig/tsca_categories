{
 "cells": [
  {
   "cell_type": "code",
   "execution_count": 1,
   "id": "61df57cb-a89f-4ec9-a746-6d978df23306",
   "metadata": {},
   "outputs": [],
   "source": [
    "import numpy as np\n",
    "import pandas as pd\n",
    "import matplotlib.pyplot as plt\n",
    "import seaborn as sns\n",
    "%matplotlib inline\n",
    "import openpyxl\n",
    "from rdkit.Chem.Draw import IPythonConsole, MolsToGridImage\n",
    "\n",
    "#Show mols in dataframes\n",
    "from rdkit.Chem import PandasTools\n",
    "from rdkit import Chem\n",
    "from rdkit.Chem.Draw import MolsToGridImage\n",
    "from IPython.core.display import HTML\n",
    "from rdkit.Chem import Descriptors\n",
    "from rdkit.ML.Descriptors import MoleculeDescriptors\n",
    "from rdkit.Chem import PandasTools\n",
    "from rdkit.Chem import AllChem\n",
    "from rdkit.Chem import rdDepictor\n",
    "from rdkit.Chem.Fingerprints import FingerprintMols\n",
    "from rdkit import DataStructs\n",
    "import os\n",
    "import sys\n",
    "from scipy.spatial.distance import pdist, squareform"
   ]
  },
  {
   "cell_type": "code",
   "execution_count": 2,
   "id": "401665b0-977d-4004-a3aa-395d8194cb5e",
   "metadata": {},
   "outputs": [],
   "source": [
    "TOP = os.getcwd().replace('notebooks', '')\n",
    "raw_dir = TOP + 'data/raw/'\n",
    "processed_dir = TOP +'data/processed/'\n",
    "interim_dir = TOP + 'data/interim/'\n",
    "external_dir = TOP + 'data/external/'\n",
    "figures_dir = TOP + 'reports/figures/'"
   ]
  },
  {
   "cell_type": "code",
   "execution_count": 3,
   "id": "e89c5caa-70e1-4d57-a1da-b4c515bde192",
   "metadata": {},
   "outputs": [],
   "source": [
    "opera_df = pd.read_csv(interim_dir+'opera_df_tox.csv', index_col = [0])"
   ]
  },
  {
   "cell_type": "code",
   "execution_count": 4,
   "id": "0f2663e2-0989-46e9-9a61-ce73fd119288",
   "metadata": {},
   "outputs": [],
   "source": [
    "catmos = {}\n",
    "for i, group in opera_df.groupby('group_str'):\n",
    "    catmos[i] = group['CATMoS_LD50_pred'].values"
   ]
  },
  {
   "cell_type": "code",
   "execution_count": 5,
   "id": "956da9d1-e1b1-4463-b85b-a7a29cdc96ca",
   "metadata": {},
   "outputs": [],
   "source": [
    "def ecdf(data):\n",
    "    '''\n",
    "    Calculate the ecdf of a 1d-array\n",
    "    Returns the x, y needed to plot the empirical ecdf\n",
    "    '''\n",
    "    n = len(data)\n",
    "    x = np.sort(data)\n",
    "    y = np.arange(1, n+1)/n\n",
    "    return x, y\n"
   ]
  },
  {
   "cell_type": "code",
   "execution_count": 6,
   "id": "af6024ed-e83e-4cea-935f-f531ed463ef0",
   "metadata": {},
   "outputs": [],
   "source": [
    "def catmos_summary(d, label = None):\n",
    "    summary = {}\n",
    "    summary['median'] = np.median(d)\n",
    "    summary['ecdfx'], summary['ecdfy'] = ecdf(d)\n",
    "    summary['label'] = label\n",
    "    return summary"
   ]
  },
  {
   "cell_type": "code",
   "execution_count": 7,
   "id": "9d0ba2a9-51ff-42b2-9a96-a7e574ab39f9",
   "metadata": {},
   "outputs": [],
   "source": [
    "summaries = []\n",
    "for k, v in catmos.items():\n",
    "    summaries.append(catmos_summary(v, label = k))"
   ]
  },
  {
   "cell_type": "code",
   "execution_count": 8,
   "id": "32c9308c-a331-4899-b224-fe9d3db2a6f7",
   "metadata": {},
   "outputs": [],
   "source": [
    "pd.DataFrame(summaries)[['median', 'label']].sort_values(by = 'median', ascending = True).to_csv(interim_dir+'catmos_medians.csv')"
   ]
  },
  {
   "cell_type": "code",
   "execution_count": 9,
   "id": "5b2e9508-38fb-4b20-afbb-fe7bd574f13e",
   "metadata": {},
   "outputs": [
    {
     "data": {
      "text/html": [
       "<div>\n",
       "<style scoped>\n",
       "    .dataframe tbody tr th:only-of-type {\n",
       "        vertical-align: middle;\n",
       "    }\n",
       "\n",
       "    .dataframe tbody tr th {\n",
       "        vertical-align: top;\n",
       "    }\n",
       "\n",
       "    .dataframe thead th {\n",
       "        text-align: right;\n",
       "    }\n",
       "</style>\n",
       "<table border=\"1\" class=\"dataframe\">\n",
       "  <thead>\n",
       "    <tr style=\"text-align: right;\">\n",
       "      <th></th>\n",
       "      <th>median</th>\n",
       "      <th>label</th>\n",
       "    </tr>\n",
       "  </thead>\n",
       "  <tbody>\n",
       "    <tr>\n",
       "      <th>132</th>\n",
       "      <td>243.0</td>\n",
       "      <td>('Organosulfur compounds', 2.0)</td>\n",
       "    </tr>\n",
       "    <tr>\n",
       "      <th>2</th>\n",
       "      <td>245.0</td>\n",
       "      <td>('Allenes', nan)</td>\n",
       "    </tr>\n",
       "    <tr>\n",
       "      <th>70</th>\n",
       "      <td>250.0</td>\n",
       "      <td>('Homogeneous non-metal compounds', 2.0)</td>\n",
       "    </tr>\n",
       "    <tr>\n",
       "      <th>1</th>\n",
       "      <td>253.0</td>\n",
       "      <td>('Alkaloids and derivatives', nan)</td>\n",
       "    </tr>\n",
       "    <tr>\n",
       "      <th>137</th>\n",
       "      <td>253.5</td>\n",
       "      <td>('Other', 3.0)</td>\n",
       "    </tr>\n",
       "  </tbody>\n",
       "</table>\n",
       "</div>"
      ],
      "text/plain": [
       "     median                                     label\n",
       "132   243.0           ('Organosulfur compounds', 2.0)\n",
       "2     245.0                          ('Allenes', nan)\n",
       "70    250.0  ('Homogeneous non-metal compounds', 2.0)\n",
       "1     253.0        ('Alkaloids and derivatives', nan)\n",
       "137   253.5                            ('Other', 3.0)"
      ]
     },
     "execution_count": 9,
     "metadata": {},
     "output_type": "execute_result"
    }
   ],
   "source": [
    "pd.DataFrame(summaries)[['median', 'label']].sort_values(by = 'median', ascending = True).head()"
   ]
  },
  {
   "cell_type": "code",
   "execution_count": 10,
   "id": "959c4b81-7e06-425c-ae2a-4418db86b78b",
   "metadata": {},
   "outputs": [
    {
     "data": {
      "text/html": [
       "<div>\n",
       "<style scoped>\n",
       "    .dataframe tbody tr th:only-of-type {\n",
       "        vertical-align: middle;\n",
       "    }\n",
       "\n",
       "    .dataframe tbody tr th {\n",
       "        vertical-align: top;\n",
       "    }\n",
       "\n",
       "    .dataframe thead th {\n",
       "        text-align: right;\n",
       "    }\n",
       "</style>\n",
       "<table border=\"1\" class=\"dataframe\">\n",
       "  <thead>\n",
       "    <tr style=\"text-align: right;\">\n",
       "      <th></th>\n",
       "      <th>median</th>\n",
       "      <th>label</th>\n",
       "    </tr>\n",
       "  </thead>\n",
       "  <tbody>\n",
       "    <tr>\n",
       "      <th>46</th>\n",
       "      <td>7723.0</td>\n",
       "      <td>('Benzenoids', 5.0)</td>\n",
       "    </tr>\n",
       "    <tr>\n",
       "      <th>64</th>\n",
       "      <td>8670.5</td>\n",
       "      <td>('Fatty Acyls', 3.0)</td>\n",
       "    </tr>\n",
       "    <tr>\n",
       "      <th>42</th>\n",
       "      <td>8697.5</td>\n",
       "      <td>('Benzenoids', 1.0)</td>\n",
       "    </tr>\n",
       "    <tr>\n",
       "      <th>11</th>\n",
       "      <td>NaN</td>\n",
       "      <td>('Anthracenes', 9.0)</td>\n",
       "    </tr>\n",
       "    <tr>\n",
       "      <th>118</th>\n",
       "      <td>NaN</td>\n",
       "      <td>('Organoheterocyclic compounds', 1.0)</td>\n",
       "    </tr>\n",
       "  </tbody>\n",
       "</table>\n",
       "</div>"
      ],
      "text/plain": [
       "     median                                  label\n",
       "46   7723.0                    ('Benzenoids', 5.0)\n",
       "64   8670.5                   ('Fatty Acyls', 3.0)\n",
       "42   8697.5                    ('Benzenoids', 1.0)\n",
       "11      NaN                   ('Anthracenes', 9.0)\n",
       "118     NaN  ('Organoheterocyclic compounds', 1.0)"
      ]
     },
     "execution_count": 10,
     "metadata": {},
     "output_type": "execute_result"
    }
   ],
   "source": [
    "pd.DataFrame(summaries)[['median', 'label']].sort_values(by = 'median', ascending = True).tail()"
   ]
  },
  {
   "cell_type": "code",
   "execution_count": 11,
   "id": "28c95b3e-9ae9-4b95-8fe5-3d2789ae267d",
   "metadata": {},
   "outputs": [
    {
     "name": "stdout",
     "output_type": "stream",
     "text": [
      "0 ('Acetylides', nan)\n"
     ]
    },
    {
     "name": "stderr",
     "output_type": "stream",
     "text": [
      "<>:4: SyntaxWarning: 'int' object is not callable; perhaps you missed a comma?\n",
      "<>:5: SyntaxWarning: 'int' object is not callable; perhaps you missed a comma?\n",
      "<>:4: SyntaxWarning: 'int' object is not callable; perhaps you missed a comma?\n",
      "<>:5: SyntaxWarning: 'int' object is not callable; perhaps you missed a comma?\n",
      "/tmp/ipykernel_482709/1333174718.py:4: SyntaxWarning: 'int' object is not callable; perhaps you missed a comma?\n",
      "  46 ('Benzenoids', 5.0)\n",
      "/tmp/ipykernel_482709/1333174718.py:5: SyntaxWarning: 'int' object is not callable; perhaps you missed a comma?\n",
      "  64 ('Fatty Acyls', 3.0)\n"
     ]
    }
   ],
   "source": [
    "for i in range(len(summaries)):\n",
    "    print(i, summaries[i]['label'])\n",
    "    break\n",
    "    46 ('Benzenoids', 5.0)\n",
    "    64 ('Fatty Acyls', 3.0)"
   ]
  },
  {
   "cell_type": "code",
   "execution_count": 12,
   "id": "3cdfb3b0-6632-4ccb-843a-dce6d4c96c4c",
   "metadata": {},
   "outputs": [
    {
     "name": "stdout",
     "output_type": "stream",
     "text": [
      "1\n",
      "2\n",
      "46\n",
      "64\n",
      "132\n"
     ]
    }
   ],
   "source": [
    "for i in range(len(summaries)):\n",
    "    if summaries[i]['label'] in [\"('Benzenoids', 5.0)\", \"('Fatty Acyls', 3.0)\",\"('Alkaloids and derivatives', nan)\", \"('Organosulfur compounds', 2.0)\", \"('Allenes', nan)\"]:\n",
    "        print(i)"
   ]
  },
  {
   "cell_type": "code",
   "execution_count": 13,
   "id": "68663682-aa83-4836-bd7d-0e56b18114c8",
   "metadata": {},
   "outputs": [],
   "source": [
    "#summaries[64]"
   ]
  },
  {
   "cell_type": "code",
   "execution_count": 16,
   "id": "f4e7eecd-af4f-4eb8-9a9b-3f02b3d5f13d",
   "metadata": {},
   "outputs": [],
   "source": [
    "import pickle\n",
    "\n",
    "\n",
    "with open(interim_dir+ \"summaries_catmos.pkl\", \"wb\") as file:\n",
    "    pickle.dump(summaries, file)"
   ]
  },
  {
   "cell_type": "code",
   "execution_count": 14,
   "id": "8cdc0dcc-5fdf-4a63-a34f-c8a3591299e3",
   "metadata": {},
   "outputs": [
    {
     "data": {
      "image/png": "[encoded data removed]",
      "text/plain": [
       "<Figure size 900x600 with 1 Axes>"
      ]
     },
     "metadata": {},
     "output_type": "display_data"
    }
   ],
   "source": [
    "fig, ax = plt.subplots(figsize = (9,6))\n",
    "for i in range(len(summaries)):\n",
    "    if summaries[i]['label'] in [\"('Benzenoids', 5.0)\", \"('Fatty Acyls', 3.0)\",\"('Alkaloids and derivatives', nan)\", \"('Organosulfur compounds', 2.0)\", \"('Allenes', nan)\"]:\n",
    "        ax.set_xlabel('CATMoS_log10LD50_pred')\n",
    "        ax.set_ylabel('ECDF')\n",
    "        #ax.set_title('ECDFs of selected between Category-Subcategory combinations')\n",
    "        ax.plot(np.log10(summaries[i]['ecdfx']),summaries[i]['ecdfy'], marker = '.', linestyle = 'none', label = summaries[i]['label']);\n",
    "        ax.legend(bbox_to_anchor=(1, 1))\n",
    "        "
   ]
  },
  {
   "cell_type": "code",
   "execution_count": null,
   "id": "777d12c5-b077-4d25-9ecd-590843f242b3",
   "metadata": {},
   "outputs": [],
   "source": []
  }
 ],
 "metadata": {
  "kernelspec": {
   "display_name": "py39",
   "language": "python",
   "name": "py39"
  },
  "language_info": {
   "codemirror_mode": {
    "name": "ipython",
    "version": 3
   },
   "file_extension": ".py",
   "mimetype": "text/x-python",
   "name": "python",
   "nbconvert_exporter": "python",
   "pygments_lexer": "ipython3",
   "version": "3.9.16"
  },
  "widgets": {
   "application/vnd.jupyter.widget-state+json": {
    "state": {},
    "version_major": 2,
    "version_minor": 0
   }
  }
 },
 "nbformat": 4,
 "nbformat_minor": 5
}
