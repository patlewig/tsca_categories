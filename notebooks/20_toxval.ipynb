{
 "cells": [
  {
   "cell_type": "code",
   "execution_count": 1,
   "id": "081823e6-02e1-4e1b-9783-7e679cdb5d6e",
   "metadata": {},
   "outputs": [],
   "source": [
    "import numpy as np\n",
    "import pandas as pd\n",
    "import matplotlib.pyplot as plt\n",
    "import seaborn as sns\n",
    "%matplotlib inline\n",
    "import openpyxl\n",
    "from rdkit.Chem.Draw import IPythonConsole, MolsToGridImage\n",
    "\n",
    "#Show mols in dataframes\n",
    "from rdkit.Chem import PandasTools\n",
    "from rdkit import Chem\n",
    "from rdkit.Chem.Draw import MolsToGridImage\n",
    "from IPython.core.display import HTML\n",
    "from rdkit.Chem import Descriptors\n",
    "from rdkit.ML.Descriptors import MoleculeDescriptors\n",
    "from rdkit.Chem import PandasTools\n",
    "from rdkit.Chem import AllChem\n",
    "from rdkit.Chem import rdDepictor\n",
    "from rdkit.Chem.Fingerprints import FingerprintMols\n",
    "from rdkit import DataStructs\n",
    "import os\n",
    "import sys\n",
    "from scipy.spatial.distance import pdist, squareform"
   ]
  },
  {
   "cell_type": "code",
   "execution_count": 2,
   "id": "f0f5be3a-2fd7-4617-8145-727fdfcdc6a0",
   "metadata": {},
   "outputs": [],
   "source": [
    "TOP = os.getcwd().replace('notebooks', '')\n",
    "raw_dir = TOP + 'data/raw/'\n",
    "processed_dir = TOP +'data/processed/'\n",
    "interim_dir = TOP + 'data/interim/'\n",
    "external_dir = TOP + 'data/external/'\n",
    "figures_dir = TOP + 'reports/figures/'"
   ]
  },
  {
   "cell_type": "code",
   "execution_count": 6,
   "id": "0b4bddd2-a9ba-4ca4-98aa-acd77bd44c7e",
   "metadata": {},
   "outputs": [],
   "source": [
    "df = pd.read_excel(external_dir+'Supplemental Excel File EHP11524-revised.xlsx', sheet_name='Excel Table S5', header = [1])"
   ]
  },
  {
   "cell_type": "code",
   "execution_count": 8,
   "id": "71b15c3e-acda-4cb2-920f-09d4821b23fe",
   "metadata": {},
   "outputs": [
    {
     "data": {
      "text/plain": [
       "Index(['Unnamed: 0', 'Unnamed: 1', 'Unnamed: 2', 'Unnamed: 3',\n",
       "       'non-reproductive/developmental effects', 'Unnamed: 5', 'Unnamed: 6',\n",
       "       'Unnamed: 7', 'Unnamed: 8', 'Unnamed: 9', 'Unnamed: 10',\n",
       "       'reproductive/developmental effects', 'Unnamed: 12', 'Unnamed: 13',\n",
       "       'Unnamed: 14', 'Unnamed: 15', 'Unnamed: 16', 'Unnamed: 17'],\n",
       "      dtype='object')"
      ]
     },
     "execution_count": 8,
     "metadata": {},
     "output_type": "execute_result"
    }
   ],
   "source": [
    "df.columns"
   ]
  },
  {
   "cell_type": "code",
   "execution_count": 10,
   "id": "3feb5528-b3c8-4b63-bb71-e01b389c92c1",
   "metadata": {},
   "outputs": [
    {
     "data": {
      "text/plain": [
       "['ID',\n",
       " 'casrn',\n",
       " 'dtxsid',\n",
       " 'name',\n",
       " 'count',\n",
       " 'POD [mg/kg-d]',\n",
       " 'POD GSD2total',\n",
       " 'POD GSD2final',\n",
       " 'Prob. RfD [mg/kg-d]',\n",
       " 'HDM10% [mg/kg-d]',\n",
       " 'HDM10% GSD2',\n",
       " 'count',\n",
       " 'POD [mg/kg-d]',\n",
       " 'POD GSD2total',\n",
       " 'POD GSD2final',\n",
       " 'Prob. RfD [mg/kg-d]',\n",
       " 'HDM10% [mg/kg-d]',\n",
       " 'HDM10% GSD2']"
      ]
     },
     "execution_count": 10,
     "metadata": {},
     "output_type": "execute_result"
    }
   ],
   "source": [
    "df.iloc[0,:].tolist()"
   ]
  },
  {
   "cell_type": "code",
   "execution_count": 11,
   "id": "d94263f4-6aed-4cd7-8b42-16b30e598668",
   "metadata": {},
   "outputs": [],
   "source": [
    "mycols = ['ID',\n",
    " 'casrn',\n",
    " 'dtxsid',\n",
    " 'name',\n",
    " 'non_cancer_count',\n",
    " 'non_cancer_POD_[mg/kg-d]',\n",
    " 'non_cancer_POD_GSD2total',\n",
    " 'non_cancer_POD_GSD2final',\n",
    " 'non_cancer_Prob_RfD [mg/kg-d]',\n",
    " 'non_cancer_HDM10%_[mg/kg-d]',\n",
    " 'non_cancer_HDM10%_GSD2',\n",
    " 'reproductive/developmental_effects_count',\n",
    " 'reproductive/developmental_effects_POD_[mg/kg-d]',\n",
    " 'reproductive/developmental_effects_POD_GSD2total',\n",
    " 'reproductive/developmental_effects_POD_GSD2final',\n",
    " 'reproductive/developmental_effects_Prob_RfD_[mg/kg-d]',\n",
    " 'reproductive/developmental_effects_HDM10%_[mg/kg-d]',\n",
    " 'reproductive/developmental_effects_HDM10%_GSD2']"
   ]
  },
  {
   "cell_type": "code",
   "execution_count": 12,
   "id": "9afe3ce0-a086-407b-87fb-d4f4808da672",
   "metadata": {},
   "outputs": [],
   "source": [
    "df.columns = mycols"
   ]
  },
  {
   "cell_type": "code",
   "execution_count": 14,
   "id": "62db2905-068f-441e-952c-5a14e5b27741",
   "metadata": {},
   "outputs": [],
   "source": [
    "df.drop(index = 0, inplace = True, axis = 0)"
   ]
  },
  {
   "cell_type": "code",
   "execution_count": 16,
   "id": "f541dd08-21d9-40ce-81c7-6716f5d0c34a",
   "metadata": {},
   "outputs": [],
   "source": [
    "tsca_df = pd.read_excel(interim_dir+'categorisatons_wscreening_constraints_final_picks_080823.xlsx', sheet_name = 'All data', index_col = [0])"
   ]
  },
  {
   "cell_type": "code",
   "execution_count": 21,
   "id": "4ed12228-c5da-476a-bcb1-a51115e90638",
   "metadata": {},
   "outputs": [],
   "source": [
    "df1 = pd.merge(tsca_df, df[['dtxsid','non_cancer_POD_[mg/kg-d]','reproductive/developmental_effects_POD_[mg/kg-d]']], on = 'dtxsid', how = 'left')"
   ]
  },
  {
   "cell_type": "code",
   "execution_count": 38,
   "id": "fff84ac9-24ab-4b6e-a970-70274611c091",
   "metadata": {},
   "outputs": [
    {
     "data": {
      "text/plain": [
       "<Axes: ylabel='Frequency'>"
      ]
     },
     "execution_count": 38,
     "metadata": {},
     "output_type": "execute_result"
    },
    {
     "data": {
      "image/png": "[encoded data removed]",
      "text/plain": [
       "<Figure size 640x480 with 1 Axes>"
      ]
     },
     "metadata": {},
     "output_type": "display_data"
    }
   ],
   "source": [
    "df1[df1['non_cancer_POD_[mg/kg-d]'].notnull()]['non_cancer_POD_[mg/kg-d]'].plot(kind = 'hist')"
   ]
  },
  {
   "cell_type": "code",
   "execution_count": 59,
   "id": "7e6ec2d7-bc11-483d-8561-3df66ff4cbfa",
   "metadata": {},
   "outputs": [
    {
     "data": {
      "text/plain": [
       "838.3205515662238"
      ]
     },
     "execution_count": 59,
     "metadata": {},
     "output_type": "execute_result"
    }
   ],
   "source": [
    "df1[(df1['reproductive/developmental_effects_POD_[mg/kg-d]'].notnull()) & (df1['final_picks']==1)]['reproductive/developmental_effects_POD_[mg/kg-d]'].max()"
   ]
  },
  {
   "cell_type": "code",
   "execution_count": 46,
   "id": "5216221b-fd7d-4c32-97cb-911d14f22759",
   "metadata": {},
   "outputs": [
    {
     "data": {
      "text/plain": [
       "Index(['dtxsid', 'PREFERRED_NAME', 'CASRN', 'INCHIKEY', 'IUPAC_NAME', 'smiles',\n",
       "       'INCHI_STRING', 'MOLECULAR_FORMULA', 'AVERAGE_MASS',\n",
       "       'MONOISOTOPIC_MASS',\n",
       "       ...\n",
       "       'screenable_centroid', 'screenable_centroid_id',\n",
       "       'screenable_centroid_id2', 'screening_analogues', 'screening_dist',\n",
       "       'MaxMin_selection_picks', 'category_size', 'final_picks',\n",
       "       'non_cancer_POD_[mg/kg-d]',\n",
       "       'reproductive/developmental_effects_POD_[mg/kg-d]'],\n",
       "      dtype='object', length=135)"
      ]
     },
     "execution_count": 46,
     "metadata": {},
     "output_type": "execute_result"
    }
   ],
   "source": [
    "df1.columns"
   ]
  },
  {
   "cell_type": "code",
   "execution_count": 65,
   "id": "4b3d0dda-77ac-4411-ba19-319f4475093c",
   "metadata": {},
   "outputs": [
    {
     "data": {
      "text/plain": [
       "4587.639251266699"
      ]
     },
     "execution_count": 65,
     "metadata": {},
     "output_type": "execute_result"
    }
   ],
   "source": [
    "df1[(df1['non_cancer_POD_[mg/kg-d]'].notnull()) ]['non_cancer_POD_[mg/kg-d]'].max()"
   ]
  },
  {
   "cell_type": "code",
   "execution_count": 68,
   "id": "bfaa283c-ca44-49be-806e-a37c892063e8",
   "metadata": {},
   "outputs": [
    {
     "data": {
      "text/plain": [
       "26.02346098062007"
      ]
     },
     "execution_count": 68,
     "metadata": {},
     "output_type": "execute_result"
    }
   ],
   "source": [
    "df1[(df1['non_cancer_POD_[mg/kg-d]'].notnull()) & (df1['final_picks']==1)]['non_cancer_POD_[mg/kg-d]'].median()"
   ]
  },
  {
   "cell_type": "code",
   "execution_count": 62,
   "id": "aaa3317a-2857-4c55-a8ee-baef631b7e3c",
   "metadata": {},
   "outputs": [
    {
     "data": {
      "text/plain": [
       "4.315938011167974e-08"
      ]
     },
     "execution_count": 62,
     "metadata": {},
     "output_type": "execute_result"
    }
   ],
   "source": [
    "df1[(df1['reproductive/developmental_effects_POD_[mg/kg-d]'].notnull()) ]['reproductive/developmental_effects_POD_[mg/kg-d]'].min()"
   ]
  },
  {
   "cell_type": "code",
   "execution_count": 37,
   "id": "ce549413-be1f-4b84-9d95-848e156a3460",
   "metadata": {},
   "outputs": [
    {
     "data": {
      "text/plain": [
       "<Axes: ylabel='Frequency'>"
      ]
     },
     "execution_count": 37,
     "metadata": {},
     "output_type": "execute_result"
    },
    {
     "data": {
      "image/png": "[encoded data removed]",
      "text/plain": [
       "<Figure size 640x480 with 1 Axes>"
      ]
     },
     "metadata": {},
     "output_type": "display_data"
    }
   ],
   "source": [
    "df1[(df1['non_cancer_POD_[mg/kg-d]'].notnull()) & (df1['final_picks']==1)]['non_cancer_POD_[mg/kg-d]'].plot(kind = 'hist')"
   ]
  },
  {
   "cell_type": "code",
   "execution_count": 123,
   "id": "71b20dcb-1c37-453b-9ec0-b02b5c9c16b9",
   "metadata": {},
   "outputs": [],
   "source": [
    "df1.to_csv(interim_dir+'tsca_set_wtoxval.csv')"
   ]
  },
  {
   "cell_type": "code",
   "execution_count": 43,
   "id": "c96e129f-974a-4fca-9b66-0a1ccbfbf8f8",
   "metadata": {},
   "outputs": [
    {
     "name": "stderr",
     "output_type": "stream",
     "text": [
      "/tmp/ipykernel_315414/2742008988.py:2: UserWarning: \n",
      "\n",
      "`distplot` is a deprecated function and will be removed in seaborn v0.14.0.\n",
      "\n",
      "Please adapt your code to use either `displot` (a figure-level function with\n",
      "similar flexibility) or `histplot` (an axes-level function for histograms).\n",
      "\n",
      "For a guide to updating your code to use the new functions, please see\n",
      "https://gist.github.com/mwaskom/de44147ed2974457ad6372750bbe5751\n",
      "\n",
      "  g = sns.distplot(df1[(df1['non_cancer_POD_[mg/kg-d]'].notnull())]['non_cancer_POD_[mg/kg-d]'], color = 'b', ax = ax, label = 'all TSCA')\n",
      "/tmp/ipykernel_315414/2742008988.py:3: UserWarning: \n",
      "\n",
      "`distplot` is a deprecated function and will be removed in seaborn v0.14.0.\n",
      "\n",
      "Please adapt your code to use either `displot` (a figure-level function with\n",
      "similar flexibility) or `histplot` (an axes-level function for histograms).\n",
      "\n",
      "For a guide to updating your code to use the new functions, please see\n",
      "https://gist.github.com/mwaskom/de44147ed2974457ad6372750bbe5751\n",
      "\n",
      "  g = sns.distplot(df1[(df1['non_cancer_POD_[mg/kg-d]'].notnull()) & (df1['final_picks']==1)]['non_cancer_POD_[mg/kg-d]'], color = 'r', ax = ax, label = 'diverse_picks')\n"
     ]
    },
    {
     "data": {
      "image/png": "[encoded data removed]",
      "text/plain": [
       "<Figure size 600x400 with 1 Axes>"
      ]
     },
     "metadata": {},
     "output_type": "display_data"
    }
   ],
   "source": [
    "fig, ax = plt.subplots(figsize = (6,4))\n",
    "g = sns.distplot(df1[(df1['non_cancer_POD_[mg/kg-d]'].notnull())]['non_cancer_POD_[mg/kg-d]'], color = 'b', ax = ax, label = 'all TSCA')\n",
    "g = sns.distplot(df1[(df1['non_cancer_POD_[mg/kg-d]'].notnull()) & (df1['final_picks']==1)]['non_cancer_POD_[mg/kg-d]'], color = 'r', ax = ax, label = 'diverse_picks')\n",
    "handles, labels = ax.get_legend_handles_labels()\n",
    "#print(handles)\n",
    "l = plt.legend(handles[0:5], labels[0:5], bbox_to_anchor=(1.15,0.75), loc=2, borderaxespad=0.);\n",
    "plt.tight_layout();"
   ]
  },
  {
   "cell_type": "code",
   "execution_count": 69,
   "id": "1c571a87-5fa6-4ec2-b47e-a808f2626263",
   "metadata": {},
   "outputs": [],
   "source": [
    "def ecdf(data):\n",
    "    '''\n",
    "    Calculate the ecdf of a 1d-array\n",
    "    Returns the x, y needed to plot the empirical ecdf\n",
    "    '''\n",
    "    n = len(data)\n",
    "    x = np.sort(data)\n",
    "    y = np.arange(1, n+1)/n\n",
    "    return x, y"
   ]
  },
  {
   "cell_type": "code",
   "execution_count": 72,
   "id": "3c169134-0fb2-46cf-ae81-1e5dd93711c9",
   "metadata": {},
   "outputs": [],
   "source": [
    "def toxval_summary(d, label = None):\n",
    "    summary = {}\n",
    "    summary['median'] = np.median(d)\n",
    "    summary['ecdfx'], summary['ecdfy'] = ecdf(d)\n",
    "    summary['label'] = label\n",
    "    return summary"
   ]
  },
  {
   "cell_type": "code",
   "execution_count": 71,
   "id": "427e73f8-ba5c-4538-bdc6-32e5f3f3c567",
   "metadata": {},
   "outputs": [],
   "source": [
    "txval_nc= {}\n",
    "for i, group in df1.groupby('group_str'):\n",
    "    txval_nc[i] = group['non_cancer_POD_[mg/kg-d]'].values"
   ]
  },
  {
   "cell_type": "code",
   "execution_count": 73,
   "id": "397541d9-77a3-4441-a88f-817060a2c672",
   "metadata": {},
   "outputs": [],
   "source": [
    "txval_repro= {}\n",
    "for i, group in df1.groupby('group_str'):\n",
    "    txval_repro[i] = group['reproductive/developmental_effects_POD_[mg/kg-d]'].values"
   ]
  },
  {
   "cell_type": "code",
   "execution_count": 112,
   "id": "5ec07912-1132-4305-92e8-b22bdfc3fe26",
   "metadata": {},
   "outputs": [],
   "source": [
    "non_cancer= []\n",
    "for k, v in txval_nc.items():\n",
    "    non_cancer.append(toxval_summary(v, label = k))"
   ]
  },
  {
   "cell_type": "code",
   "execution_count": 113,
   "id": "80ce9771-7a71-447f-9786-c0f75a222a0c",
   "metadata": {},
   "outputs": [],
   "source": [
    "repro = []\n",
    "for k, v in txval_repro.items():\n",
    "    repro.append(toxval_summary(v, label = k))"
   ]
  },
  {
   "cell_type": "code",
   "execution_count": 114,
   "id": "6516f66e-dea2-4049-9547-694a64183947",
   "metadata": {},
   "outputs": [
    {
     "data": {
      "text/html": [
       "<div>\n",
       "<style scoped>\n",
       "    .dataframe tbody tr th:only-of-type {\n",
       "        vertical-align: middle;\n",
       "    }\n",
       "\n",
       "    .dataframe tbody tr th {\n",
       "        vertical-align: top;\n",
       "    }\n",
       "\n",
       "    .dataframe thead th {\n",
       "        text-align: right;\n",
       "    }\n",
       "</style>\n",
       "<table border=\"1\" class=\"dataframe\">\n",
       "  <thead>\n",
       "    <tr style=\"text-align: right;\">\n",
       "      <th></th>\n",
       "      <th>median</th>\n",
       "      <th>label</th>\n",
       "    </tr>\n",
       "  </thead>\n",
       "  <tbody>\n",
       "    <tr>\n",
       "      <th>88</th>\n",
       "      <td>0.565497</td>\n",
       "      <td>('Mixed metal/non-metal compounds', 1.0)</td>\n",
       "    </tr>\n",
       "    <tr>\n",
       "      <th>82</th>\n",
       "      <td>4.274281</td>\n",
       "      <td>('Isoindoles and derivatives', nan)</td>\n",
       "    </tr>\n",
       "    <tr>\n",
       "      <th>140</th>\n",
       "      <td>6.324715</td>\n",
       "      <td>('Organosulfur compounds', 2.0)</td>\n",
       "    </tr>\n",
       "    <tr>\n",
       "      <th>178</th>\n",
       "      <td>6.814948</td>\n",
       "      <td>('Triazines', nan)</td>\n",
       "    </tr>\n",
       "    <tr>\n",
       "      <th>147</th>\n",
       "      <td>9.557582</td>\n",
       "      <td>('Oxanes', nan)</td>\n",
       "    </tr>\n",
       "  </tbody>\n",
       "</table>\n",
       "</div>"
      ],
      "text/plain": [
       "       median                                     label\n",
       "88   0.565497  ('Mixed metal/non-metal compounds', 1.0)\n",
       "82   4.274281       ('Isoindoles and derivatives', nan)\n",
       "140  6.324715           ('Organosulfur compounds', 2.0)\n",
       "178  6.814948                        ('Triazines', nan)\n",
       "147  9.557582                           ('Oxanes', nan)"
      ]
     },
     "execution_count": 114,
     "metadata": {},
     "output_type": "execute_result"
    }
   ],
   "source": [
    "pd.DataFrame(non_cancer)[['median', 'label']].sort_values(by = 'median', ascending = True).head()"
   ]
  },
  {
   "cell_type": "code",
   "execution_count": 115,
   "id": "a09ef7ae-c71e-47a4-be1c-f5cf75d9bfa8",
   "metadata": {},
   "outputs": [
    {
     "data": {
      "text/html": [
       "<div>\n",
       "<style scoped>\n",
       "    .dataframe tbody tr th:only-of-type {\n",
       "        vertical-align: middle;\n",
       "    }\n",
       "\n",
       "    .dataframe tbody tr th {\n",
       "        vertical-align: top;\n",
       "    }\n",
       "\n",
       "    .dataframe thead th {\n",
       "        text-align: right;\n",
       "    }\n",
       "</style>\n",
       "<table border=\"1\" class=\"dataframe\">\n",
       "  <thead>\n",
       "    <tr style=\"text-align: right;\">\n",
       "      <th></th>\n",
       "      <th>median</th>\n",
       "      <th>label</th>\n",
       "    </tr>\n",
       "  </thead>\n",
       "  <tbody>\n",
       "    <tr>\n",
       "      <th>106</th>\n",
       "      <td>37.646384</td>\n",
       "      <td>('Organic carbonic acids and derivatives', 4.0)</td>\n",
       "    </tr>\n",
       "    <tr>\n",
       "      <th>26</th>\n",
       "      <td>140.841729</td>\n",
       "      <td>('Azolidines', 1.0)</td>\n",
       "    </tr>\n",
       "    <tr>\n",
       "      <th>76</th>\n",
       "      <td>171.434395</td>\n",
       "      <td>('Hydrocarbons', 1.0)</td>\n",
       "    </tr>\n",
       "    <tr>\n",
       "      <th>68</th>\n",
       "      <td>576.668717</td>\n",
       "      <td>('Glycerolipids', nan)</td>\n",
       "    </tr>\n",
       "    <tr>\n",
       "      <th>47</th>\n",
       "      <td>2021.182463</td>\n",
       "      <td>('Benzimidazoles', nan)</td>\n",
       "    </tr>\n",
       "  </tbody>\n",
       "</table>\n",
       "</div>"
      ],
      "text/plain": [
       "          median                                            label\n",
       "106    37.646384  ('Organic carbonic acids and derivatives', 4.0)\n",
       "26    140.841729                              ('Azolidines', 1.0)\n",
       "76    171.434395                            ('Hydrocarbons', 1.0)\n",
       "68    576.668717                           ('Glycerolipids', nan)\n",
       "47   2021.182463                          ('Benzimidazoles', nan)"
      ]
     },
     "execution_count": 115,
     "metadata": {},
     "output_type": "execute_result"
    }
   ],
   "source": [
    "pd.DataFrame(non_cancer)[['median', 'label']].dropna().sort_values(by = 'median', ascending = True).tail()"
   ]
  },
  {
   "cell_type": "code",
   "execution_count": 77,
   "id": "71dad8c8-9dd9-49e7-9c75-7e21dd9c8c4e",
   "metadata": {},
   "outputs": [
    {
     "data": {
      "text/html": [
       "<div>\n",
       "<style scoped>\n",
       "    .dataframe tbody tr th:only-of-type {\n",
       "        vertical-align: middle;\n",
       "    }\n",
       "\n",
       "    .dataframe tbody tr th {\n",
       "        vertical-align: top;\n",
       "    }\n",
       "\n",
       "    .dataframe thead th {\n",
       "        text-align: right;\n",
       "    }\n",
       "</style>\n",
       "<table border=\"1\" class=\"dataframe\">\n",
       "  <thead>\n",
       "    <tr style=\"text-align: right;\">\n",
       "      <th></th>\n",
       "      <th>median</th>\n",
       "      <th>label</th>\n",
       "    </tr>\n",
       "  </thead>\n",
       "  <tbody>\n",
       "    <tr>\n",
       "      <th>29</th>\n",
       "      <td>5.577352</td>\n",
       "      <td>('Azolidines', 4.0)</td>\n",
       "    </tr>\n",
       "    <tr>\n",
       "      <th>178</th>\n",
       "      <td>5.832666</td>\n",
       "      <td>('Triazines', nan)</td>\n",
       "    </tr>\n",
       "    <tr>\n",
       "      <th>114</th>\n",
       "      <td>6.545916</td>\n",
       "      <td>('Organic oxoanionic compounds', nan)</td>\n",
       "    </tr>\n",
       "    <tr>\n",
       "      <th>74</th>\n",
       "      <td>17.036111</td>\n",
       "      <td>('Homogeneous non-metal compounds', 4.0)</td>\n",
       "    </tr>\n",
       "    <tr>\n",
       "      <th>157</th>\n",
       "      <td>63.888575</td>\n",
       "      <td>('Phenols', 3.0)</td>\n",
       "    </tr>\n",
       "  </tbody>\n",
       "</table>\n",
       "</div>"
      ],
      "text/plain": [
       "        median                                     label\n",
       "29    5.577352                       ('Azolidines', 4.0)\n",
       "178   5.832666                        ('Triazines', nan)\n",
       "114   6.545916     ('Organic oxoanionic compounds', nan)\n",
       "74   17.036111  ('Homogeneous non-metal compounds', 4.0)\n",
       "157  63.888575                          ('Phenols', 3.0)"
      ]
     },
     "execution_count": 77,
     "metadata": {},
     "output_type": "execute_result"
    }
   ],
   "source": [
    "pd.DataFrame(repro)[['median', 'label']].sort_values(by = 'median', ascending = True).head()"
   ]
  },
  {
   "cell_type": "code",
   "execution_count": 116,
   "id": "e0717df1-c1bf-4910-83e6-c8ae27ea27e4",
   "metadata": {},
   "outputs": [
    {
     "name": "stdout",
     "output_type": "stream",
     "text": [
      "47\n",
      "68\n",
      "82\n",
      "140\n"
     ]
    }
   ],
   "source": [
    "for i in range(len(non_cancer)):\n",
    "    if non_cancer[i]['label'] in [\"('Isoindoles and derivatives', nan)\", \"('Organosulfur compounds', 2.0)\",\"('Benzimidazoles', nan)\", \"('Glycerolipids', nan)\"]:\n",
    "        print(i)"
   ]
  },
  {
   "cell_type": "code",
   "execution_count": 117,
   "id": "83f90d98-d470-418e-88f1-5a04d73a7b79",
   "metadata": {},
   "outputs": [
    {
     "data": {
      "text/plain": [
       "array([          nan,    4.46929802,   14.03312081,   69.46911463,\n",
       "                 nan,           nan,    8.00066522,   13.64041136,\n",
       "        191.15163547,  191.15163547,           nan,           nan,\n",
       "                 nan,           nan,           nan,           nan,\n",
       "                 nan, 2021.18246305,           nan,           nan,\n",
       "                 nan,           nan,           nan,           nan,\n",
       "                 nan,           nan,           nan,           nan,\n",
       "                 nan,           nan,           nan,           nan,\n",
       "                 nan,           nan,           nan])"
      ]
     },
     "execution_count": 117,
     "metadata": {},
     "output_type": "execute_result"
    }
   ],
   "source": [
    "np.array(non_cancer[47]['ecdfx'], dtype = float)"
   ]
  },
  {
   "cell_type": "code",
   "execution_count": 120,
   "id": "ee7abea4-b2b1-4272-bcc8-c70ea651a1b2",
   "metadata": {},
   "outputs": [
    {
     "name": "stdout",
     "output_type": "stream",
     "text": [
      "(35,) (35,)\n",
      "(39,) (39,)\n",
      "(39,) (39,)\n",
      "(55,) (55,)\n"
     ]
    },
    {
     "data": {
      "text/plain": [
       "<matplotlib.legend.Legend at 0x75668ceb8550>"
      ]
     },
     "execution_count": 120,
     "metadata": {},
     "output_type": "execute_result"
    },
    {
     "data": {
      "image/png": "[encoded data removed]",
      "text/plain": [
       "<Figure size 900x600 with 1 Axes>"
      ]
     },
     "metadata": {},
     "output_type": "display_data"
    }
   ],
   "source": [
    "fig, ax = plt.subplots(figsize = (9,6))\n",
    "for i in range(len(non_cancer)):\n",
    "    if non_cancer[i]['label'] in [\"('Isoindoles and derivatives', nan)\", \"('Organosulfur compounds', 2.0)\", \"('Benzimidazoles', nan)\", \"('Glycerolipids', nan)\"]:\n",
    "        ax.set_xlabel('non_cancer_POD_[mg/kg-d]')\n",
    "        ax.set_ylabel('ECDF')\n",
    "        \n",
    "        # Filter NaN values from ecdfx and ecdfy arrays\n",
    "        ecdfx = np.array(non_cancer[i]['ecdfx'], dtype=float)\n",
    "       \n",
    "        ecdfy = np.array(non_cancer[i]['ecdfy'], dtype=float)\n",
    "        print(ecdfx.shape, ecdfy.shape)\n",
    "        mask = np.isnan(ecdfx)\n",
    "        mask = ~mask\n",
    "        ecdfx_filtered = ecdfx[mask]\n",
    "        ecdfy_filtered = ecdfy[mask]\n",
    "        \n",
    "        # Plot the ECDF\n",
    "        ax.plot((ecdfx_filtered), ecdfy_filtered, marker='.', linestyle='none', label=non_cancer[i]['label'])\n",
    "\n",
    "# Add legend outside the plot\n",
    "ax.legend(bbox_to_anchor=(1, 1))\n",
    "        "
   ]
  },
  {
   "cell_type": "code",
   "execution_count": 125,
   "id": "c4c37c12-a6f0-49c9-ad7b-01c287572259",
   "metadata": {},
   "outputs": [
    {
     "data": {
      "text/plain": [
       "(14247, 135)"
      ]
     },
     "execution_count": 125,
     "metadata": {},
     "output_type": "execute_result"
    }
   ],
   "source": [
    "df1.shape"
   ]
  },
  {
   "cell_type": "code",
   "execution_count": 128,
   "id": "7fe38ea5-fb44-45bb-b822-25197a61a65c",
   "metadata": {},
   "outputs": [
    {
     "data": {
      "text/plain": [
       "106"
      ]
     },
     "execution_count": 128,
     "metadata": {},
     "output_type": "execute_result"
    }
   ],
   "source": [
    "df1[df1['final_picks'] ==1]['group_str'].nunique()"
   ]
  },
  {
   "cell_type": "code",
   "execution_count": 129,
   "id": "d5353dca-f7c3-4f57-87b3-1d871bed716a",
   "metadata": {},
   "outputs": [
    {
     "data": {
      "text/plain": [
       "180"
      ]
     },
     "execution_count": 129,
     "metadata": {},
     "output_type": "execute_result"
    }
   ],
   "source": [
    "df1['group_str'].nunique()"
   ]
  },
  {
   "cell_type": "code",
   "execution_count": 130,
   "id": "6bce2f2c-f46b-4ea1-a396-da308b532e8b",
   "metadata": {},
   "outputs": [
    {
     "data": {
      "text/plain": [
       "0.5888888888888889"
      ]
     },
     "execution_count": 130,
     "metadata": {},
     "output_type": "execute_result"
    }
   ],
   "source": [
    "106/180"
   ]
  },
  {
   "cell_type": "code",
   "execution_count": null,
   "id": "4d623009-7f89-48bd-9571-7999a98961f5",
   "metadata": {},
   "outputs": [],
   "source": []
  }
 ],
 "metadata": {
  "kernelspec": {
   "display_name": "py39",
   "language": "python",
   "name": "py39"
  },
  "language_info": {
   "codemirror_mode": {
    "name": "ipython",
    "version": 3
   },
   "file_extension": ".py",
   "mimetype": "text/x-python",
   "name": "python",
   "nbconvert_exporter": "python",
   "pygments_lexer": "ipython3",
   "version": "3.9.16"
  },
  "widgets": {
   "application/vnd.jupyter.widget-state+json": {
    "state": {},
    "version_major": 2,
    "version_minor": 0
   }
  }
 },
 "nbformat": 4,
 "nbformat_minor": 5
}
