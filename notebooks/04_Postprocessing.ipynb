{
 "cells": [
  {
   "cell_type": "code",
   "execution_count": 1,
   "id": "b0aaab38-6ada-40fa-aa5e-6028cb17d321",
   "metadata": {},
   "outputs": [],
   "source": [
    "import numpy as np\n",
    "import pandas as pd\n",
    "import matplotlib.pyplot as plt\n",
    "import seaborn as sns\n",
    "%matplotlib inline\n",
    "import openpyxl\n",
    "from rdkit.Chem.Draw import IPythonConsole, MolsToGridImage\n",
    "\n",
    "#Show mols in dataframes\n",
    "from rdkit.Chem import PandasTools\n",
    "from rdkit import Chem\n",
    "from rdkit.Chem.Draw import MolsToGridImage\n",
    "from IPython.core.display import HTML\n",
    "from rdkit.Chem import Descriptors\n",
    "from rdkit.ML.Descriptors import MoleculeDescriptors\n",
    "from rdkit.Chem import PandasTools\n",
    "from rdkit.Chem import AllChem\n",
    "from rdkit.Chem import rdDepictor\n",
    "from rdkit.Chem.Fingerprints import FingerprintMols\n",
    "from rdkit import DataStructs\n",
    "import os"
   ]
  },
  {
   "cell_type": "code",
   "execution_count": 2,
   "id": "e6992128-3291-4337-9741-63ac1154de00",
   "metadata": {},
   "outputs": [],
   "source": [
    "from scipy.spatial.distance import pdist, squareform"
   ]
  },
  {
   "cell_type": "code",
   "execution_count": 3,
   "id": "887782cb-aa91-43f2-a276-29672043d419",
   "metadata": {},
   "outputs": [
    {
     "data": {
      "text/plain": [
       "'/ccte/home1/gpatlewi/python/tsca_categories/notebooks'"
      ]
     },
     "execution_count": 3,
     "metadata": {},
     "output_type": "execute_result"
    }
   ],
   "source": [
    "pwd"
   ]
  },
  {
   "cell_type": "code",
   "execution_count": 4,
   "id": "c1d597dc-dbbf-41ef-868b-a2c880c84737",
   "metadata": {},
   "outputs": [],
   "source": [
    "TOP = os.getcwd().replace('notebooks', '')\n",
    "raw_dir = TOP + 'data/raw/'\n",
    "processed_dir = TOP + 'data/processed/'\n",
    "interim_dir = TOP + 'data/interim/'\n",
    "external_dir = TOP + 'data/external/'\n",
    "figures_dir = TOP + 'reports/figures/'"
   ]
  },
  {
   "cell_type": "markdown",
   "id": "554b089a-7c92-494c-a5c6-8a2aa68e25a3",
   "metadata": {},
   "source": [
    "Re-evaluate ClassyFire results to evaluate whether any substances can be reassigned. Check OPERA predictions for substances to do sanity check"
   ]
  },
  {
   "cell_type": "code",
   "execution_count": 5,
   "id": "3aa28a46-58c4-4b54-9d5f-8e5853cbdb18",
   "metadata": {},
   "outputs": [],
   "source": [
    "classyfire_out = pd.read_csv(processed_dir+'tsca_classyfied.csv', index_col = 0)"
   ]
  },
  {
   "cell_type": "code",
   "execution_count": 6,
   "id": "818a7bdc-dbd0-4139-859f-8a5df9c1f4b7",
   "metadata": {},
   "outputs": [
    {
     "data": {
      "text/plain": [
       "(14247, 9)"
      ]
     },
     "execution_count": 6,
     "metadata": {},
     "output_type": "execute_result"
    }
   ],
   "source": [
    "classyfire_out.shape"
   ]
  },
  {
   "cell_type": "code",
   "execution_count": 7,
   "id": "8b0a70e7-0b37-476b-8e7f-9f76fc8069f8",
   "metadata": {},
   "outputs": [
    {
     "name": "stdout",
     "output_type": "stream",
     "text": [
      "<class 'pandas.core.frame.DataFrame'>\n",
      "Int64Index: 14247 entries, 0 to 14246\n",
      "Data columns (total 9 columns):\n",
      " #   Column      Non-Null Count  Dtype  \n",
      "---  ------      --------------  -----  \n",
      " 0   INCHIKEY    14247 non-null  object \n",
      " 1   Kingdom     14247 non-null  object \n",
      " 2   Superclass  14247 non-null  object \n",
      " 3   Class       14247 non-null  object \n",
      " 4   Subclass    14247 non-null  object \n",
      " 5   Unnamed: 6  0 non-null      float64\n",
      " 6   INCHIKEY.1  14247 non-null  object \n",
      " 7   Unnamed: 8  14247 non-null  object \n",
      " 8   dtxsid      14247 non-null  object \n",
      "dtypes: float64(1), object(8)\n",
      "memory usage: 1.1+ MB\n"
     ]
    }
   ],
   "source": [
    "classyfire_out.info()"
   ]
  },
  {
   "cell_type": "code",
   "execution_count": 8,
   "id": "360f4fe5-56e1-4e90-afcf-5ed684798504",
   "metadata": {},
   "outputs": [
    {
     "data": {
      "text/plain": [
       "OK    14247\n",
       "Name: Unnamed: 8, dtype: int64"
      ]
     },
     "execution_count": 8,
     "metadata": {},
     "output_type": "execute_result"
    }
   ],
   "source": [
    "classyfire_out['Unnamed: 8'].value_counts(dropna = False)"
   ]
  },
  {
   "cell_type": "code",
   "execution_count": 9,
   "id": "19c3018a-7f2d-4686-ba50-4e34f779141f",
   "metadata": {},
   "outputs": [],
   "source": [
    "classyfire_out.drop(['Unnamed: 8', 'Unnamed: 6'], axis = 1, inplace = True)"
   ]
  },
  {
   "cell_type": "code",
   "execution_count": 10,
   "id": "f89a9785-0261-4e5a-a818-8b4b234a7098",
   "metadata": {},
   "outputs": [],
   "source": [
    "cols = classyfire_out.columns.tolist()"
   ]
  },
  {
   "cell_type": "code",
   "execution_count": 11,
   "id": "6f613b7e-7ece-437f-af06-2969476076b1",
   "metadata": {},
   "outputs": [],
   "source": [
    "cols = [cols[-1]] + cols[:-1]\n"
   ]
  },
  {
   "cell_type": "code",
   "execution_count": 12,
   "id": "6f8ad046-f515-4f38-88b2-c80412fbd3f7",
   "metadata": {},
   "outputs": [
    {
     "data": {
      "text/plain": [
       "['dtxsid', 'INCHIKEY', 'Kingdom', 'Superclass', 'Class', 'Subclass']"
      ]
     },
     "execution_count": 12,
     "metadata": {},
     "output_type": "execute_result"
    }
   ],
   "source": [
    "cols = cols[:-1]\n",
    "cols"
   ]
  },
  {
   "cell_type": "code",
   "execution_count": 13,
   "id": "a4832901-4178-4630-abfc-cb87789af278",
   "metadata": {},
   "outputs": [],
   "source": [
    "classyfire_out = classyfire_out[cols]"
   ]
  },
  {
   "cell_type": "code",
   "execution_count": 14,
   "id": "3950cfec-d0a0-4b81-882f-a241b29837bc",
   "metadata": {},
   "outputs": [],
   "source": [
    "missing_cats = classyfire_out[classyfire_out['Kingdom']==\"['err', 'err', 'err', 'err']\"]"
   ]
  },
  {
   "cell_type": "code",
   "execution_count": 16,
   "id": "6eecc2cd-bb84-494a-b191-e9cbaec72b1e",
   "metadata": {},
   "outputs": [],
   "source": [
    "missing_df = missing_cats[['INCHIKEY']].copy()\n"
   ]
  },
  {
   "cell_type": "code",
   "execution_count": 17,
   "id": "a8dbc01b-eb4b-41dd-aded-e2a134fa6050",
   "metadata": {},
   "outputs": [
    {
     "data": {
      "text/html": [
       "<div>\n",
       "<style scoped>\n",
       "    .dataframe tbody tr th:only-of-type {\n",
       "        vertical-align: middle;\n",
       "    }\n",
       "\n",
       "    .dataframe tbody tr th {\n",
       "        vertical-align: top;\n",
       "    }\n",
       "\n",
       "    .dataframe thead th {\n",
       "        text-align: right;\n",
       "    }\n",
       "</style>\n",
       "<table border=\"1\" class=\"dataframe\">\n",
       "  <thead>\n",
       "    <tr style=\"text-align: right;\">\n",
       "      <th></th>\n",
       "      <th>INCHIKEY</th>\n",
       "    </tr>\n",
       "  </thead>\n",
       "  <tbody>\n",
       "    <tr>\n",
       "      <th>12</th>\n",
       "      <td>AASDJASZOZGYMM-UHFFFAOYSA-N</td>\n",
       "    </tr>\n",
       "    <tr>\n",
       "      <th>130</th>\n",
       "      <td>AGQKROMSWCHOND-UHFFFAOYSA-N</td>\n",
       "    </tr>\n",
       "    <tr>\n",
       "      <th>344</th>\n",
       "      <td>AQMKNVZQXJVVNL-UHFFFAOYNA-N</td>\n",
       "    </tr>\n",
       "    <tr>\n",
       "      <th>359</th>\n",
       "      <td>ARIDPXUNLFCABW-UHFFFAOYSA-N</td>\n",
       "    </tr>\n",
       "    <tr>\n",
       "      <th>395</th>\n",
       "      <td>ASWYBBQZAQJKMQ-UHFFFAOYNA-N</td>\n",
       "    </tr>\n",
       "    <tr>\n",
       "      <th>...</th>\n",
       "      <td>...</td>\n",
       "    </tr>\n",
       "    <tr>\n",
       "      <th>14085</th>\n",
       "      <td>ZSMNRKGGHXLZEC-UHFFFAOYSA-N</td>\n",
       "    </tr>\n",
       "    <tr>\n",
       "      <th>14139</th>\n",
       "      <td>ZUVBIBLYOCVYJU-UHFFFAOYSA-N</td>\n",
       "    </tr>\n",
       "    <tr>\n",
       "      <th>14149</th>\n",
       "      <td>ZVEZMVFBMOOHAT-UHFFFAOYSA-N</td>\n",
       "    </tr>\n",
       "    <tr>\n",
       "      <th>14177</th>\n",
       "      <td>ZWNPUELCBZVMDA-UHFFFAOYSA-N</td>\n",
       "    </tr>\n",
       "    <tr>\n",
       "      <th>14196</th>\n",
       "      <td>ZXFNOEJFYLQUSB-UHFFFAOYSA-N</td>\n",
       "    </tr>\n",
       "  </tbody>\n",
       "</table>\n",
       "<p>194 rows × 1 columns</p>\n",
       "</div>"
      ],
      "text/plain": [
       "                          INCHIKEY\n",
       "12     AASDJASZOZGYMM-UHFFFAOYSA-N\n",
       "130    AGQKROMSWCHOND-UHFFFAOYSA-N\n",
       "344    AQMKNVZQXJVVNL-UHFFFAOYNA-N\n",
       "359    ARIDPXUNLFCABW-UHFFFAOYSA-N\n",
       "395    ASWYBBQZAQJKMQ-UHFFFAOYNA-N\n",
       "...                            ...\n",
       "14085  ZSMNRKGGHXLZEC-UHFFFAOYSA-N\n",
       "14139  ZUVBIBLYOCVYJU-UHFFFAOYSA-N\n",
       "14149  ZVEZMVFBMOOHAT-UHFFFAOYSA-N\n",
       "14177  ZWNPUELCBZVMDA-UHFFFAOYSA-N\n",
       "14196  ZXFNOEJFYLQUSB-UHFFFAOYSA-N\n",
       "\n",
       "[194 rows x 1 columns]"
      ]
     },
     "execution_count": 17,
     "metadata": {},
     "output_type": "execute_result"
    }
   ],
   "source": [
    "missing_df"
   ]
  },
  {
   "cell_type": "code",
   "execution_count": 19,
   "id": "18e926b7-d5c5-4df3-ab39-1e08124a5fe7",
   "metadata": {},
   "outputs": [],
   "source": [
    "import re\n",
    "import time\n",
    "import requests"
   ]
  },
  {
   "cell_type": "code",
   "execution_count": 21,
   "id": "33ca0e24-311e-45c1-a40a-ffb090a21f50",
   "metadata": {},
   "outputs": [],
   "source": [
    "groups = ['kingdom','superclass','class','subclass']\n",
    "\n",
    "classy_data = []\n",
    "for idx, inchikey in missing_df['INCHIKEY'].items():\n",
    "    classyfire = [inchikey]\n",
    "\n",
    "    response = requests.get(f'http://classyfire.wishartlab.com/entities/{inchikey}.json').json()\n",
    "    if 'code' in response:\n",
    "        time.sleep(1)\n",
    "        response = requests.get(f'http://classyfire.wishartlab.com/entities/{inchikey}.json').json()\n",
    "        try:\n",
    "            for group in groups:\n",
    "                if response[group] is not None:        \n",
    "                    category_name = response[group]['name']\n",
    "                    classyfire.append(category_name)\n",
    "                else:\n",
    "                    classyfire.append('N/a')\n",
    "        except:\n",
    "            classyfire.append(['err','err','err','err'])\n",
    "    classy_data.append(classyfire)"
   ]
  },
  {
   "cell_type": "code",
   "execution_count": 23,
   "id": "134939af-2f98-467d-903c-192b766bf756",
   "metadata": {},
   "outputs": [],
   "source": [
    "df = pd.DataFrame(classy_data,columns=['INCHIKEY','Kingdom','Superclass','Class','Subclass'])"
   ]
  },
  {
   "cell_type": "code",
   "execution_count": 27,
   "id": "8967729a-8cfa-46d3-9e92-d285557b9cde",
   "metadata": {},
   "outputs": [
    {
     "data": {
      "text/html": [
       "<div>\n",
       "<style scoped>\n",
       "    .dataframe tbody tr th:only-of-type {\n",
       "        vertical-align: middle;\n",
       "    }\n",
       "\n",
       "    .dataframe tbody tr th {\n",
       "        vertical-align: top;\n",
       "    }\n",
       "\n",
       "    .dataframe thead th {\n",
       "        text-align: right;\n",
       "    }\n",
       "</style>\n",
       "<table border=\"1\" class=\"dataframe\">\n",
       "  <thead>\n",
       "    <tr style=\"text-align: right;\">\n",
       "      <th></th>\n",
       "      <th>INCHIKEY</th>\n",
       "      <th>Kingdom</th>\n",
       "      <th>Superclass</th>\n",
       "      <th>Class</th>\n",
       "      <th>Subclass</th>\n",
       "    </tr>\n",
       "  </thead>\n",
       "  <tbody>\n",
       "    <tr>\n",
       "      <th>0</th>\n",
       "      <td>AASDJASZOZGYMM-UHFFFAOYSA-N</td>\n",
       "      <td>None</td>\n",
       "      <td>None</td>\n",
       "      <td>None</td>\n",
       "      <td>None</td>\n",
       "    </tr>\n",
       "    <tr>\n",
       "      <th>1</th>\n",
       "      <td>AGQKROMSWCHOND-UHFFFAOYSA-N</td>\n",
       "      <td>None</td>\n",
       "      <td>None</td>\n",
       "      <td>None</td>\n",
       "      <td>None</td>\n",
       "    </tr>\n",
       "    <tr>\n",
       "      <th>2</th>\n",
       "      <td>AQMKNVZQXJVVNL-UHFFFAOYNA-N</td>\n",
       "      <td>None</td>\n",
       "      <td>None</td>\n",
       "      <td>None</td>\n",
       "      <td>None</td>\n",
       "    </tr>\n",
       "    <tr>\n",
       "      <th>3</th>\n",
       "      <td>ARIDPXUNLFCABW-UHFFFAOYSA-N</td>\n",
       "      <td>None</td>\n",
       "      <td>None</td>\n",
       "      <td>None</td>\n",
       "      <td>None</td>\n",
       "    </tr>\n",
       "    <tr>\n",
       "      <th>4</th>\n",
       "      <td>ASWYBBQZAQJKMQ-UHFFFAOYNA-N</td>\n",
       "      <td>None</td>\n",
       "      <td>None</td>\n",
       "      <td>None</td>\n",
       "      <td>None</td>\n",
       "    </tr>\n",
       "    <tr>\n",
       "      <th>...</th>\n",
       "      <td>...</td>\n",
       "      <td>...</td>\n",
       "      <td>...</td>\n",
       "      <td>...</td>\n",
       "      <td>...</td>\n",
       "    </tr>\n",
       "    <tr>\n",
       "      <th>189</th>\n",
       "      <td>ZSMNRKGGHXLZEC-UHFFFAOYSA-N</td>\n",
       "      <td>Organic compounds</td>\n",
       "      <td>Organometallic compounds</td>\n",
       "      <td>Organometalloid compounds</td>\n",
       "      <td>Organosilicon compounds</td>\n",
       "    </tr>\n",
       "    <tr>\n",
       "      <th>190</th>\n",
       "      <td>ZUVBIBLYOCVYJU-UHFFFAOYSA-N</td>\n",
       "      <td>None</td>\n",
       "      <td>None</td>\n",
       "      <td>None</td>\n",
       "      <td>None</td>\n",
       "    </tr>\n",
       "    <tr>\n",
       "      <th>191</th>\n",
       "      <td>ZVEZMVFBMOOHAT-UHFFFAOYSA-N</td>\n",
       "      <td>None</td>\n",
       "      <td>None</td>\n",
       "      <td>None</td>\n",
       "      <td>None</td>\n",
       "    </tr>\n",
       "    <tr>\n",
       "      <th>192</th>\n",
       "      <td>ZWNPUELCBZVMDA-UHFFFAOYSA-N</td>\n",
       "      <td>None</td>\n",
       "      <td>None</td>\n",
       "      <td>None</td>\n",
       "      <td>None</td>\n",
       "    </tr>\n",
       "    <tr>\n",
       "      <th>193</th>\n",
       "      <td>ZXFNOEJFYLQUSB-UHFFFAOYSA-N</td>\n",
       "      <td>None</td>\n",
       "      <td>None</td>\n",
       "      <td>None</td>\n",
       "      <td>None</td>\n",
       "    </tr>\n",
       "  </tbody>\n",
       "</table>\n",
       "<p>194 rows × 5 columns</p>\n",
       "</div>"
      ],
      "text/plain": [
       "                        INCHIKEY            Kingdom                Superclass  \\\n",
       "0    AASDJASZOZGYMM-UHFFFAOYSA-N               None                      None   \n",
       "1    AGQKROMSWCHOND-UHFFFAOYSA-N               None                      None   \n",
       "2    AQMKNVZQXJVVNL-UHFFFAOYNA-N               None                      None   \n",
       "3    ARIDPXUNLFCABW-UHFFFAOYSA-N               None                      None   \n",
       "4    ASWYBBQZAQJKMQ-UHFFFAOYNA-N               None                      None   \n",
       "..                           ...                ...                       ...   \n",
       "189  ZSMNRKGGHXLZEC-UHFFFAOYSA-N  Organic compounds  Organometallic compounds   \n",
       "190  ZUVBIBLYOCVYJU-UHFFFAOYSA-N               None                      None   \n",
       "191  ZVEZMVFBMOOHAT-UHFFFAOYSA-N               None                      None   \n",
       "192  ZWNPUELCBZVMDA-UHFFFAOYSA-N               None                      None   \n",
       "193  ZXFNOEJFYLQUSB-UHFFFAOYSA-N               None                      None   \n",
       "\n",
       "                         Class                 Subclass  \n",
       "0                         None                     None  \n",
       "1                         None                     None  \n",
       "2                         None                     None  \n",
       "3                         None                     None  \n",
       "4                         None                     None  \n",
       "..                         ...                      ...  \n",
       "189  Organometalloid compounds  Organosilicon compounds  \n",
       "190                       None                     None  \n",
       "191                       None                     None  \n",
       "192                       None                     None  \n",
       "193                       None                     None  \n",
       "\n",
       "[194 rows x 5 columns]"
      ]
     },
     "execution_count": 27,
     "metadata": {},
     "output_type": "execute_result"
    }
   ],
   "source": [
    "df"
   ]
  },
  {
   "cell_type": "code",
   "execution_count": 30,
   "id": "3913c4bb-60a9-4199-9c96-48b4c4463944",
   "metadata": {},
   "outputs": [],
   "source": [
    "df2 = pd.merge(classyfire_out, df, on = 'INCHIKEY', how = 'left')"
   ]
  },
  {
   "cell_type": "code",
   "execution_count": 39,
   "id": "12061bfa-98ff-446f-a6ed-5d1a714aeb29",
   "metadata": {},
   "outputs": [],
   "source": [
    "df2['Kingdom'] = df2[['Kingdom_x', 'Kingdom_y']].apply(lambda x: x['Kingdom_x'] if np.all(pd.isnull(x['Kingdom_y'])) else x['Kingdom_y'], axis = 1)\n",
    "\n",
    "#apply(lambda x: my_func(x) if(np.all(pd.notnull(x[1]))) else x, axis = 1)"
   ]
  },
  {
   "cell_type": "code",
   "execution_count": 41,
   "id": "f6f3762f-0f57-46fc-af05-6aeab6246179",
   "metadata": {},
   "outputs": [],
   "source": [
    "df2['Superclass'] = df2[['Superclass_x', 'Superclass_y']].apply(lambda x: x['Superclass_x'] if np.all(pd.isnull(x['Superclass_y'])) else x['Superclass_y'], axis = 1)"
   ]
  },
  {
   "cell_type": "code",
   "execution_count": 42,
   "id": "ff780db5-145f-4723-b23d-9a4f67bb731d",
   "metadata": {},
   "outputs": [],
   "source": [
    "df2['Class'] = df2[['Class_x', 'Class_y']].apply(lambda x: x['Class_x'] if np.all(pd.isnull(x['Class_y'])) else x['Class_y'], axis = 1)"
   ]
  },
  {
   "cell_type": "code",
   "execution_count": 44,
   "id": "04337703-0600-4c23-8922-0532b1c027f3",
   "metadata": {},
   "outputs": [],
   "source": [
    "df2.to_csv(interim_dir+'chk.csv')"
   ]
  },
  {
   "cell_type": "code",
   "execution_count": 50,
   "id": "165d7d51-0892-4072-8fb1-1f68209f7715",
   "metadata": {},
   "outputs": [
    {
     "data": {
      "text/html": [
       "<div>\n",
       "<style scoped>\n",
       "    .dataframe tbody tr th:only-of-type {\n",
       "        vertical-align: middle;\n",
       "    }\n",
       "\n",
       "    .dataframe tbody tr th {\n",
       "        vertical-align: top;\n",
       "    }\n",
       "\n",
       "    .dataframe thead th {\n",
       "        text-align: right;\n",
       "    }\n",
       "</style>\n",
       "<table border=\"1\" class=\"dataframe\">\n",
       "  <thead>\n",
       "    <tr style=\"text-align: right;\">\n",
       "      <th></th>\n",
       "      <th>dtxsid</th>\n",
       "      <th>INCHIKEY</th>\n",
       "      <th>Kingdom_x</th>\n",
       "      <th>Superclass_x</th>\n",
       "      <th>Class_x</th>\n",
       "      <th>Subclass_x</th>\n",
       "      <th>Kingdom_y</th>\n",
       "      <th>Superclass_y</th>\n",
       "      <th>Class_y</th>\n",
       "      <th>Subclass_y</th>\n",
       "      <th>Kingdom</th>\n",
       "      <th>Superclass</th>\n",
       "      <th>Class</th>\n",
       "    </tr>\n",
       "  </thead>\n",
       "  <tbody>\n",
       "    <tr>\n",
       "      <th>12</th>\n",
       "      <td>DTXSID90505110</td>\n",
       "      <td>AASDJASZOZGYMM-UHFFFAOYSA-N</td>\n",
       "      <td>['err', 'err', 'err', 'err']</td>\n",
       "      <td>['err', 'err', 'err', 'err']</td>\n",
       "      <td>['err', 'err', 'err', 'err']</td>\n",
       "      <td>['err', 'err', 'err', 'err']</td>\n",
       "      <td>None</td>\n",
       "      <td>None</td>\n",
       "      <td>None</td>\n",
       "      <td>None</td>\n",
       "      <td>['err', 'err', 'err', 'err']</td>\n",
       "      <td>['err', 'err', 'err', 'err']</td>\n",
       "      <td>['err', 'err', 'err', 'err']</td>\n",
       "    </tr>\n",
       "    <tr>\n",
       "      <th>130</th>\n",
       "      <td>DTXSID901015293</td>\n",
       "      <td>AGQKROMSWCHOND-UHFFFAOYSA-N</td>\n",
       "      <td>['err', 'err', 'err', 'err']</td>\n",
       "      <td>['err', 'err', 'err', 'err']</td>\n",
       "      <td>['err', 'err', 'err', 'err']</td>\n",
       "      <td>['err', 'err', 'err', 'err']</td>\n",
       "      <td>None</td>\n",
       "      <td>None</td>\n",
       "      <td>None</td>\n",
       "      <td>None</td>\n",
       "      <td>['err', 'err', 'err', 'err']</td>\n",
       "      <td>['err', 'err', 'err', 'err']</td>\n",
       "      <td>['err', 'err', 'err', 'err']</td>\n",
       "    </tr>\n",
       "    <tr>\n",
       "      <th>344</th>\n",
       "      <td>DTXSID101021036</td>\n",
       "      <td>AQMKNVZQXJVVNL-UHFFFAOYNA-N</td>\n",
       "      <td>['err', 'err', 'err', 'err']</td>\n",
       "      <td>['err', 'err', 'err', 'err']</td>\n",
       "      <td>['err', 'err', 'err', 'err']</td>\n",
       "      <td>['err', 'err', 'err', 'err']</td>\n",
       "      <td>None</td>\n",
       "      <td>None</td>\n",
       "      <td>None</td>\n",
       "      <td>None</td>\n",
       "      <td>['err', 'err', 'err', 'err']</td>\n",
       "      <td>['err', 'err', 'err', 'err']</td>\n",
       "      <td>['err', 'err', 'err', 'err']</td>\n",
       "    </tr>\n",
       "    <tr>\n",
       "      <th>359</th>\n",
       "      <td>DTXSID30893947</td>\n",
       "      <td>ARIDPXUNLFCABW-UHFFFAOYSA-N</td>\n",
       "      <td>['err', 'err', 'err', 'err']</td>\n",
       "      <td>['err', 'err', 'err', 'err']</td>\n",
       "      <td>['err', 'err', 'err', 'err']</td>\n",
       "      <td>['err', 'err', 'err', 'err']</td>\n",
       "      <td>None</td>\n",
       "      <td>None</td>\n",
       "      <td>None</td>\n",
       "      <td>None</td>\n",
       "      <td>['err', 'err', 'err', 'err']</td>\n",
       "      <td>['err', 'err', 'err', 'err']</td>\n",
       "      <td>['err', 'err', 'err', 'err']</td>\n",
       "    </tr>\n",
       "    <tr>\n",
       "      <th>395</th>\n",
       "      <td>DTXSID901119506</td>\n",
       "      <td>ASWYBBQZAQJKMQ-UHFFFAOYNA-N</td>\n",
       "      <td>['err', 'err', 'err', 'err']</td>\n",
       "      <td>['err', 'err', 'err', 'err']</td>\n",
       "      <td>['err', 'err', 'err', 'err']</td>\n",
       "      <td>['err', 'err', 'err', 'err']</td>\n",
       "      <td>None</td>\n",
       "      <td>None</td>\n",
       "      <td>None</td>\n",
       "      <td>None</td>\n",
       "      <td>['err', 'err', 'err', 'err']</td>\n",
       "      <td>['err', 'err', 'err', 'err']</td>\n",
       "      <td>['err', 'err', 'err', 'err']</td>\n",
       "    </tr>\n",
       "  </tbody>\n",
       "</table>\n",
       "</div>"
      ],
      "text/plain": [
       "              dtxsid                     INCHIKEY  \\\n",
       "12    DTXSID90505110  AASDJASZOZGYMM-UHFFFAOYSA-N   \n",
       "130  DTXSID901015293  AGQKROMSWCHOND-UHFFFAOYSA-N   \n",
       "344  DTXSID101021036  AQMKNVZQXJVVNL-UHFFFAOYNA-N   \n",
       "359   DTXSID30893947  ARIDPXUNLFCABW-UHFFFAOYSA-N   \n",
       "395  DTXSID901119506  ASWYBBQZAQJKMQ-UHFFFAOYNA-N   \n",
       "\n",
       "                        Kingdom_x                  Superclass_x  \\\n",
       "12   ['err', 'err', 'err', 'err']  ['err', 'err', 'err', 'err']   \n",
       "130  ['err', 'err', 'err', 'err']  ['err', 'err', 'err', 'err']   \n",
       "344  ['err', 'err', 'err', 'err']  ['err', 'err', 'err', 'err']   \n",
       "359  ['err', 'err', 'err', 'err']  ['err', 'err', 'err', 'err']   \n",
       "395  ['err', 'err', 'err', 'err']  ['err', 'err', 'err', 'err']   \n",
       "\n",
       "                          Class_x                    Subclass_x Kingdom_y  \\\n",
       "12   ['err', 'err', 'err', 'err']  ['err', 'err', 'err', 'err']      None   \n",
       "130  ['err', 'err', 'err', 'err']  ['err', 'err', 'err', 'err']      None   \n",
       "344  ['err', 'err', 'err', 'err']  ['err', 'err', 'err', 'err']      None   \n",
       "359  ['err', 'err', 'err', 'err']  ['err', 'err', 'err', 'err']      None   \n",
       "395  ['err', 'err', 'err', 'err']  ['err', 'err', 'err', 'err']      None   \n",
       "\n",
       "    Superclass_y Class_y Subclass_y                       Kingdom  \\\n",
       "12          None    None       None  ['err', 'err', 'err', 'err']   \n",
       "130         None    None       None  ['err', 'err', 'err', 'err']   \n",
       "344         None    None       None  ['err', 'err', 'err', 'err']   \n",
       "359         None    None       None  ['err', 'err', 'err', 'err']   \n",
       "395         None    None       None  ['err', 'err', 'err', 'err']   \n",
       "\n",
       "                       Superclass                         Class  \n",
       "12   ['err', 'err', 'err', 'err']  ['err', 'err', 'err', 'err']  \n",
       "130  ['err', 'err', 'err', 'err']  ['err', 'err', 'err', 'err']  \n",
       "344  ['err', 'err', 'err', 'err']  ['err', 'err', 'err', 'err']  \n",
       "359  ['err', 'err', 'err', 'err']  ['err', 'err', 'err', 'err']  \n",
       "395  ['err', 'err', 'err', 'err']  ['err', 'err', 'err', 'err']  "
      ]
     },
     "execution_count": 50,
     "metadata": {},
     "output_type": "execute_result"
    }
   ],
   "source": [
    "df2[df2['Kingdom_x'] == \"['err', 'err', 'err', 'err']\"].head()"
   ]
  },
  {
   "cell_type": "code",
   "execution_count": null,
   "id": "aa75c54d-39c9-49aa-bdec-5287e030f6a9",
   "metadata": {},
   "outputs": [],
   "source": [
    "for index in df_rev[mask_gene].index:\n",
    "    if df_rev.loc[index, 'standard_assay_type'] == 'Other mutation':\n",
    "        df_rev.loc[index, 'standard_assay_type'] = 'bacterial reverse mutation test'\n"
   ]
  },
  {
   "cell_type": "code",
   "execution_count": 62,
   "id": "49f723ff-ff2e-4bcd-b150-5a8eba5e5511",
   "metadata": {},
   "outputs": [],
   "source": [
    "for index in df2.index:\n",
    "    if df2.loc[index, 'Kingdom'] == \"['err', 'err', 'err', 'err']\":\n",
    "        df2.loc[index, 'Kingdom'] = 'Other'"
   ]
  },
  {
   "cell_type": "code",
   "execution_count": 63,
   "id": "e4e68919-312f-4687-9717-70ca74a5f477",
   "metadata": {},
   "outputs": [
    {
     "data": {
      "text/plain": [
       "Organic compounds       13477\n",
       "Inorganic compounds       593\n",
       "Other                     133\n",
       "[err, err, err, err]       46\n",
       "Name: Kingdom, dtype: int64"
      ]
     },
     "execution_count": 63,
     "metadata": {},
     "output_type": "execute_result"
    }
   ],
   "source": [
    "df2['Kingdom'].value_counts()"
   ]
  },
  {
   "cell_type": "code",
   "execution_count": 64,
   "id": "405af316-c696-407e-8512-428e2978c7cd",
   "metadata": {},
   "outputs": [],
   "source": [
    "for index in df2.index:\n",
    "    if df2.loc[index, 'Superclass'] == \"['err', 'err', 'err', 'err']\":\n",
    "        df2.loc[index, 'Superclass'] = 'Other'"
   ]
  },
  {
   "cell_type": "code",
   "execution_count": 65,
   "id": "b07d1086-7b94-489b-abb6-8aea64a1227f",
   "metadata": {},
   "outputs": [],
   "source": [
    "for index in df2.index:\n",
    "    if df2.loc[index, 'Class'] == \"['err', 'err', 'err', 'err']\":\n",
    "        df2.loc[index, 'Class'] = 'Other'"
   ]
  },
  {
   "cell_type": "code",
   "execution_count": 74,
   "id": "94ef79af-f29f-4328-b2ad-59ed2eca9dfc",
   "metadata": {},
   "outputs": [
    {
     "data": {
      "text/plain": [
       "array(['Organic compounds', 'Other', 'Inorganic compounds',\n",
       "       \"['err', 'err', 'err', 'err']\"], dtype=object)"
      ]
     },
     "execution_count": 74,
     "metadata": {},
     "output_type": "execute_result"
    }
   ],
   "source": [
    "df2['Kingdom'].astype(str).unique()"
   ]
  },
  {
   "cell_type": "code",
   "execution_count": 82,
   "id": "ef50a6e3-5eb4-41f0-9d78-f537a48a9d87",
   "metadata": {},
   "outputs": [
    {
     "name": "stderr",
     "output_type": "stream",
     "text": [
      "/tmp/ipykernel_3388/232978595.py:2: SettingWithCopyWarning: \n",
      "A value is trying to be set on a copy of a slice from a DataFrame\n",
      "\n",
      "See the caveats in the documentation: https://pandas.pydata.org/pandas-docs/stable/user_guide/indexing.html#returning-a-view-versus-a-copy\n",
      "  df2[~df2['Kingdom'].isin(['Organic compounds', 'Other', 'Inorganic compounds'])].loc[index, 'Kingdom'] = 'Other'\n"
     ]
    }
   ],
   "source": [
    "for index in df2[~df2['Kingdom'].isin(['Organic compounds', 'Other', 'Inorganic compounds'])].index:\n",
    "    df2[~df2['Kingdom'].isin(['Organic compounds', 'Other', 'Inorganic compounds'])].loc[index, 'Kingdom'] = 'Other'"
   ]
  },
  {
   "cell_type": "code",
   "execution_count": 84,
   "id": "d7561beb-fc78-43e3-8451-67050a7dab80",
   "metadata": {},
   "outputs": [
    {
     "data": {
      "text/plain": [
       "Organic compounds       13477\n",
       "Inorganic compounds       593\n",
       "Other                     133\n",
       "[err, err, err, err]       46\n",
       "Name: Kingdom, dtype: int64"
      ]
     },
     "execution_count": 84,
     "metadata": {},
     "output_type": "execute_result"
    }
   ],
   "source": [
    "df2.Kingdom.value_counts()"
   ]
  },
  {
   "cell_type": "code",
   "execution_count": 91,
   "id": "3f8357b3-f196-403a-b972-8c5bf264434d",
   "metadata": {},
   "outputs": [],
   "source": [
    "df2['Kingdom'] = df2['Kingdom'].astype(str)"
   ]
  },
  {
   "cell_type": "code",
   "execution_count": 92,
   "id": "fcf413d5-7f91-4907-b8e5-7b4f3066fad9",
   "metadata": {},
   "outputs": [
    {
     "data": {
      "text/plain": [
       "Organic compounds               13477\n",
       "Inorganic compounds               593\n",
       "Other                             133\n",
       "['err', 'err', 'err', 'err']       46\n",
       "Name: Kingdom, dtype: int64"
      ]
     },
     "execution_count": 92,
     "metadata": {},
     "output_type": "execute_result"
    }
   ],
   "source": [
    "df2.Kingdom.value_counts()"
   ]
  },
  {
   "cell_type": "code",
   "execution_count": 93,
   "id": "8419d591-299a-46c7-8d8a-1b9912f56afd",
   "metadata": {},
   "outputs": [],
   "source": [
    "for index in df2.index:\n",
    "    if df2.loc[index, 'Kingdom'] == \"['err', 'err', 'err', 'err']\":\n",
    "        df2.loc[index, 'Kingdom'] = 'Other'"
   ]
  },
  {
   "cell_type": "code",
   "execution_count": 94,
   "id": "71e33954-0c8e-437b-9a82-6b11131ad7b9",
   "metadata": {},
   "outputs": [
    {
     "data": {
      "text/plain": [
       "Organic compounds      13477\n",
       "Inorganic compounds      593\n",
       "Other                    179\n",
       "Name: Kingdom, dtype: int64"
      ]
     },
     "execution_count": 94,
     "metadata": {},
     "output_type": "execute_result"
    }
   ],
   "source": [
    "df2.Kingdom.value_counts()"
   ]
  },
  {
   "cell_type": "code",
   "execution_count": 96,
   "id": "6d6bf639-c1ea-49c0-b4b2-4ea0eb8a683d",
   "metadata": {},
   "outputs": [],
   "source": [
    "df2.to_csv(interim_dir+'chk.csv')"
   ]
  },
  {
   "cell_type": "code",
   "execution_count": 98,
   "id": "d305f93b-c220-43b7-8230-fde2988e9b19",
   "metadata": {},
   "outputs": [],
   "source": [
    "df3 = df2.copy()"
   ]
  },
  {
   "cell_type": "code",
   "execution_count": 102,
   "id": "d6c080be-747e-424e-a563-2855bf1e0687",
   "metadata": {},
   "outputs": [],
   "source": [
    "df3 = df3[['dtxsid', \n",
    "       'Kingdom', 'Superclass', 'Class']]"
   ]
  },
  {
   "cell_type": "code",
   "execution_count": 103,
   "id": "f69569b7-84cc-447f-ad22-c221fddf6bc2",
   "metadata": {},
   "outputs": [],
   "source": [
    "df3.to_csv(processed_dir+'ClassyFire.csv')"
   ]
  },
  {
   "cell_type": "code",
   "execution_count": null,
   "id": "21359396-950d-42d3-86cd-b0d8d658b8b3",
   "metadata": {},
   "outputs": [],
   "source": []
  },
  {
   "cell_type": "code",
   "execution_count": null,
   "id": "91100b39-6bff-4590-821a-a9611af02216",
   "metadata": {},
   "outputs": [],
   "source": []
  },
  {
   "cell_type": "code",
   "execution_count": null,
   "id": "56ca52fc-3ff5-4bf9-8330-4f21f7d8dace",
   "metadata": {},
   "outputs": [],
   "source": []
  }
 ],
 "metadata": {
  "kernelspec": {
   "display_name": "pfas_dap",
   "language": "python",
   "name": "pfas_dap"
  },
  "language_info": {
   "codemirror_mode": {
    "name": "ipython",
    "version": 3
   },
   "file_extension": ".py",
   "mimetype": "text/x-python",
   "name": "python",
   "nbconvert_exporter": "python",
   "pygments_lexer": "ipython3",
   "version": "3.9.10"
  }
 },
 "nbformat": 4,
 "nbformat_minor": 5
}
